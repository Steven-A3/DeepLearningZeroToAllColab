{
  "nbformat": 4,
  "nbformat_minor": 0,
  "metadata": {
    "colab": {
      "name": "CNN_FashionMNIST(keras).ipynb",
      "provenance": [],
      "collapsed_sections": [],
      "authorship_tag": "ABX9TyNG/6WGPlNd2NAj0d1d8q/y",
      "include_colab_link": true
    },
    "kernelspec": {
      "name": "python3",
      "display_name": "Python 3"
    }
  },
  "cells": [
    {
      "cell_type": "markdown",
      "metadata": {
        "id": "view-in-github",
        "colab_type": "text"
      },
      "source": [
        "<a href=\"https://colab.research.google.com/github/Steven-A3/DeepLearningZeroToAllColab/blob/master/CNN_FashionMNIST(keras).ipynb\" target=\"_parent\"><img src=\"https://colab.research.google.com/assets/colab-badge.svg\" alt=\"Open In Colab\"/></a>"
      ]
    },
    {
      "cell_type": "code",
      "metadata": {
        "id": "YMJnOrpflAxd",
        "colab_type": "code",
        "colab": {
          "base_uri": "https://localhost:8080/",
          "height": 1000
        },
        "outputId": "01fc0210-877f-4d3c-de92-e21e2fa93305"
      },
      "source": [
        "!pip install tensorflow==2.0.0"
      ],
      "execution_count": 1,
      "outputs": [
        {
          "output_type": "stream",
          "text": [
            "Collecting tensorflow==2.0.0\n",
            "\u001b[?25l  Downloading https://files.pythonhosted.org/packages/46/0f/7bd55361168bb32796b360ad15a25de6966c9c1beb58a8e30c01c8279862/tensorflow-2.0.0-cp36-cp36m-manylinux2010_x86_64.whl (86.3MB)\n",
            "\u001b[K     |████████████████████████████████| 86.3MB 100kB/s \n",
            "\u001b[?25hRequirement already satisfied: termcolor>=1.1.0 in /usr/local/lib/python3.6/dist-packages (from tensorflow==2.0.0) (1.1.0)\n",
            "Requirement already satisfied: keras-preprocessing>=1.0.5 in /usr/local/lib/python3.6/dist-packages (from tensorflow==2.0.0) (1.1.0)\n",
            "Requirement already satisfied: six>=1.10.0 in /usr/local/lib/python3.6/dist-packages (from tensorflow==2.0.0) (1.12.0)\n",
            "Collecting tensorflow-estimator<2.1.0,>=2.0.0\n",
            "\u001b[?25l  Downloading https://files.pythonhosted.org/packages/fc/08/8b927337b7019c374719145d1dceba21a8bb909b93b1ad6f8fb7d22c1ca1/tensorflow_estimator-2.0.1-py2.py3-none-any.whl (449kB)\n",
            "\u001b[K     |████████████████████████████████| 450kB 48.6MB/s \n",
            "\u001b[?25hCollecting tensorboard<2.1.0,>=2.0.0\n",
            "\u001b[?25l  Downloading https://files.pythonhosted.org/packages/76/54/99b9d5d52d5cb732f099baaaf7740403e83fe6b0cedde940fabd2b13d75a/tensorboard-2.0.2-py3-none-any.whl (3.8MB)\n",
            "\u001b[K     |████████████████████████████████| 3.8MB 50.7MB/s \n",
            "\u001b[?25hRequirement already satisfied: grpcio>=1.8.6 in /usr/local/lib/python3.6/dist-packages (from tensorflow==2.0.0) (1.15.0)\n",
            "Requirement already satisfied: opt-einsum>=2.3.2 in /usr/local/lib/python3.6/dist-packages (from tensorflow==2.0.0) (3.1.0)\n",
            "Requirement already satisfied: google-pasta>=0.1.6 in /usr/local/lib/python3.6/dist-packages (from tensorflow==2.0.0) (0.1.8)\n",
            "Requirement already satisfied: gast==0.2.2 in /usr/local/lib/python3.6/dist-packages (from tensorflow==2.0.0) (0.2.2)\n",
            "Requirement already satisfied: wrapt>=1.11.1 in /usr/local/lib/python3.6/dist-packages (from tensorflow==2.0.0) (1.11.2)\n",
            "Requirement already satisfied: numpy<2.0,>=1.16.0 in /usr/local/lib/python3.6/dist-packages (from tensorflow==2.0.0) (1.17.5)\n",
            "Requirement already satisfied: wheel>=0.26 in /usr/local/lib/python3.6/dist-packages (from tensorflow==2.0.0) (0.34.2)\n",
            "Requirement already satisfied: astor>=0.6.0 in /usr/local/lib/python3.6/dist-packages (from tensorflow==2.0.0) (0.8.1)\n",
            "Requirement already satisfied: keras-applications>=1.0.8 in /usr/local/lib/python3.6/dist-packages (from tensorflow==2.0.0) (1.0.8)\n",
            "Requirement already satisfied: protobuf>=3.6.1 in /usr/local/lib/python3.6/dist-packages (from tensorflow==2.0.0) (3.10.0)\n",
            "Requirement already satisfied: absl-py>=0.7.0 in /usr/local/lib/python3.6/dist-packages (from tensorflow==2.0.0) (0.9.0)\n",
            "Requirement already satisfied: setuptools>=41.0.0 in /usr/local/lib/python3.6/dist-packages (from tensorboard<2.1.0,>=2.0.0->tensorflow==2.0.0) (45.1.0)\n",
            "Requirement already satisfied: werkzeug>=0.11.15 in /usr/local/lib/python3.6/dist-packages (from tensorboard<2.1.0,>=2.0.0->tensorflow==2.0.0) (0.16.1)\n",
            "Collecting google-auth<2,>=1.6.3\n",
            "\u001b[?25l  Downloading https://files.pythonhosted.org/packages/1c/6d/7aae38a9022f982cf8167775c7fc299f203417b698c27080ce09060bba07/google_auth-1.11.0-py2.py3-none-any.whl (76kB)\n",
            "\u001b[K     |████████████████████████████████| 81kB 11.0MB/s \n",
            "\u001b[?25hRequirement already satisfied: google-auth-oauthlib<0.5,>=0.4.1 in /usr/local/lib/python3.6/dist-packages (from tensorboard<2.1.0,>=2.0.0->tensorflow==2.0.0) (0.4.1)\n",
            "Requirement already satisfied: requests<3,>=2.21.0 in /usr/local/lib/python3.6/dist-packages (from tensorboard<2.1.0,>=2.0.0->tensorflow==2.0.0) (2.21.0)\n",
            "Requirement already satisfied: markdown>=2.6.8 in /usr/local/lib/python3.6/dist-packages (from tensorboard<2.1.0,>=2.0.0->tensorflow==2.0.0) (3.1.1)\n",
            "Requirement already satisfied: h5py in /usr/local/lib/python3.6/dist-packages (from keras-applications>=1.0.8->tensorflow==2.0.0) (2.8.0)\n",
            "Requirement already satisfied: rsa<4.1,>=3.1.4 in /usr/local/lib/python3.6/dist-packages (from google-auth<2,>=1.6.3->tensorboard<2.1.0,>=2.0.0->tensorflow==2.0.0) (4.0)\n",
            "Requirement already satisfied: cachetools<5.0,>=2.0.0 in /usr/local/lib/python3.6/dist-packages (from google-auth<2,>=1.6.3->tensorboard<2.1.0,>=2.0.0->tensorflow==2.0.0) (4.0.0)\n",
            "Requirement already satisfied: pyasn1-modules>=0.2.1 in /usr/local/lib/python3.6/dist-packages (from google-auth<2,>=1.6.3->tensorboard<2.1.0,>=2.0.0->tensorflow==2.0.0) (0.2.8)\n",
            "Requirement already satisfied: requests-oauthlib>=0.7.0 in /usr/local/lib/python3.6/dist-packages (from google-auth-oauthlib<0.5,>=0.4.1->tensorboard<2.1.0,>=2.0.0->tensorflow==2.0.0) (1.3.0)\n",
            "Requirement already satisfied: certifi>=2017.4.17 in /usr/local/lib/python3.6/dist-packages (from requests<3,>=2.21.0->tensorboard<2.1.0,>=2.0.0->tensorflow==2.0.0) (2019.11.28)\n",
            "Requirement already satisfied: urllib3<1.25,>=1.21.1 in /usr/local/lib/python3.6/dist-packages (from requests<3,>=2.21.0->tensorboard<2.1.0,>=2.0.0->tensorflow==2.0.0) (1.24.3)\n",
            "Requirement already satisfied: chardet<3.1.0,>=3.0.2 in /usr/local/lib/python3.6/dist-packages (from requests<3,>=2.21.0->tensorboard<2.1.0,>=2.0.0->tensorflow==2.0.0) (3.0.4)\n",
            "Requirement already satisfied: idna<2.9,>=2.5 in /usr/local/lib/python3.6/dist-packages (from requests<3,>=2.21.0->tensorboard<2.1.0,>=2.0.0->tensorflow==2.0.0) (2.8)\n",
            "Requirement already satisfied: pyasn1>=0.1.3 in /usr/local/lib/python3.6/dist-packages (from rsa<4.1,>=3.1.4->google-auth<2,>=1.6.3->tensorboard<2.1.0,>=2.0.0->tensorflow==2.0.0) (0.4.8)\n",
            "Requirement already satisfied: oauthlib>=3.0.0 in /usr/local/lib/python3.6/dist-packages (from requests-oauthlib>=0.7.0->google-auth-oauthlib<0.5,>=0.4.1->tensorboard<2.1.0,>=2.0.0->tensorflow==2.0.0) (3.1.0)\n",
            "\u001b[31mERROR: tensorboard 2.0.2 has requirement grpcio>=1.24.3, but you'll have grpcio 1.15.0 which is incompatible.\u001b[0m\n",
            "\u001b[31mERROR: google-colab 1.0.0 has requirement google-auth~=1.4.0, but you'll have google-auth 1.11.0 which is incompatible.\u001b[0m\n",
            "Installing collected packages: tensorflow-estimator, google-auth, tensorboard, tensorflow\n",
            "  Found existing installation: tensorflow-estimator 1.15.1\n",
            "    Uninstalling tensorflow-estimator-1.15.1:\n",
            "      Successfully uninstalled tensorflow-estimator-1.15.1\n",
            "  Found existing installation: google-auth 1.4.2\n",
            "    Uninstalling google-auth-1.4.2:\n",
            "      Successfully uninstalled google-auth-1.4.2\n",
            "  Found existing installation: tensorboard 1.15.0\n",
            "    Uninstalling tensorboard-1.15.0:\n",
            "      Successfully uninstalled tensorboard-1.15.0\n",
            "  Found existing installation: tensorflow 1.15.0\n",
            "    Uninstalling tensorflow-1.15.0:\n",
            "      Successfully uninstalled tensorflow-1.15.0\n",
            "Successfully installed google-auth-1.11.0 tensorboard-2.0.2 tensorflow-2.0.0 tensorflow-estimator-2.0.1\n"
          ],
          "name": "stdout"
        },
        {
          "output_type": "display_data",
          "data": {
            "application/vnd.colab-display-data+json": {
              "pip_warning": {
                "packages": [
                  "google"
                ]
              }
            }
          },
          "metadata": {
            "tags": []
          }
        }
      ]
    },
    {
      "cell_type": "markdown",
      "metadata": {
        "id": "muMUkngPlF88",
        "colab_type": "text"
      },
      "source": [
        "### 환경설정"
      ]
    },
    {
      "cell_type": "code",
      "metadata": {
        "id": "qj4Eri30lFTb",
        "colab_type": "code",
        "colab": {
          "base_uri": "https://localhost:8080/",
          "height": 34
        },
        "outputId": "fb96bfd9-c1ca-4923-90a2-ac71164fcb79"
      },
      "source": [
        "import tensorflow as tf\n",
        "import numpy as np\n",
        "import matplotlib.pyplot as plt\n",
        "\n",
        "print(\"Tensorflow version:\", tf.__version__)"
      ],
      "execution_count": 29,
      "outputs": [
        {
          "output_type": "stream",
          "text": [
            "Tensorflow version: 2.0.0\n"
          ],
          "name": "stdout"
        }
      ]
    },
    {
      "cell_type": "markdown",
      "metadata": {
        "id": "-HvjwnLhlZIJ",
        "colab_type": "text"
      },
      "source": [
        "### 데이터\n",
        "- Fashion MNIST 데이터 세트 불러오기"
      ]
    },
    {
      "cell_type": "code",
      "metadata": {
        "id": "gvnWM8gnlXwI",
        "colab_type": "code",
        "colab": {}
      },
      "source": [
        "(x_train_all, y_train_all), (x_test, y_test) = tf.keras.datasets.fashion_mnist.load_data()"
      ],
      "execution_count": 0,
      "outputs": []
    },
    {
      "cell_type": "markdown",
      "metadata": {
        "id": "Nr_QeG7UmAyW",
        "colab_type": "text"
      },
      "source": [
        "- 데이터 크기 확인하기"
      ]
    },
    {
      "cell_type": "code",
      "metadata": {
        "id": "3aMP76FCmC-B",
        "colab_type": "code",
        "colab": {
          "base_uri": "https://localhost:8080/",
          "height": 83
        },
        "outputId": "7c462a45-62a9-4917-e494-26df37406010"
      },
      "source": [
        "print(\"x_train_all:\", x_train_all.shape)\n",
        "print(\"y_train_all:\", y_train_all.shape)\n",
        "print(\"x_test:\", x_test.shape)\n",
        "print(\"y_test:\", y_test.shape)"
      ],
      "execution_count": 31,
      "outputs": [
        {
          "output_type": "stream",
          "text": [
            "x_train_all: (60000, 28, 28)\n",
            "y_train_all: (60000,)\n",
            "x_test: (10000, 28, 28)\n",
            "y_test: (10000,)\n"
          ],
          "name": "stdout"
        }
      ]
    },
    {
      "cell_type": "markdown",
      "metadata": {
        "id": "x3REJw-tvf7U",
        "colab_type": "text"
      },
      "source": [
        "### **`imshow()`** 함수로 샘플 이미지 확인하기\n",
        "- **`imshow()`** 함수는 넘파이 배열을 입력 받아 이미지를 그립니다.\n",
        "- 여기서 사용하는 넘파이 배열은 2차원 배열이고 각 배열의 원소는 색을 표현하는 값으로 구성되어 있습니다.\n",
        "- 맷플롯립 패키지는 컬러맵(colormap)을 사용하여 이미지를 그리며 **`cmap`** 매개변수로 설정할 수 있습니다.\n",
        "- 패션 MNIST는 흑백 이미지이므로 cmap 매개변수를 \"gray\"로 지정했습니다.\n",
        " 넘파이 배열의 원소값이 0에 가까울수록 이미지가 검게 그려집니다."
      ]
    },
    {
      "cell_type": "code",
      "metadata": {
        "id": "wsUTjkXYvu4W",
        "colab_type": "code",
        "colab": {
          "base_uri": "https://localhost:8080/",
          "height": 265
        },
        "outputId": "dafe1a61-40b8-44fd-cd48-6b6294df957d"
      },
      "source": [
        "plt.imshow(x_train_all[0], cmap=\"gray\")\n",
        "plt.show()"
      ],
      "execution_count": 32,
      "outputs": [
        {
          "output_type": "display_data",
          "data": {
            "image/png": "[encoded data removed]",
            "text/plain": [
              "<Figure size 432x288 with 1 Axes>"
            ]
          },
          "metadata": {
            "tags": []
          }
        }
      ]
    },
    {
      "cell_type": "markdown",
      "metadata": {
        "id": "9RjxcfY_v2Ux",
        "colab_type": "text"
      },
      "source": [
        "#### 타깃의 내용과 의미 확인하기\n",
        "- 타깃(y_target_all)의 크기는 60,000개의 요소를 가진 1차원 배열입니다.\n",
        "- 이 배열에는 0~9까지의 정수로 이루어진 클래스 레이블이 들어 있습니다."
      ]
    },
    {
      "cell_type": "code",
      "metadata": {
        "id": "XaVzkGATv5w5",
        "colab_type": "code",
        "colab": {
          "base_uri": "https://localhost:8080/",
          "height": 34
        },
        "outputId": "590cf1bc-a75e-4779-a1d8-e1fa4f40e300"
      },
      "source": [
        "print(y_train_all[:10])"
      ],
      "execution_count": 33,
      "outputs": [
        {
          "output_type": "stream",
          "text": [
            "[9 0 0 3 0 2 7 2 5 5]\n"
          ],
          "name": "stdout"
        }
      ]
    },
    {
      "cell_type": "markdown",
      "metadata": {
        "id": "TE9DA76kv9Lz",
        "colab_type": "text"
      },
      "source": [
        "- 레이블 0부터 9까지의 의미는 다음과 같습니다."
      ]
    },
    {
      "cell_type": "code",
      "metadata": {
        "id": "hs9EjmDjv_02",
        "colab_type": "code",
        "colab": {}
      },
      "source": [
        "class_names = [\"티셔츠/윗도리\", \"바지\", \"스웨터\", \"드레스\", \"코트\", \"샌들\", \"셔츠\", \"스니커즈\", \"가방\", \"앵클부츠\"]"
      ],
      "execution_count": 0,
      "outputs": []
    },
    {
      "cell_type": "markdown",
      "metadata": {
        "id": "3zJwIQ_bwFT3",
        "colab_type": "text"
      },
      "source": [
        "- class_names 리스트를 사용하면 y_train_all에 들어 있는 원소가 어떤 레이블을 의미하는지 숫자가 아닌 이름으로 알아볼 수 있습니다."
      ]
    },
    {
      "cell_type": "code",
      "metadata": {
        "id": "pwxCPjf6wHFS",
        "colab_type": "code",
        "colab": {
          "base_uri": "https://localhost:8080/",
          "height": 34
        },
        "outputId": "f04d588a-c472-4046-82ed-e7cd6431516f"
      },
      "source": [
        "print(class_names[y_train_all[0]])"
      ],
      "execution_count": 35,
      "outputs": [
        {
          "output_type": "stream",
          "text": [
            "앵클부츠\n"
          ],
          "name": "stdout"
        }
      ]
    },
    {
      "cell_type": "markdown",
      "metadata": {
        "id": "KPi8dFBAwKms",
        "colab_type": "text"
      },
      "source": [
        "#### 타깃 분포 확인하기\n",
        "- 넘파이 bincount() 함수를 사용하면 배열에 있는 정수값의 등장 횟수를 세어 정수값에 해당하는 인덱스 위치에 저장합니다."
      ]
    },
    {
      "cell_type": "code",
      "metadata": {
        "id": "zuIcoq_lwRp6",
        "colab_type": "code",
        "colab": {
          "base_uri": "https://localhost:8080/",
          "height": 34
        },
        "outputId": "7c924ebb-045f-43a4-e996-e9203174fb28"
      },
      "source": [
        "np.bincount(y_train_all)"
      ],
      "execution_count": 36,
      "outputs": [
        {
          "output_type": "execute_result",
          "data": {
            "text/plain": [
              "array([6000, 6000, 6000, 6000, 6000, 6000, 6000, 6000, 6000, 6000])"
            ]
          },
          "metadata": {
            "tags": []
          },
          "execution_count": 36
        }
      ]
    },
    {
      "cell_type": "markdown",
      "metadata": {
        "id": "gteplE8wlsP7",
        "colab_type": "text"
      },
      "source": [
        "- 훈련 데이터 세트를 훈련 세트(train set)와 검증 세트(validation set)로 나누기"
      ]
    },
    {
      "cell_type": "code",
      "metadata": {
        "id": "H_OsMlBclnAv",
        "colab_type": "code",
        "colab": {}
      },
      "source": [
        "from sklearn.model_selection import train_test_split\n",
        "x_train, x_val, y_train, y_val = train_test_split(x_train_all, y_train_all, stratify=y_train_all, test_size=0.2, random_state=42)"
      ],
      "execution_count": 0,
      "outputs": []
    },
    {
      "cell_type": "code",
      "metadata": {
        "id": "HKnwzjiLmP3Y",
        "colab_type": "code",
        "colab": {
          "base_uri": "https://localhost:8080/",
          "height": 83
        },
        "outputId": "b4c679d6-f34a-4b44-a904-837c3a8edc29"
      },
      "source": [
        "print(\"x_train:\", x_train.shape)\n",
        "print(\"y_train:\", y_train.shape)\n",
        "print(\"x_val:\", x_val.shape)\n",
        "print(\"y_val:\", y_val.shape)"
      ],
      "execution_count": 38,
      "outputs": [
        {
          "output_type": "stream",
          "text": [
            "x_train: (48000, 28, 28)\n",
            "y_train: (48000,)\n",
            "x_val: (12000, 28, 28)\n",
            "y_val: (12000,)\n"
          ],
          "name": "stdout"
        }
      ]
    },
    {
      "cell_type": "code",
      "metadata": {
        "id": "IBydWDXHwWdK",
        "colab_type": "code",
        "colab": {
          "base_uri": "https://localhost:8080/",
          "height": 50
        },
        "outputId": "8ab18b43-7890-4713-ffa7-c0a73feae834"
      },
      "source": [
        "print(np.bincount(y_train))\n",
        "print(np.bincount(y_val))"
      ],
      "execution_count": 39,
      "outputs": [
        {
          "output_type": "stream",
          "text": [
            "[4800 4800 4800 4800 4800 4800 4800 4800 4800 4800]\n",
            "[1200 1200 1200 1200 1200 1200 1200 1200 1200 1200]\n"
          ],
          "name": "stdout"
        }
      ]
    },
    {
      "cell_type": "markdown",
      "metadata": {
        "id": "zMngCcFfma0k",
        "colab_type": "text"
      },
      "source": [
        "- **`Keras`**의 **`to_categorical()`** 함수를 사용하여 One-hot encoding"
      ]
    },
    {
      "cell_type": "code",
      "metadata": {
        "id": "yAOoLq4nmVuQ",
        "colab_type": "code",
        "colab": {}
      },
      "source": [
        "from tensorflow.keras.utils import to_categorical\n",
        "y_train_encoded = tf.keras.utils.to_categorical(y_train)\n",
        "y_val_encoded = tf.keras.utils.to_categorical(y_val)"
      ],
      "execution_count": 0,
      "outputs": []
    },
    {
      "cell_type": "code",
      "metadata": {
        "id": "GSU3iogamuUy",
        "colab_type": "code",
        "colab": {
          "base_uri": "https://localhost:8080/",
          "height": 34
        },
        "outputId": "fed597b8-fb4e-4fbc-f18a-b5c3dbbf7277"
      },
      "source": [
        "y_train[0]"
      ],
      "execution_count": 43,
      "outputs": [
        {
          "output_type": "execute_result",
          "data": {
            "text/plain": [
              "6"
            ]
          },
          "metadata": {
            "tags": []
          },
          "execution_count": 43
        }
      ]
    },
    {
      "cell_type": "code",
      "metadata": {
        "id": "acJDbxaOmoYV",
        "colab_type": "code",
        "colab": {
          "base_uri": "https://localhost:8080/",
          "height": 34
        },
        "outputId": "5376b4a3-1519-47e5-8775-2cf2860b1e6a"
      },
      "source": [
        "y_train_encoded[0]"
      ],
      "execution_count": 44,
      "outputs": [
        {
          "output_type": "execute_result",
          "data": {
            "text/plain": [
              "array([0., 0., 0., 0., 0., 0., 1., 0., 0., 0.], dtype=float32)"
            ]
          },
          "metadata": {
            "tags": []
          },
          "execution_count": 44
        }
      ]
    },
    {
      "cell_type": "markdown",
      "metadata": {
        "id": "VUiyR_APnAQA",
        "colab_type": "text"
      },
      "source": [
        "#### 입력 데이터 준비하기\n",
        "- CNN의 입력 데이터(이미지)는 컬러 채널이 필요합니다.\n",
        "- 넘파이의 **`reshape()`** 메서드를 사용하면 마지막 차원을 간단히 추가할 수 있습니다."
      ]
    },
    {
      "cell_type": "code",
      "metadata": {
        "id": "wYQZzuJRnN4u",
        "colab_type": "code",
        "colab": {
          "base_uri": "https://localhost:8080/",
          "height": 34
        },
        "outputId": "b8a56a6f-9202-4497-aa47-c00de0ddaf6c"
      },
      "source": [
        "x_train.shape"
      ],
      "execution_count": 45,
      "outputs": [
        {
          "output_type": "execute_result",
          "data": {
            "text/plain": [
              "(48000, 28, 28)"
            ]
          },
          "metadata": {
            "tags": []
          },
          "execution_count": 45
        }
      ]
    },
    {
      "cell_type": "code",
      "metadata": {
        "id": "gOt0SDtbmqDY",
        "colab_type": "code",
        "colab": {}
      },
      "source": [
        "x_train = x_train.reshape(-1, 28, 28, 1)\n",
        "x_val   = x_val.reshape(-1, 28, 28, 1)"
      ],
      "execution_count": 0,
      "outputs": []
    },
    {
      "cell_type": "markdown",
      "metadata": {
        "id": "y0CLBG-lnWN7",
        "colab_type": "text"
      },
      "source": [
        "- 준비된 입력 데이터를 확인해보면 마지막 차원이 추가된 것을 볼 수 있습니다."
      ]
    },
    {
      "cell_type": "code",
      "metadata": {
        "id": "8d7GGMRtnSsn",
        "colab_type": "code",
        "colab": {
          "base_uri": "https://localhost:8080/",
          "height": 34
        },
        "outputId": "bc33895f-7243-4ee0-8990-7056d724bc82"
      },
      "source": [
        "x_train.shape"
      ],
      "execution_count": 47,
      "outputs": [
        {
          "output_type": "execute_result",
          "data": {
            "text/plain": [
              "(48000, 28, 28, 1)"
            ]
          },
          "metadata": {
            "tags": []
          },
          "execution_count": 47
        }
      ]
    },
    {
      "cell_type": "markdown",
      "metadata": {
        "id": "NE6UbfOnqg2y",
        "colab_type": "text"
      },
      "source": [
        "- 입력 데이터 표준화 전처리하기\n",
        "  - 입력 데이터는 이미지이므로 0~255 사이의 정수로 픽셀 강도를 표현합니다.\n",
        "  - 입력 데이터를 255로 나누어 0~1 사이의 값으로 조정합니다."
      ]
    },
    {
      "cell_type": "code",
      "metadata": {
        "id": "SbhY9tIMqhlU",
        "colab_type": "code",
        "colab": {
          "base_uri": "https://localhost:8080/",
          "height": 1000
        },
        "outputId": "0bef6c76-a6b3-46e9-f8bb-b1494e6de0d5"
      },
      "source": [
        "x_train[0]"
      ],
      "execution_count": 48,
      "outputs": [
        {
          "output_type": "execute_result",
          "data": {
            "text/plain": [
              "array([[[  0],\n",
              "        [  0],\n",
              "        [  0],\n",
              "        [  0],\n",
              "        [  1],\n",
              "        [  1],\n",
              "        [  0],\n",
              "        [  0],\n",
              "        [  0],\n",
              "        [ 25],\n",
              "        [ 55],\n",
              "        [  0],\n",
              "        [  0],\n",
              "        [  0],\n",
              "        [  0],\n",
              "        [  0],\n",
              "        [  0],\n",
              "        [ 43],\n",
              "        [ 24],\n",
              "        [  0],\n",
              "        [  0],\n",
              "        [  0],\n",
              "        [  1],\n",
              "        [  0],\n",
              "        [  0],\n",
              "        [  0],\n",
              "        [  0],\n",
              "        [  0]],\n",
              "\n",
              "       [[  0],\n",
              "        [  0],\n",
              "        [  0],\n",
              "        [  1],\n",
              "        [  1],\n",
              "        [  1],\n",
              "        [  0],\n",
              "        [ 25],\n",
              "        [147],\n",
              "        [189],\n",
              "        [181],\n",
              "        [ 96],\n",
              "        [ 51],\n",
              "        [ 49],\n",
              "        [ 55],\n",
              "        [ 37],\n",
              "        [ 76],\n",
              "        [217],\n",
              "        [172],\n",
              "        [125],\n",
              "        [ 20],\n",
              "        [  0],\n",
              "        [  2],\n",
              "        [  1],\n",
              "        [  0],\n",
              "        [  0],\n",
              "        [  0],\n",
              "        [  0]],\n",
              "\n",
              "       [[  0],\n",
              "        [  0],\n",
              "        [  0],\n",
              "        [  1],\n",
              "        [  3],\n",
              "        [  0],\n",
              "        [ 82],\n",
              "        [206],\n",
              "        [202],\n",
              "        [190],\n",
              "        [178],\n",
              "        [188],\n",
              "        [239],\n",
              "        [152],\n",
              "        [ 99],\n",
              "        [199],\n",
              "        [201],\n",
              "        [162],\n",
              "        [176],\n",
              "        [192],\n",
              "        [185],\n",
              "        [ 71],\n",
              "        [  0],\n",
              "        [  2],\n",
              "        [  0],\n",
              "        [  0],\n",
              "        [  0],\n",
              "        [  0]],\n",
              "\n",
              "       [[  0],\n",
              "        [  0],\n",
              "        [  0],\n",
              "        [  1],\n",
              "        [  0],\n",
              "        [  0],\n",
              "        [202],\n",
              "        [196],\n",
              "        [181],\n",
              "        [188],\n",
              "        [183],\n",
              "        [169],\n",
              "        [179],\n",
              "        [160],\n",
              "        [107],\n",
              "        [198],\n",
              "        [166],\n",
              "        [167],\n",
              "        [178],\n",
              "        [170],\n",
              "        [183],\n",
              "        [166],\n",
              "        [  0],\n",
              "        [  0],\n",
              "        [  1],\n",
              "        [  0],\n",
              "        [  0],\n",
              "        [  0]],\n",
              "\n",
              "       [[  0],\n",
              "        [  0],\n",
              "        [  0],\n",
              "        [  1],\n",
              "        [  0],\n",
              "        [ 48],\n",
              "        [216],\n",
              "        [184],\n",
              "        [185],\n",
              "        [185],\n",
              "        [190],\n",
              "        [175],\n",
              "        [164],\n",
              "        [188],\n",
              "        [198],\n",
              "        [188],\n",
              "        [157],\n",
              "        [183],\n",
              "        [176],\n",
              "        [171],\n",
              "        [167],\n",
              "        [175],\n",
              "        [ 26],\n",
              "        [  0],\n",
              "        [  2],\n",
              "        [  0],\n",
              "        [  0],\n",
              "        [  0]],\n",
              "\n",
              "       [[  0],\n",
              "        [  0],\n",
              "        [  0],\n",
              "        [  0],\n",
              "        [  0],\n",
              "        [ 90],\n",
              "        [224],\n",
              "        [183],\n",
              "        [185],\n",
              "        [184],\n",
              "        [183],\n",
              "        [190],\n",
              "        [164],\n",
              "        [169],\n",
              "        [193],\n",
              "        [158],\n",
              "        [170],\n",
              "        [174],\n",
              "        [176],\n",
              "        [175],\n",
              "        [165],\n",
              "        [180],\n",
              "        [ 62],\n",
              "        [  0],\n",
              "        [  0],\n",
              "        [  0],\n",
              "        [  0],\n",
              "        [  0]],\n",
              "\n",
              "       [[  0],\n",
              "        [  0],\n",
              "        [  0],\n",
              "        [  0],\n",
              "        [  0],\n",
              "        [123],\n",
              "        [228],\n",
              "        [184],\n",
              "        [180],\n",
              "        [183],\n",
              "        [178],\n",
              "        [183],\n",
              "        [172],\n",
              "        [172],\n",
              "        [172],\n",
              "        [161],\n",
              "        [179],\n",
              "        [170],\n",
              "        [174],\n",
              "        [175],\n",
              "        [165],\n",
              "        [181],\n",
              "        [106],\n",
              "        [  0],\n",
              "        [  0],\n",
              "        [  0],\n",
              "        [  0],\n",
              "        [  0]],\n",
              "\n",
              "       [[  0],\n",
              "        [  0],\n",
              "        [  0],\n",
              "        [  0],\n",
              "        [  0],\n",
              "        [156],\n",
              "        [229],\n",
              "        [188],\n",
              "        [175],\n",
              "        [178],\n",
              "        [175],\n",
              "        [175],\n",
              "        [190],\n",
              "        [157],\n",
              "        [157],\n",
              "        [180],\n",
              "        [169],\n",
              "        [169],\n",
              "        [172],\n",
              "        [171],\n",
              "        [161],\n",
              "        [179],\n",
              "        [143],\n",
              "        [  0],\n",
              "        [  0],\n",
              "        [  0],\n",
              "        [  0],\n",
              "        [  0]],\n",
              "\n",
              "       [[  0],\n",
              "        [  0],\n",
              "        [  0],\n",
              "        [  0],\n",
              "        [  0],\n",
              "        [181],\n",
              "        [228],\n",
              "        [190],\n",
              "        [174],\n",
              "        [174],\n",
              "        [176],\n",
              "        [175],\n",
              "        [197],\n",
              "        [167],\n",
              "        [167],\n",
              "        [183],\n",
              "        [166],\n",
              "        [169],\n",
              "        [171],\n",
              "        [170],\n",
              "        [162],\n",
              "        [175],\n",
              "        [172],\n",
              "        [  0],\n",
              "        [  0],\n",
              "        [  0],\n",
              "        [  0],\n",
              "        [  0]],\n",
              "\n",
              "       [[  0],\n",
              "        [  0],\n",
              "        [  0],\n",
              "        [  0],\n",
              "        [  6],\n",
              "        [175],\n",
              "        [221],\n",
              "        [192],\n",
              "        [170],\n",
              "        [174],\n",
              "        [176],\n",
              "        [175],\n",
              "        [193],\n",
              "        [176],\n",
              "        [172],\n",
              "        [175],\n",
              "        [167],\n",
              "        [169],\n",
              "        [169],\n",
              "        [167],\n",
              "        [160],\n",
              "        [169],\n",
              "        [196],\n",
              "        [  0],\n",
              "        [  0],\n",
              "        [  0],\n",
              "        [  0],\n",
              "        [  0]],\n",
              "\n",
              "       [[  0],\n",
              "        [  0],\n",
              "        [  0],\n",
              "        [  0],\n",
              "        [ 23],\n",
              "        [184],\n",
              "        [216],\n",
              "        [206],\n",
              "        [164],\n",
              "        [175],\n",
              "        [176],\n",
              "        [175],\n",
              "        [192],\n",
              "        [178],\n",
              "        [175],\n",
              "        [174],\n",
              "        [167],\n",
              "        [166],\n",
              "        [169],\n",
              "        [169],\n",
              "        [165],\n",
              "        [169],\n",
              "        [175],\n",
              "        [  6],\n",
              "        [  0],\n",
              "        [  0],\n",
              "        [  0],\n",
              "        [  0]],\n",
              "\n",
              "       [[  0],\n",
              "        [  0],\n",
              "        [  0],\n",
              "        [  0],\n",
              "        [ 53],\n",
              "        [189],\n",
              "        [208],\n",
              "        [219],\n",
              "        [161],\n",
              "        [176],\n",
              "        [176],\n",
              "        [175],\n",
              "        [190],\n",
              "        [181],\n",
              "        [178],\n",
              "        [172],\n",
              "        [169],\n",
              "        [165],\n",
              "        [170],\n",
              "        [169],\n",
              "        [166],\n",
              "        [167],\n",
              "        [183],\n",
              "        [ 26],\n",
              "        [  0],\n",
              "        [  0],\n",
              "        [  0],\n",
              "        [  0]],\n",
              "\n",
              "       [[  0],\n",
              "        [  0],\n",
              "        [  0],\n",
              "        [  0],\n",
              "        [ 84],\n",
              "        [194],\n",
              "        [207],\n",
              "        [216],\n",
              "        [157],\n",
              "        [176],\n",
              "        [175],\n",
              "        [176],\n",
              "        [193],\n",
              "        [183],\n",
              "        [180],\n",
              "        [172],\n",
              "        [167],\n",
              "        [167],\n",
              "        [166],\n",
              "        [170],\n",
              "        [165],\n",
              "        [167],\n",
              "        [185],\n",
              "        [ 61],\n",
              "        [  0],\n",
              "        [  0],\n",
              "        [  0],\n",
              "        [  0]],\n",
              "\n",
              "       [[  0],\n",
              "        [  0],\n",
              "        [  0],\n",
              "        [  0],\n",
              "        [114],\n",
              "        [193],\n",
              "        [211],\n",
              "        [207],\n",
              "        [157],\n",
              "        [175],\n",
              "        [175],\n",
              "        [176],\n",
              "        [196],\n",
              "        [183],\n",
              "        [181],\n",
              "        [172],\n",
              "        [166],\n",
              "        [166],\n",
              "        [165],\n",
              "        [170],\n",
              "        [164],\n",
              "        [169],\n",
              "        [187],\n",
              "        [ 88],\n",
              "        [  0],\n",
              "        [  0],\n",
              "        [  0],\n",
              "        [  0]],\n",
              "\n",
              "       [[  0],\n",
              "        [  0],\n",
              "        [  0],\n",
              "        [  0],\n",
              "        [155],\n",
              "        [192],\n",
              "        [219],\n",
              "        [194],\n",
              "        [161],\n",
              "        [172],\n",
              "        [178],\n",
              "        [176],\n",
              "        [197],\n",
              "        [185],\n",
              "        [181],\n",
              "        [169],\n",
              "        [166],\n",
              "        [165],\n",
              "        [165],\n",
              "        [171],\n",
              "        [164],\n",
              "        [171],\n",
              "        [184],\n",
              "        [108],\n",
              "        [  0],\n",
              "        [  0],\n",
              "        [  0],\n",
              "        [  0]],\n",
              "\n",
              "       [[  0],\n",
              "        [  0],\n",
              "        [  0],\n",
              "        [  0],\n",
              "        [181],\n",
              "        [192],\n",
              "        [225],\n",
              "        [185],\n",
              "        [162],\n",
              "        [172],\n",
              "        [179],\n",
              "        [176],\n",
              "        [199],\n",
              "        [185],\n",
              "        [183],\n",
              "        [169],\n",
              "        [166],\n",
              "        [164],\n",
              "        [164],\n",
              "        [172],\n",
              "        [161],\n",
              "        [170],\n",
              "        [184],\n",
              "        [135],\n",
              "        [  0],\n",
              "        [  0],\n",
              "        [  0],\n",
              "        [  0]],\n",
              "\n",
              "       [[  0],\n",
              "        [  0],\n",
              "        [  0],\n",
              "        [  0],\n",
              "        [210],\n",
              "        [189],\n",
              "        [233],\n",
              "        [180],\n",
              "        [161],\n",
              "        [171],\n",
              "        [179],\n",
              "        [179],\n",
              "        [201],\n",
              "        [185],\n",
              "        [190],\n",
              "        [166],\n",
              "        [166],\n",
              "        [164],\n",
              "        [164],\n",
              "        [176],\n",
              "        [158],\n",
              "        [171],\n",
              "        [183],\n",
              "        [155],\n",
              "        [  0],\n",
              "        [  0],\n",
              "        [  0],\n",
              "        [  0]],\n",
              "\n",
              "       [[  0],\n",
              "        [  0],\n",
              "        [  0],\n",
              "        [  0],\n",
              "        [229],\n",
              "        [184],\n",
              "        [234],\n",
              "        [176],\n",
              "        [164],\n",
              "        [169],\n",
              "        [180],\n",
              "        [183],\n",
              "        [198],\n",
              "        [185],\n",
              "        [193],\n",
              "        [166],\n",
              "        [167],\n",
              "        [164],\n",
              "        [165],\n",
              "        [179],\n",
              "        [157],\n",
              "        [176],\n",
              "        [179],\n",
              "        [174],\n",
              "        [  0],\n",
              "        [  0],\n",
              "        [  0],\n",
              "        [  0]],\n",
              "\n",
              "       [[  0],\n",
              "        [  0],\n",
              "        [  0],\n",
              "        [  2],\n",
              "        [237],\n",
              "        [183],\n",
              "        [237],\n",
              "        [171],\n",
              "        [166],\n",
              "        [167],\n",
              "        [178],\n",
              "        [188],\n",
              "        [196],\n",
              "        [187],\n",
              "        [196],\n",
              "        [164],\n",
              "        [166],\n",
              "        [165],\n",
              "        [166],\n",
              "        [179],\n",
              "        [157],\n",
              "        [178],\n",
              "        [176],\n",
              "        [185],\n",
              "        [  2],\n",
              "        [  0],\n",
              "        [  0],\n",
              "        [  0]],\n",
              "\n",
              "       [[  0],\n",
              "        [  0],\n",
              "        [  0],\n",
              "        [ 24],\n",
              "        [246],\n",
              "        [184],\n",
              "        [255],\n",
              "        [172],\n",
              "        [166],\n",
              "        [169],\n",
              "        [180],\n",
              "        [192],\n",
              "        [196],\n",
              "        [189],\n",
              "        [201],\n",
              "        [161],\n",
              "        [164],\n",
              "        [165],\n",
              "        [165],\n",
              "        [181],\n",
              "        [161],\n",
              "        [181],\n",
              "        [176],\n",
              "        [189],\n",
              "        [ 17],\n",
              "        [  0],\n",
              "        [  0],\n",
              "        [  0]],\n",
              "\n",
              "       [[  0],\n",
              "        [  0],\n",
              "        [  0],\n",
              "        [ 52],\n",
              "        [247],\n",
              "        [187],\n",
              "        [238],\n",
              "        [166],\n",
              "        [170],\n",
              "        [170],\n",
              "        [180],\n",
              "        [198],\n",
              "        [193],\n",
              "        [189],\n",
              "        [207],\n",
              "        [160],\n",
              "        [165],\n",
              "        [165],\n",
              "        [164],\n",
              "        [180],\n",
              "        [162],\n",
              "        [187],\n",
              "        [175],\n",
              "        [192],\n",
              "        [ 52],\n",
              "        [  0],\n",
              "        [  0],\n",
              "        [  0]],\n",
              "\n",
              "       [[  0],\n",
              "        [  0],\n",
              "        [  0],\n",
              "        [ 82],\n",
              "        [215],\n",
              "        [192],\n",
              "        [239],\n",
              "        [158],\n",
              "        [169],\n",
              "        [174],\n",
              "        [179],\n",
              "        [207],\n",
              "        [189],\n",
              "        [187],\n",
              "        [213],\n",
              "        [160],\n",
              "        [167],\n",
              "        [166],\n",
              "        [165],\n",
              "        [181],\n",
              "        [169],\n",
              "        [190],\n",
              "        [170],\n",
              "        [192],\n",
              "        [ 73],\n",
              "        [  0],\n",
              "        [  0],\n",
              "        [  0]],\n",
              "\n",
              "       [[  0],\n",
              "        [  0],\n",
              "        [  0],\n",
              "        [102],\n",
              "        [212],\n",
              "        [201],\n",
              "        [212],\n",
              "        [166],\n",
              "        [169],\n",
              "        [171],\n",
              "        [179],\n",
              "        [217],\n",
              "        [189],\n",
              "        [187],\n",
              "        [217],\n",
              "        [157],\n",
              "        [170],\n",
              "        [167],\n",
              "        [166],\n",
              "        [178],\n",
              "        [171],\n",
              "        [196],\n",
              "        [169],\n",
              "        [171],\n",
              "        [ 84],\n",
              "        [  0],\n",
              "        [  0],\n",
              "        [  0]],\n",
              "\n",
              "       [[  0],\n",
              "        [  0],\n",
              "        [  0],\n",
              "        [166],\n",
              "        [211],\n",
              "        [213],\n",
              "        [193],\n",
              "        [164],\n",
              "        [170],\n",
              "        [170],\n",
              "        [180],\n",
              "        [226],\n",
              "        [181],\n",
              "        [187],\n",
              "        [228],\n",
              "        [157],\n",
              "        [167],\n",
              "        [167],\n",
              "        [158],\n",
              "        [188],\n",
              "        [196],\n",
              "        [128],\n",
              "        [170],\n",
              "        [179],\n",
              "        [128],\n",
              "        [  0],\n",
              "        [  0],\n",
              "        [  0]],\n",
              "\n",
              "       [[  0],\n",
              "        [  0],\n",
              "        [  0],\n",
              "        [ 35],\n",
              "        [ 92],\n",
              "        [129],\n",
              "        [199],\n",
              "        [184],\n",
              "        [171],\n",
              "        [179],\n",
              "        [187],\n",
              "        [246],\n",
              "        [170],\n",
              "        [189],\n",
              "        [240],\n",
              "        [156],\n",
              "        [170],\n",
              "        [174],\n",
              "        [166],\n",
              "        [190],\n",
              "        [230],\n",
              "        [139],\n",
              "        [102],\n",
              "        [139],\n",
              "        [ 89],\n",
              "        [  0],\n",
              "        [  0],\n",
              "        [  0]],\n",
              "\n",
              "       [[  0],\n",
              "        [  0],\n",
              "        [  0],\n",
              "        [  0],\n",
              "        [  0],\n",
              "        [  0],\n",
              "        [142],\n",
              "        [213],\n",
              "        [166],\n",
              "        [151],\n",
              "        [178],\n",
              "        [235],\n",
              "        [190],\n",
              "        [162],\n",
              "        [244],\n",
              "        [179],\n",
              "        [183],\n",
              "        [160],\n",
              "        [142],\n",
              "        [164],\n",
              "        [208],\n",
              "        [125],\n",
              "        [  0],\n",
              "        [  0],\n",
              "        [  0],\n",
              "        [  0],\n",
              "        [  0],\n",
              "        [  0]],\n",
              "\n",
              "       [[  0],\n",
              "        [  0],\n",
              "        [  0],\n",
              "        [  0],\n",
              "        [  1],\n",
              "        [  2],\n",
              "        [  0],\n",
              "        [ 96],\n",
              "        [181],\n",
              "        [179],\n",
              "        [178],\n",
              "        [178],\n",
              "        [185],\n",
              "        [160],\n",
              "        [208],\n",
              "        [171],\n",
              "        [167],\n",
              "        [167],\n",
              "        [184],\n",
              "        [174],\n",
              "        [105],\n",
              "        [  0],\n",
              "        [  1],\n",
              "        [  2],\n",
              "        [  1],\n",
              "        [  0],\n",
              "        [  0],\n",
              "        [  0]],\n",
              "\n",
              "       [[  0],\n",
              "        [  0],\n",
              "        [  0],\n",
              "        [  0],\n",
              "        [  0],\n",
              "        [  0],\n",
              "        [  2],\n",
              "        [  0],\n",
              "        [  1],\n",
              "        [ 52],\n",
              "        [ 83],\n",
              "        [ 98],\n",
              "        [112],\n",
              "        [134],\n",
              "        [146],\n",
              "        [105],\n",
              "        [ 89],\n",
              "        [ 73],\n",
              "        [ 49],\n",
              "        [  0],\n",
              "        [  0],\n",
              "        [  0],\n",
              "        [  0],\n",
              "        [  0],\n",
              "        [  0],\n",
              "        [  0],\n",
              "        [  0],\n",
              "        [  0]]], dtype=uint8)"
            ]
          },
          "metadata": {
            "tags": []
          },
          "execution_count": 48
        }
      ]
    },
    {
      "cell_type": "code",
      "metadata": {
        "id": "pUcS4-PlqfqA",
        "colab_type": "code",
        "colab": {}
      },
      "source": [
        "x_train = x_train / 255\n",
        "x_val   = x_val   / 255"
      ],
      "execution_count": 0,
      "outputs": []
    },
    {
      "cell_type": "code",
      "metadata": {
        "id": "G5WguS1yqrkK",
        "colab_type": "code",
        "colab": {
          "base_uri": "https://localhost:8080/",
          "height": 1000
        },
        "outputId": "c848938e-5b7a-4a05-aa0c-4eb1d2f2dd24"
      },
      "source": [
        "x_train[0]"
      ],
      "execution_count": 50,
      "outputs": [
        {
          "output_type": "execute_result",
          "data": {
            "text/plain": [
              "array([[[0.        ],\n",
              "        [0.        ],\n",
              "        [0.        ],\n",
              "        [0.        ],\n",
              "        [0.00392157],\n",
              "        [0.00392157],\n",
              "        [0.        ],\n",
              "        [0.        ],\n",
              "        [0.        ],\n",
              "        [0.09803922],\n",
              "        [0.21568627],\n",
              "        [0.        ],\n",
              "        [0.        ],\n",
              "        [0.        ],\n",
              "        [0.        ],\n",
              "        [0.        ],\n",
              "        [0.        ],\n",
              "        [0.16862745],\n",
              "        [0.09411765],\n",
              "        [0.        ],\n",
              "        [0.        ],\n",
              "        [0.        ],\n",
              "        [0.00392157],\n",
              "        [0.        ],\n",
              "        [0.        ],\n",
              "        [0.        ],\n",
              "        [0.        ],\n",
              "        [0.        ]],\n",
              "\n",
              "       [[0.        ],\n",
              "        [0.        ],\n",
              "        [0.        ],\n",
              "        [0.00392157],\n",
              "        [0.00392157],\n",
              "        [0.00392157],\n",
              "        [0.        ],\n",
              "        [0.09803922],\n",
              "        [0.57647059],\n",
              "        [0.74117647],\n",
              "        [0.70980392],\n",
              "        [0.37647059],\n",
              "        [0.2       ],\n",
              "        [0.19215686],\n",
              "        [0.21568627],\n",
              "        [0.14509804],\n",
              "        [0.29803922],\n",
              "        [0.85098039],\n",
              "        [0.6745098 ],\n",
              "        [0.49019608],\n",
              "        [0.07843137],\n",
              "        [0.        ],\n",
              "        [0.00784314],\n",
              "        [0.00392157],\n",
              "        [0.        ],\n",
              "        [0.        ],\n",
              "        [0.        ],\n",
              "        [0.        ]],\n",
              "\n",
              "       [[0.        ],\n",
              "        [0.        ],\n",
              "        [0.        ],\n",
              "        [0.00392157],\n",
              "        [0.01176471],\n",
              "        [0.        ],\n",
              "        [0.32156863],\n",
              "        [0.80784314],\n",
              "        [0.79215686],\n",
              "        [0.74509804],\n",
              "        [0.69803922],\n",
              "        [0.7372549 ],\n",
              "        [0.9372549 ],\n",
              "        [0.59607843],\n",
              "        [0.38823529],\n",
              "        [0.78039216],\n",
              "        [0.78823529],\n",
              "        [0.63529412],\n",
              "        [0.69019608],\n",
              "        [0.75294118],\n",
              "        [0.7254902 ],\n",
              "        [0.27843137],\n",
              "        [0.        ],\n",
              "        [0.00784314],\n",
              "        [0.        ],\n",
              "        [0.        ],\n",
              "        [0.        ],\n",
              "        [0.        ]],\n",
              "\n",
              "       [[0.        ],\n",
              "        [0.        ],\n",
              "        [0.        ],\n",
              "        [0.00392157],\n",
              "        [0.        ],\n",
              "        [0.        ],\n",
              "        [0.79215686],\n",
              "        [0.76862745],\n",
              "        [0.70980392],\n",
              "        [0.7372549 ],\n",
              "        [0.71764706],\n",
              "        [0.6627451 ],\n",
              "        [0.70196078],\n",
              "        [0.62745098],\n",
              "        [0.41960784],\n",
              "        [0.77647059],\n",
              "        [0.65098039],\n",
              "        [0.65490196],\n",
              "        [0.69803922],\n",
              "        [0.66666667],\n",
              "        [0.71764706],\n",
              "        [0.65098039],\n",
              "        [0.        ],\n",
              "        [0.        ],\n",
              "        [0.00392157],\n",
              "        [0.        ],\n",
              "        [0.        ],\n",
              "        [0.        ]],\n",
              "\n",
              "       [[0.        ],\n",
              "        [0.        ],\n",
              "        [0.        ],\n",
              "        [0.00392157],\n",
              "        [0.        ],\n",
              "        [0.18823529],\n",
              "        [0.84705882],\n",
              "        [0.72156863],\n",
              "        [0.7254902 ],\n",
              "        [0.7254902 ],\n",
              "        [0.74509804],\n",
              "        [0.68627451],\n",
              "        [0.64313725],\n",
              "        [0.7372549 ],\n",
              "        [0.77647059],\n",
              "        [0.7372549 ],\n",
              "        [0.61568627],\n",
              "        [0.71764706],\n",
              "        [0.69019608],\n",
              "        [0.67058824],\n",
              "        [0.65490196],\n",
              "        [0.68627451],\n",
              "        [0.10196078],\n",
              "        [0.        ],\n",
              "        [0.00784314],\n",
              "        [0.        ],\n",
              "        [0.        ],\n",
              "        [0.        ]],\n",
              "\n",
              "       [[0.        ],\n",
              "        [0.        ],\n",
              "        [0.        ],\n",
              "        [0.        ],\n",
              "        [0.        ],\n",
              "        [0.35294118],\n",
              "        [0.87843137],\n",
              "        [0.71764706],\n",
              "        [0.7254902 ],\n",
              "        [0.72156863],\n",
              "        [0.71764706],\n",
              "        [0.74509804],\n",
              "        [0.64313725],\n",
              "        [0.6627451 ],\n",
              "        [0.75686275],\n",
              "        [0.61960784],\n",
              "        [0.66666667],\n",
              "        [0.68235294],\n",
              "        [0.69019608],\n",
              "        [0.68627451],\n",
              "        [0.64705882],\n",
              "        [0.70588235],\n",
              "        [0.24313725],\n",
              "        [0.        ],\n",
              "        [0.        ],\n",
              "        [0.        ],\n",
              "        [0.        ],\n",
              "        [0.        ]],\n",
              "\n",
              "       [[0.        ],\n",
              "        [0.        ],\n",
              "        [0.        ],\n",
              "        [0.        ],\n",
              "        [0.        ],\n",
              "        [0.48235294],\n",
              "        [0.89411765],\n",
              "        [0.72156863],\n",
              "        [0.70588235],\n",
              "        [0.71764706],\n",
              "        [0.69803922],\n",
              "        [0.71764706],\n",
              "        [0.6745098 ],\n",
              "        [0.6745098 ],\n",
              "        [0.6745098 ],\n",
              "        [0.63137255],\n",
              "        [0.70196078],\n",
              "        [0.66666667],\n",
              "        [0.68235294],\n",
              "        [0.68627451],\n",
              "        [0.64705882],\n",
              "        [0.70980392],\n",
              "        [0.41568627],\n",
              "        [0.        ],\n",
              "        [0.        ],\n",
              "        [0.        ],\n",
              "        [0.        ],\n",
              "        [0.        ]],\n",
              "\n",
              "       [[0.        ],\n",
              "        [0.        ],\n",
              "        [0.        ],\n",
              "        [0.        ],\n",
              "        [0.        ],\n",
              "        [0.61176471],\n",
              "        [0.89803922],\n",
              "        [0.7372549 ],\n",
              "        [0.68627451],\n",
              "        [0.69803922],\n",
              "        [0.68627451],\n",
              "        [0.68627451],\n",
              "        [0.74509804],\n",
              "        [0.61568627],\n",
              "        [0.61568627],\n",
              "        [0.70588235],\n",
              "        [0.6627451 ],\n",
              "        [0.6627451 ],\n",
              "        [0.6745098 ],\n",
              "        [0.67058824],\n",
              "        [0.63137255],\n",
              "        [0.70196078],\n",
              "        [0.56078431],\n",
              "        [0.        ],\n",
              "        [0.        ],\n",
              "        [0.        ],\n",
              "        [0.        ],\n",
              "        [0.        ]],\n",
              "\n",
              "       [[0.        ],\n",
              "        [0.        ],\n",
              "        [0.        ],\n",
              "        [0.        ],\n",
              "        [0.        ],\n",
              "        [0.70980392],\n",
              "        [0.89411765],\n",
              "        [0.74509804],\n",
              "        [0.68235294],\n",
              "        [0.68235294],\n",
              "        [0.69019608],\n",
              "        [0.68627451],\n",
              "        [0.77254902],\n",
              "        [0.65490196],\n",
              "        [0.65490196],\n",
              "        [0.71764706],\n",
              "        [0.65098039],\n",
              "        [0.6627451 ],\n",
              "        [0.67058824],\n",
              "        [0.66666667],\n",
              "        [0.63529412],\n",
              "        [0.68627451],\n",
              "        [0.6745098 ],\n",
              "        [0.        ],\n",
              "        [0.        ],\n",
              "        [0.        ],\n",
              "        [0.        ],\n",
              "        [0.        ]],\n",
              "\n",
              "       [[0.        ],\n",
              "        [0.        ],\n",
              "        [0.        ],\n",
              "        [0.        ],\n",
              "        [0.02352941],\n",
              "        [0.68627451],\n",
              "        [0.86666667],\n",
              "        [0.75294118],\n",
              "        [0.66666667],\n",
              "        [0.68235294],\n",
              "        [0.69019608],\n",
              "        [0.68627451],\n",
              "        [0.75686275],\n",
              "        [0.69019608],\n",
              "        [0.6745098 ],\n",
              "        [0.68627451],\n",
              "        [0.65490196],\n",
              "        [0.6627451 ],\n",
              "        [0.6627451 ],\n",
              "        [0.65490196],\n",
              "        [0.62745098],\n",
              "        [0.6627451 ],\n",
              "        [0.76862745],\n",
              "        [0.        ],\n",
              "        [0.        ],\n",
              "        [0.        ],\n",
              "        [0.        ],\n",
              "        [0.        ]],\n",
              "\n",
              "       [[0.        ],\n",
              "        [0.        ],\n",
              "        [0.        ],\n",
              "        [0.        ],\n",
              "        [0.09019608],\n",
              "        [0.72156863],\n",
              "        [0.84705882],\n",
              "        [0.80784314],\n",
              "        [0.64313725],\n",
              "        [0.68627451],\n",
              "        [0.69019608],\n",
              "        [0.68627451],\n",
              "        [0.75294118],\n",
              "        [0.69803922],\n",
              "        [0.68627451],\n",
              "        [0.68235294],\n",
              "        [0.65490196],\n",
              "        [0.65098039],\n",
              "        [0.6627451 ],\n",
              "        [0.6627451 ],\n",
              "        [0.64705882],\n",
              "        [0.6627451 ],\n",
              "        [0.68627451],\n",
              "        [0.02352941],\n",
              "        [0.        ],\n",
              "        [0.        ],\n",
              "        [0.        ],\n",
              "        [0.        ]],\n",
              "\n",
              "       [[0.        ],\n",
              "        [0.        ],\n",
              "        [0.        ],\n",
              "        [0.        ],\n",
              "        [0.20784314],\n",
              "        [0.74117647],\n",
              "        [0.81568627],\n",
              "        [0.85882353],\n",
              "        [0.63137255],\n",
              "        [0.69019608],\n",
              "        [0.69019608],\n",
              "        [0.68627451],\n",
              "        [0.74509804],\n",
              "        [0.70980392],\n",
              "        [0.69803922],\n",
              "        [0.6745098 ],\n",
              "        [0.6627451 ],\n",
              "        [0.64705882],\n",
              "        [0.66666667],\n",
              "        [0.6627451 ],\n",
              "        [0.65098039],\n",
              "        [0.65490196],\n",
              "        [0.71764706],\n",
              "        [0.10196078],\n",
              "        [0.        ],\n",
              "        [0.        ],\n",
              "        [0.        ],\n",
              "        [0.        ]],\n",
              "\n",
              "       [[0.        ],\n",
              "        [0.        ],\n",
              "        [0.        ],\n",
              "        [0.        ],\n",
              "        [0.32941176],\n",
              "        [0.76078431],\n",
              "        [0.81176471],\n",
              "        [0.84705882],\n",
              "        [0.61568627],\n",
              "        [0.69019608],\n",
              "        [0.68627451],\n",
              "        [0.69019608],\n",
              "        [0.75686275],\n",
              "        [0.71764706],\n",
              "        [0.70588235],\n",
              "        [0.6745098 ],\n",
              "        [0.65490196],\n",
              "        [0.65490196],\n",
              "        [0.65098039],\n",
              "        [0.66666667],\n",
              "        [0.64705882],\n",
              "        [0.65490196],\n",
              "        [0.7254902 ],\n",
              "        [0.23921569],\n",
              "        [0.        ],\n",
              "        [0.        ],\n",
              "        [0.        ],\n",
              "        [0.        ]],\n",
              "\n",
              "       [[0.        ],\n",
              "        [0.        ],\n",
              "        [0.        ],\n",
              "        [0.        ],\n",
              "        [0.44705882],\n",
              "        [0.75686275],\n",
              "        [0.82745098],\n",
              "        [0.81176471],\n",
              "        [0.61568627],\n",
              "        [0.68627451],\n",
              "        [0.68627451],\n",
              "        [0.69019608],\n",
              "        [0.76862745],\n",
              "        [0.71764706],\n",
              "        [0.70980392],\n",
              "        [0.6745098 ],\n",
              "        [0.65098039],\n",
              "        [0.65098039],\n",
              "        [0.64705882],\n",
              "        [0.66666667],\n",
              "        [0.64313725],\n",
              "        [0.6627451 ],\n",
              "        [0.73333333],\n",
              "        [0.34509804],\n",
              "        [0.        ],\n",
              "        [0.        ],\n",
              "        [0.        ],\n",
              "        [0.        ]],\n",
              "\n",
              "       [[0.        ],\n",
              "        [0.        ],\n",
              "        [0.        ],\n",
              "        [0.        ],\n",
              "        [0.60784314],\n",
              "        [0.75294118],\n",
              "        [0.85882353],\n",
              "        [0.76078431],\n",
              "        [0.63137255],\n",
              "        [0.6745098 ],\n",
              "        [0.69803922],\n",
              "        [0.69019608],\n",
              "        [0.77254902],\n",
              "        [0.7254902 ],\n",
              "        [0.70980392],\n",
              "        [0.6627451 ],\n",
              "        [0.65098039],\n",
              "        [0.64705882],\n",
              "        [0.64705882],\n",
              "        [0.67058824],\n",
              "        [0.64313725],\n",
              "        [0.67058824],\n",
              "        [0.72156863],\n",
              "        [0.42352941],\n",
              "        [0.        ],\n",
              "        [0.        ],\n",
              "        [0.        ],\n",
              "        [0.        ]],\n",
              "\n",
              "       [[0.        ],\n",
              "        [0.        ],\n",
              "        [0.        ],\n",
              "        [0.        ],\n",
              "        [0.70980392],\n",
              "        [0.75294118],\n",
              "        [0.88235294],\n",
              "        [0.7254902 ],\n",
              "        [0.63529412],\n",
              "        [0.6745098 ],\n",
              "        [0.70196078],\n",
              "        [0.69019608],\n",
              "        [0.78039216],\n",
              "        [0.7254902 ],\n",
              "        [0.71764706],\n",
              "        [0.6627451 ],\n",
              "        [0.65098039],\n",
              "        [0.64313725],\n",
              "        [0.64313725],\n",
              "        [0.6745098 ],\n",
              "        [0.63137255],\n",
              "        [0.66666667],\n",
              "        [0.72156863],\n",
              "        [0.52941176],\n",
              "        [0.        ],\n",
              "        [0.        ],\n",
              "        [0.        ],\n",
              "        [0.        ]],\n",
              "\n",
              "       [[0.        ],\n",
              "        [0.        ],\n",
              "        [0.        ],\n",
              "        [0.        ],\n",
              "        [0.82352941],\n",
              "        [0.74117647],\n",
              "        [0.91372549],\n",
              "        [0.70588235],\n",
              "        [0.63137255],\n",
              "        [0.67058824],\n",
              "        [0.70196078],\n",
              "        [0.70196078],\n",
              "        [0.78823529],\n",
              "        [0.7254902 ],\n",
              "        [0.74509804],\n",
              "        [0.65098039],\n",
              "        [0.65098039],\n",
              "        [0.64313725],\n",
              "        [0.64313725],\n",
              "        [0.69019608],\n",
              "        [0.61960784],\n",
              "        [0.67058824],\n",
              "        [0.71764706],\n",
              "        [0.60784314],\n",
              "        [0.        ],\n",
              "        [0.        ],\n",
              "        [0.        ],\n",
              "        [0.        ]],\n",
              "\n",
              "       [[0.        ],\n",
              "        [0.        ],\n",
              "        [0.        ],\n",
              "        [0.        ],\n",
              "        [0.89803922],\n",
              "        [0.72156863],\n",
              "        [0.91764706],\n",
              "        [0.69019608],\n",
              "        [0.64313725],\n",
              "        [0.6627451 ],\n",
              "        [0.70588235],\n",
              "        [0.71764706],\n",
              "        [0.77647059],\n",
              "        [0.7254902 ],\n",
              "        [0.75686275],\n",
              "        [0.65098039],\n",
              "        [0.65490196],\n",
              "        [0.64313725],\n",
              "        [0.64705882],\n",
              "        [0.70196078],\n",
              "        [0.61568627],\n",
              "        [0.69019608],\n",
              "        [0.70196078],\n",
              "        [0.68235294],\n",
              "        [0.        ],\n",
              "        [0.        ],\n",
              "        [0.        ],\n",
              "        [0.        ]],\n",
              "\n",
              "       [[0.        ],\n",
              "        [0.        ],\n",
              "        [0.        ],\n",
              "        [0.00784314],\n",
              "        [0.92941176],\n",
              "        [0.71764706],\n",
              "        [0.92941176],\n",
              "        [0.67058824],\n",
              "        [0.65098039],\n",
              "        [0.65490196],\n",
              "        [0.69803922],\n",
              "        [0.7372549 ],\n",
              "        [0.76862745],\n",
              "        [0.73333333],\n",
              "        [0.76862745],\n",
              "        [0.64313725],\n",
              "        [0.65098039],\n",
              "        [0.64705882],\n",
              "        [0.65098039],\n",
              "        [0.70196078],\n",
              "        [0.61568627],\n",
              "        [0.69803922],\n",
              "        [0.69019608],\n",
              "        [0.7254902 ],\n",
              "        [0.00784314],\n",
              "        [0.        ],\n",
              "        [0.        ],\n",
              "        [0.        ]],\n",
              "\n",
              "       [[0.        ],\n",
              "        [0.        ],\n",
              "        [0.        ],\n",
              "        [0.09411765],\n",
              "        [0.96470588],\n",
              "        [0.72156863],\n",
              "        [1.        ],\n",
              "        [0.6745098 ],\n",
              "        [0.65098039],\n",
              "        [0.6627451 ],\n",
              "        [0.70588235],\n",
              "        [0.75294118],\n",
              "        [0.76862745],\n",
              "        [0.74117647],\n",
              "        [0.78823529],\n",
              "        [0.63137255],\n",
              "        [0.64313725],\n",
              "        [0.64705882],\n",
              "        [0.64705882],\n",
              "        [0.70980392],\n",
              "        [0.63137255],\n",
              "        [0.70980392],\n",
              "        [0.69019608],\n",
              "        [0.74117647],\n",
              "        [0.06666667],\n",
              "        [0.        ],\n",
              "        [0.        ],\n",
              "        [0.        ]],\n",
              "\n",
              "       [[0.        ],\n",
              "        [0.        ],\n",
              "        [0.        ],\n",
              "        [0.20392157],\n",
              "        [0.96862745],\n",
              "        [0.73333333],\n",
              "        [0.93333333],\n",
              "        [0.65098039],\n",
              "        [0.66666667],\n",
              "        [0.66666667],\n",
              "        [0.70588235],\n",
              "        [0.77647059],\n",
              "        [0.75686275],\n",
              "        [0.74117647],\n",
              "        [0.81176471],\n",
              "        [0.62745098],\n",
              "        [0.64705882],\n",
              "        [0.64705882],\n",
              "        [0.64313725],\n",
              "        [0.70588235],\n",
              "        [0.63529412],\n",
              "        [0.73333333],\n",
              "        [0.68627451],\n",
              "        [0.75294118],\n",
              "        [0.20392157],\n",
              "        [0.        ],\n",
              "        [0.        ],\n",
              "        [0.        ]],\n",
              "\n",
              "       [[0.        ],\n",
              "        [0.        ],\n",
              "        [0.        ],\n",
              "        [0.32156863],\n",
              "        [0.84313725],\n",
              "        [0.75294118],\n",
              "        [0.9372549 ],\n",
              "        [0.61960784],\n",
              "        [0.6627451 ],\n",
              "        [0.68235294],\n",
              "        [0.70196078],\n",
              "        [0.81176471],\n",
              "        [0.74117647],\n",
              "        [0.73333333],\n",
              "        [0.83529412],\n",
              "        [0.62745098],\n",
              "        [0.65490196],\n",
              "        [0.65098039],\n",
              "        [0.64705882],\n",
              "        [0.70980392],\n",
              "        [0.6627451 ],\n",
              "        [0.74509804],\n",
              "        [0.66666667],\n",
              "        [0.75294118],\n",
              "        [0.28627451],\n",
              "        [0.        ],\n",
              "        [0.        ],\n",
              "        [0.        ]],\n",
              "\n",
              "       [[0.        ],\n",
              "        [0.        ],\n",
              "        [0.        ],\n",
              "        [0.4       ],\n",
              "        [0.83137255],\n",
              "        [0.78823529],\n",
              "        [0.83137255],\n",
              "        [0.65098039],\n",
              "        [0.6627451 ],\n",
              "        [0.67058824],\n",
              "        [0.70196078],\n",
              "        [0.85098039],\n",
              "        [0.74117647],\n",
              "        [0.73333333],\n",
              "        [0.85098039],\n",
              "        [0.61568627],\n",
              "        [0.66666667],\n",
              "        [0.65490196],\n",
              "        [0.65098039],\n",
              "        [0.69803922],\n",
              "        [0.67058824],\n",
              "        [0.76862745],\n",
              "        [0.6627451 ],\n",
              "        [0.67058824],\n",
              "        [0.32941176],\n",
              "        [0.        ],\n",
              "        [0.        ],\n",
              "        [0.        ]],\n",
              "\n",
              "       [[0.        ],\n",
              "        [0.        ],\n",
              "        [0.        ],\n",
              "        [0.65098039],\n",
              "        [0.82745098],\n",
              "        [0.83529412],\n",
              "        [0.75686275],\n",
              "        [0.64313725],\n",
              "        [0.66666667],\n",
              "        [0.66666667],\n",
              "        [0.70588235],\n",
              "        [0.88627451],\n",
              "        [0.70980392],\n",
              "        [0.73333333],\n",
              "        [0.89411765],\n",
              "        [0.61568627],\n",
              "        [0.65490196],\n",
              "        [0.65490196],\n",
              "        [0.61960784],\n",
              "        [0.7372549 ],\n",
              "        [0.76862745],\n",
              "        [0.50196078],\n",
              "        [0.66666667],\n",
              "        [0.70196078],\n",
              "        [0.50196078],\n",
              "        [0.        ],\n",
              "        [0.        ],\n",
              "        [0.        ]],\n",
              "\n",
              "       [[0.        ],\n",
              "        [0.        ],\n",
              "        [0.        ],\n",
              "        [0.1372549 ],\n",
              "        [0.36078431],\n",
              "        [0.50588235],\n",
              "        [0.78039216],\n",
              "        [0.72156863],\n",
              "        [0.67058824],\n",
              "        [0.70196078],\n",
              "        [0.73333333],\n",
              "        [0.96470588],\n",
              "        [0.66666667],\n",
              "        [0.74117647],\n",
              "        [0.94117647],\n",
              "        [0.61176471],\n",
              "        [0.66666667],\n",
              "        [0.68235294],\n",
              "        [0.65098039],\n",
              "        [0.74509804],\n",
              "        [0.90196078],\n",
              "        [0.54509804],\n",
              "        [0.4       ],\n",
              "        [0.54509804],\n",
              "        [0.34901961],\n",
              "        [0.        ],\n",
              "        [0.        ],\n",
              "        [0.        ]],\n",
              "\n",
              "       [[0.        ],\n",
              "        [0.        ],\n",
              "        [0.        ],\n",
              "        [0.        ],\n",
              "        [0.        ],\n",
              "        [0.        ],\n",
              "        [0.55686275],\n",
              "        [0.83529412],\n",
              "        [0.65098039],\n",
              "        [0.59215686],\n",
              "        [0.69803922],\n",
              "        [0.92156863],\n",
              "        [0.74509804],\n",
              "        [0.63529412],\n",
              "        [0.95686275],\n",
              "        [0.70196078],\n",
              "        [0.71764706],\n",
              "        [0.62745098],\n",
              "        [0.55686275],\n",
              "        [0.64313725],\n",
              "        [0.81568627],\n",
              "        [0.49019608],\n",
              "        [0.        ],\n",
              "        [0.        ],\n",
              "        [0.        ],\n",
              "        [0.        ],\n",
              "        [0.        ],\n",
              "        [0.        ]],\n",
              "\n",
              "       [[0.        ],\n",
              "        [0.        ],\n",
              "        [0.        ],\n",
              "        [0.        ],\n",
              "        [0.00392157],\n",
              "        [0.00784314],\n",
              "        [0.        ],\n",
              "        [0.37647059],\n",
              "        [0.70980392],\n",
              "        [0.70196078],\n",
              "        [0.69803922],\n",
              "        [0.69803922],\n",
              "        [0.7254902 ],\n",
              "        [0.62745098],\n",
              "        [0.81568627],\n",
              "        [0.67058824],\n",
              "        [0.65490196],\n",
              "        [0.65490196],\n",
              "        [0.72156863],\n",
              "        [0.68235294],\n",
              "        [0.41176471],\n",
              "        [0.        ],\n",
              "        [0.00392157],\n",
              "        [0.00784314],\n",
              "        [0.00392157],\n",
              "        [0.        ],\n",
              "        [0.        ],\n",
              "        [0.        ]],\n",
              "\n",
              "       [[0.        ],\n",
              "        [0.        ],\n",
              "        [0.        ],\n",
              "        [0.        ],\n",
              "        [0.        ],\n",
              "        [0.        ],\n",
              "        [0.00784314],\n",
              "        [0.        ],\n",
              "        [0.00392157],\n",
              "        [0.20392157],\n",
              "        [0.3254902 ],\n",
              "        [0.38431373],\n",
              "        [0.43921569],\n",
              "        [0.5254902 ],\n",
              "        [0.57254902],\n",
              "        [0.41176471],\n",
              "        [0.34901961],\n",
              "        [0.28627451],\n",
              "        [0.19215686],\n",
              "        [0.        ],\n",
              "        [0.        ],\n",
              "        [0.        ],\n",
              "        [0.        ],\n",
              "        [0.        ],\n",
              "        [0.        ],\n",
              "        [0.        ],\n",
              "        [0.        ],\n",
              "        [0.        ]]])"
            ]
          },
          "metadata": {
            "tags": []
          },
          "execution_count": 50
        }
      ]
    },
    {
      "cell_type": "markdown",
      "metadata": {
        "id": "T0a5lrK4qzio",
        "colab_type": "text"
      },
      "source": [
        "### Keras CNN"
      ]
    },
    {
      "cell_type": "code",
      "metadata": {
        "id": "0hkyjdrJqsF4",
        "colab_type": "code",
        "colab": {}
      },
      "source": [
        "from tensorflow.keras.layers import Conv2D, MaxPooling2D, Flatten, Dense"
      ],
      "execution_count": 0,
      "outputs": []
    },
    {
      "cell_type": "markdown",
      "metadata": {
        "id": "6dU3c7iLrqtD",
        "colab_type": "text"
      },
      "source": [
        "- 합성곱층 쌓기\n",
        "  - **`Conv2D`** 클래스의 첫 번째 매개변수는 합성곱 커널의 개수입니다.\n",
        "      - 두 번째 매개변수는 합성곱 커널의 크기로 높이와 너비를 튜플로 전달합니다.\n",
        "      - 합성곱 커널로는 전형적으로 3X3 또는 5X5 크기를 많이 사용합니다.\n",
        "      - **`activation`** 매개변수에 렐루 활성화 함수를 지정합니다.\n",
        "      - 패딩은 세임 패딩을 사용\n",
        "      - 여기에서는 패션 **`MNIST`** 이미지의 높이와 너비, 컬러 채널이 입력의 크기가 됩니다."
      ]
    },
    {
      "cell_type": "code",
      "metadata": {
        "id": "NctNxCnPqyqC",
        "colab_type": "code",
        "colab": {}
      },
      "source": [
        "conv1 = tf.keras.Sequential()\n",
        "conv1.add(Conv2D(10, (3, 3), activation=\"relu\", padding=\"same\", input_shape=(28, 28, 1)))"
      ],
      "execution_count": 0,
      "outputs": []
    },
    {
      "cell_type": "markdown",
      "metadata": {
        "id": "OZnHwT29sGy_",
        "colab_type": "text"
      },
      "source": [
        "- 풀링층 쌓기\n",
        "  - **`MaxPooling2D`** 클래스의 매개변수는 풀링의 높이와 너비를 나타내는 튜플입니다."
      ]
    },
    {
      "cell_type": "code",
      "metadata": {
        "id": "_gXrAxZlsJfe",
        "colab_type": "code",
        "colab": {}
      },
      "source": [
        "conv1.add(MaxPooling2D((2, 2)))"
      ],
      "execution_count": 0,
      "outputs": []
    },
    {
      "cell_type": "markdown",
      "metadata": {
        "id": "MobKa3mGtK50",
        "colab_type": "text"
      },
      "source": [
        "- 완전 연결층(FC, Fully Connected layer)에 주입할 수 있도록 특성 맵 펼치기\n",
        "  - 완전 연결층에 연결하기 위해 배치 차원을 제외하고 일렬로 펼쳐야 합니다.\n",
        "  - **`Flatten()`** 클래스로 수행할 수 있습니다."
      ]
    },
    {
      "cell_type": "code",
      "metadata": {
        "id": "nqkYgY0ftb4O",
        "colab_type": "code",
        "colab": {}
      },
      "source": [
        "conv1.add(Flatten())"
      ],
      "execution_count": 0,
      "outputs": []
    },
    {
      "cell_type": "markdown",
      "metadata": {
        "id": "XffjlmICteyY",
        "colab_type": "text"
      },
      "source": [
        "- 완전 연결층 쌓기\n",
        "  - 마지막으로 완전 연결층을 추가합니다.\n",
        "    - 첫 번째 완전 연결층에는 100개의 뉴런을 사용하고 렐루 활성화 함수를 적용합니다.\n",
        "    - 마지막 출력층에는 10개의 클래스에 대응하는 10개의 뉴런을 사용하고 소프트맥스 활성화 함수를 적용합니다."
      ]
    },
    {
      "cell_type": "code",
      "metadata": {
        "id": "KpC76uHKtcm2",
        "colab_type": "code",
        "colab": {}
      },
      "source": [
        "conv1.add(Dense(100, activation=\"relu\"))\n",
        "conv1.add(Dense(10,  activation=\"softmax\"))"
      ],
      "execution_count": 0,
      "outputs": []
    },
    {
      "cell_type": "markdown",
      "metadata": {
        "id": "IMVDttwuuAB5",
        "colab_type": "text"
      },
      "source": [
        "- 모델 구조 살펴보기\n",
        "   - 합성곱층(Conv2D)의 출력 크기는 배치 차원을 제외하고 28 X 28 X 10입니다.\n",
        "    - 이때 배치 차원이 None인 이유는 배치 입력의 개수는 훈련할 때 전달되는 샘플 개수에 따라 달라지기 때문입니다.\n",
        "    - 합성곱 커널은 10개를 사용했으므로 마지막 차원이 10입니다.\n",
        "    - 모델 파라미터의 개수는 전체 가중치의 크기와 커널마다 하나씩 절편을 추가하면 3 X 3 X 1 X 10 + 10 = 100개입니다.\n",
        "    - 풀링층(MaxPooling2D)과 특성 맵을 완전 연결층에 펼쳐서 주입하기 위해 추가한 Flatten 층에는 가중치가 없습니다."
      ]
    },
    {
      "cell_type": "markdown",
      "metadata": {
        "id": "D-Q-fwyvuDiE",
        "colab_type": "text"
      },
      "source": [
        "- 첫 번째 완전 연결층(Dense)에는 1,960개 (14 X 14 X 10)의 입력이 100개의 뉴런에 연결됩니다.\n",
        "- 가중치는 뉴런마다 하나씩 있으므로 첫 번째 완전 연결층의 가중치 개수는 196,100개(1960 X 100 + 100)입니다.\n",
        "- 두 번째 완전 연결층(Dense)의 가중치 개수는 1,010개 (100 X 10 + 10)입니다.\n",
        "- 가중치의 개수를 보면 완전 연결층에 비해 합성곱층의 가중치 개수가 아주 적습니다.\n",
        "- 그래서 합성곱층을 여러 개 추가해도 학습할 모델 파라미터의 개수가 크게 늘지 않기 때문에 계산 효율성이 좋습니다."
      ]
    },
    {
      "cell_type": "code",
      "metadata": {
        "id": "IIKz4oAGtlZ0",
        "colab_type": "code",
        "colab": {
          "base_uri": "https://localhost:8080/",
          "height": 314
        },
        "outputId": "c6c1c264-f675-4453-8ad7-3ec15ef890b7"
      },
      "source": [
        "conv1.summary()"
      ],
      "execution_count": 57,
      "outputs": [
        {
          "output_type": "stream",
          "text": [
            "Model: \"sequential\"\n",
            "_________________________________________________________________\n",
            "Layer (type)                 Output Shape              Param #   \n",
            "=================================================================\n",
            "conv2d (Conv2D)              (None, 28, 28, 10)        100       \n",
            "_________________________________________________________________\n",
            "max_pooling2d (MaxPooling2D) (None, 14, 14, 10)        0         \n",
            "_________________________________________________________________\n",
            "flatten (Flatten)            (None, 1960)              0         \n",
            "_________________________________________________________________\n",
            "dense (Dense)                (None, 100)               196100    \n",
            "_________________________________________________________________\n",
            "dense_1 (Dense)              (None, 10)                1010      \n",
            "=================================================================\n",
            "Total params: 197,210\n",
            "Trainable params: 197,210\n",
            "Non-trainable params: 0\n",
            "_________________________________________________________________\n"
          ],
          "name": "stdout"
        }
      ]
    },
    {
      "cell_type": "markdown",
      "metadata": {
        "id": "Q4lKNNe5uMoi",
        "colab_type": "text"
      },
      "source": [
        "- 모델 훈련하기\n",
        "  - 다중 분류를 위한 크로스 엔트로피 손실 함수를 사용합니다.\n",
        "  - 아담은 **`Adaptive Moment Estimation`**을 줄여 만든 이름입니다.\n",
        "  - 아담은 손실 함수의 값이 최적값에 가까워질수록 학습률을 낮춰 손실 함수의 값이 안정적으로 수렴될 수 있게 해줍니다."
      ]
    },
    {
      "cell_type": "code",
      "metadata": {
        "id": "uY6KlY8vuNgw",
        "colab_type": "code",
        "colab": {}
      },
      "source": [
        "conv1.compile(optimizer=\"adam\", loss=\"categorical_crossentropy\", metrics=[\"accuracy\"])"
      ],
      "execution_count": 0,
      "outputs": []
    },
    {
      "cell_type": "code",
      "metadata": {
        "id": "EAhu8CSmufmf",
        "colab_type": "code",
        "colab": {
          "base_uri": "https://localhost:8080/",
          "height": 693
        },
        "outputId": "2d9ae17c-a397-4b96-b1f6-15eba67097c3"
      },
      "source": [
        "history = conv1.fit(x_train, y_train_encoded, epochs=20, validation_data = (x_val, y_val_encoded))"
      ],
      "execution_count": 59,
      "outputs": [
        {
          "output_type": "stream",
          "text": [
            "Train on 48000 samples, validate on 12000 samples\n",
            "Epoch 1/20\n",
            "48000/48000 [==============================] - 27s 553us/sample - loss: 0.4520 - accuracy: 0.8414 - val_loss: 0.3658 - val_accuracy: 0.8703\n",
            "Epoch 2/20\n",
            "48000/48000 [==============================] - 26s 540us/sample - loss: 0.3136 - accuracy: 0.8878 - val_loss: 0.2919 - val_accuracy: 0.8952\n",
            "Epoch 3/20\n",
            "48000/48000 [==============================] - 26s 538us/sample - loss: 0.2675 - accuracy: 0.9024 - val_loss: 0.2690 - val_accuracy: 0.9053\n",
            "Epoch 4/20\n",
            "48000/48000 [==============================] - 26s 541us/sample - loss: 0.2352 - accuracy: 0.9149 - val_loss: 0.2588 - val_accuracy: 0.9076\n",
            "Epoch 5/20\n",
            "48000/48000 [==============================] - 26s 538us/sample - loss: 0.2081 - accuracy: 0.9241 - val_loss: 0.2541 - val_accuracy: 0.9090\n",
            "Epoch 6/20\n",
            "48000/48000 [==============================] - 26s 542us/sample - loss: 0.1861 - accuracy: 0.9312 - val_loss: 0.2546 - val_accuracy: 0.9122\n",
            "Epoch 7/20\n",
            "48000/48000 [==============================] - 26s 540us/sample - loss: 0.1662 - accuracy: 0.9383 - val_loss: 0.2717 - val_accuracy: 0.9082\n",
            "Epoch 8/20\n",
            "48000/48000 [==============================] - 26s 538us/sample - loss: 0.1477 - accuracy: 0.9454 - val_loss: 0.2642 - val_accuracy: 0.9068\n",
            "Epoch 9/20\n",
            "48000/48000 [==============================] - 26s 540us/sample - loss: 0.1318 - accuracy: 0.9523 - val_loss: 0.2718 - val_accuracy: 0.9119\n",
            "Epoch 10/20\n",
            "48000/48000 [==============================] - 26s 538us/sample - loss: 0.1172 - accuracy: 0.9564 - val_loss: 0.2785 - val_accuracy: 0.9121\n",
            "Epoch 11/20\n",
            "48000/48000 [==============================] - 27s 563us/sample - loss: 0.1047 - accuracy: 0.9615 - val_loss: 0.2759 - val_accuracy: 0.9147\n",
            "Epoch 12/20\n",
            "48000/48000 [==============================] - 26s 547us/sample - loss: 0.0938 - accuracy: 0.9660 - val_loss: 0.2860 - val_accuracy: 0.9156\n",
            "Epoch 13/20\n",
            "48000/48000 [==============================] - 26s 541us/sample - loss: 0.0838 - accuracy: 0.9694 - val_loss: 0.2943 - val_accuracy: 0.9171\n",
            "Epoch 14/20\n",
            "48000/48000 [==============================] - 26s 536us/sample - loss: 0.0736 - accuracy: 0.9732 - val_loss: 0.3050 - val_accuracy: 0.9175\n",
            "Epoch 15/20\n",
            "48000/48000 [==============================] - 26s 541us/sample - loss: 0.0663 - accuracy: 0.9763 - val_loss: 0.3121 - val_accuracy: 0.9172\n",
            "Epoch 16/20\n",
            "48000/48000 [==============================] - 26s 539us/sample - loss: 0.0593 - accuracy: 0.9787 - val_loss: 0.3508 - val_accuracy: 0.9153\n",
            "Epoch 17/20\n",
            "48000/48000 [==============================] - 26s 537us/sample - loss: 0.0524 - accuracy: 0.9806 - val_loss: 0.3656 - val_accuracy: 0.9142\n",
            "Epoch 18/20\n",
            "48000/48000 [==============================] - 26s 540us/sample - loss: 0.0453 - accuracy: 0.9834 - val_loss: 0.3857 - val_accuracy: 0.9158\n",
            "Epoch 19/20\n",
            "48000/48000 [==============================] - 26s 542us/sample - loss: 0.0432 - accuracy: 0.9848 - val_loss: 0.3989 - val_accuracy: 0.9169\n",
            "Epoch 20/20\n",
            "48000/48000 [==============================] - 26s 539us/sample - loss: 0.0386 - accuracy: 0.9860 - val_loss: 0.4206 - val_accuracy: 0.9134\n"
          ],
          "name": "stdout"
        }
      ]
    },
    {
      "cell_type": "markdown",
      "metadata": {
        "id": "o-KSxayqujN-",
        "colab_type": "text"
      },
      "source": [
        "- 그래프로 결과 확인하기"
      ]
    },
    {
      "cell_type": "code",
      "metadata": {
        "id": "JB2IP22zukRb",
        "colab_type": "code",
        "colab": {
          "base_uri": "https://localhost:8080/",
          "height": 279
        },
        "outputId": "ca2152e5-c077-490e-bfe6-9e4be468a3f3"
      },
      "source": [
        "plt.plot(history.history[\"accuracy\"])\n",
        "plt.plot(history.history[\"val_accuracy\"])\n",
        "plt.ylabel(\"accuracy\")\n",
        "plt.xlabel(\"epoch\")\n",
        "plt.legend([\"train_accuracy\", \"val_accuracy\"])\n",
        "plt.show()"
      ],
      "execution_count": 60,
      "outputs": [
        {
          "output_type": "display_data",
          "data": {
            "image/png": "[encoded data removed]",
            "text/plain": [
              "<Figure size 432x288 with 1 Axes>"
            ]
          },
          "metadata": {
            "tags": []
          }
        }
      ]
    },
    {
      "cell_type": "markdown",
      "metadata": {
        "id": "Ju2DPO-vur4a",
        "colab_type": "text"
      },
      "source": [
        "## 드롭아웃(Dropout) 적용\n",
        "- 드롭아웃을 적용하려면 간단히 **`Dropout`** 클래스를 추가하면 됩니다.\n",
        "- **`Dropout`** 클래스의 매개변수에 드롭아웃될 비율을 실수로 지정합니다.\n",
        "- 드롭아웃층에는 학습되는 가중치가 없습니다.\n",
        "- 단순히 일부 뉴런의 출력을 무작위로 0으로 만들고 나머지 뉴런의 출력을 드롭되지 않은 비율로 나누어 증가시킵니다."
      ]
    },
    {
      "cell_type": "code",
      "metadata": {
        "id": "AIN8LC-PutSu",
        "colab_type": "code",
        "colab": {}
      },
      "source": [
        "from tensorflow.keras.layers import Dropout\n",
        "\n",
        "conv2 = tf.keras.Sequential()\n",
        "conv2.add(Conv2D(10, (3, 3), activation=\"relu\", padding=\"same\", input_shape=(28, 28, 1)))\n",
        "conv2.add(MaxPooling2D((2, 2)))\n",
        "conv2.add(Flatten())\n",
        "conv2.add(Dropout(0.5))\n",
        "conv2.add(Dense(100, activation=\"relu\"))\n",
        "conv2.add(Dense(10, activation=\"softmax\"))"
      ],
      "execution_count": 0,
      "outputs": []
    },
    {
      "cell_type": "markdown",
      "metadata": {
        "id": "rUNVzv4ku2mI",
        "colab_type": "text"
      },
      "source": [
        "### 드롭아웃층 확인하기\n",
        "- 드롭아웃층은 훈련되는 가중치가 없고 차원을 바꾸지 않습니다."
      ]
    },
    {
      "cell_type": "code",
      "metadata": {
        "id": "tNWwxrcmuzF-",
        "colab_type": "code",
        "colab": {
          "base_uri": "https://localhost:8080/",
          "height": 347
        },
        "outputId": "049dea70-fc78-41a6-ee56-443f52ab16f8"
      },
      "source": [
        "conv2.summary()"
      ],
      "execution_count": 62,
      "outputs": [
        {
          "output_type": "stream",
          "text": [
            "Model: \"sequential_1\"\n",
            "_________________________________________________________________\n",
            "Layer (type)                 Output Shape              Param #   \n",
            "=================================================================\n",
            "conv2d_1 (Conv2D)            (None, 28, 28, 10)        100       \n",
            "_________________________________________________________________\n",
            "max_pooling2d_1 (MaxPooling2 (None, 14, 14, 10)        0         \n",
            "_________________________________________________________________\n",
            "flatten_1 (Flatten)          (None, 1960)              0         \n",
            "_________________________________________________________________\n",
            "dropout (Dropout)            (None, 1960)              0         \n",
            "_________________________________________________________________\n",
            "dense_2 (Dense)              (None, 100)               196100    \n",
            "_________________________________________________________________\n",
            "dense_3 (Dense)              (None, 10)                1010      \n",
            "=================================================================\n",
            "Total params: 197,210\n",
            "Trainable params: 197,210\n",
            "Non-trainable params: 0\n",
            "_________________________________________________________________\n"
          ],
          "name": "stdout"
        }
      ]
    },
    {
      "cell_type": "markdown",
      "metadata": {
        "id": "eF8b-rGcu-Ev",
        "colab_type": "text"
      },
      "source": [
        "- 훈련하기\n",
        "  - 앞에서 만든 합성곱 신경망 모델과 같은 옵티마이저를 사용하고 20번의 에포크 동안 훈련합니다."
      ]
    },
    {
      "cell_type": "code",
      "metadata": {
        "id": "W8eCeoJ6vAhE",
        "colab_type": "code",
        "colab": {
          "base_uri": "https://localhost:8080/",
          "height": 693
        },
        "outputId": "aea14c7a-28a7-4b3e-957d-90dd955bc005"
      },
      "source": [
        "conv2.compile(optimizer=\"adam\", loss=\"categorical_crossentropy\", metrics=[\"accuracy\"])\n",
        "history = conv2.fit(x_train, y_train_encoded, epochs=20, validation_data=(x_val, y_val_encoded))"
      ],
      "execution_count": 63,
      "outputs": [
        {
          "output_type": "stream",
          "text": [
            "Train on 48000 samples, validate on 12000 samples\n",
            "Epoch 1/20\n",
            "48000/48000 [==============================] - 28s 576us/sample - loss: 0.5020 - accuracy: 0.8193 - val_loss: 0.3417 - val_accuracy: 0.8776\n",
            "Epoch 2/20\n",
            "48000/48000 [==============================] - 27s 568us/sample - loss: 0.3662 - accuracy: 0.8674 - val_loss: 0.2931 - val_accuracy: 0.8969\n",
            "Epoch 3/20\n",
            "48000/48000 [==============================] - 28s 587us/sample - loss: 0.3271 - accuracy: 0.8786 - val_loss: 0.2819 - val_accuracy: 0.8978\n",
            "Epoch 4/20\n",
            "48000/48000 [==============================] - 27s 567us/sample - loss: 0.3011 - accuracy: 0.8888 - val_loss: 0.2564 - val_accuracy: 0.9075\n",
            "Epoch 5/20\n",
            "48000/48000 [==============================] - 27s 564us/sample - loss: 0.2819 - accuracy: 0.8943 - val_loss: 0.2502 - val_accuracy: 0.9091\n",
            "Epoch 6/20\n",
            "48000/48000 [==============================] - 27s 566us/sample - loss: 0.2686 - accuracy: 0.9002 - val_loss: 0.2523 - val_accuracy: 0.9081\n",
            "Epoch 7/20\n",
            "48000/48000 [==============================] - 27s 562us/sample - loss: 0.2502 - accuracy: 0.9069 - val_loss: 0.2466 - val_accuracy: 0.9095\n",
            "Epoch 8/20\n",
            "48000/48000 [==============================] - 27s 566us/sample - loss: 0.2441 - accuracy: 0.9078 - val_loss: 0.2342 - val_accuracy: 0.9176\n",
            "Epoch 9/20\n",
            "48000/48000 [==============================] - 27s 564us/sample - loss: 0.2315 - accuracy: 0.9130 - val_loss: 0.2316 - val_accuracy: 0.9174\n",
            "Epoch 10/20\n",
            "48000/48000 [==============================] - 27s 565us/sample - loss: 0.2270 - accuracy: 0.9156 - val_loss: 0.2329 - val_accuracy: 0.9191\n",
            "Epoch 11/20\n",
            "48000/48000 [==============================] - 27s 563us/sample - loss: 0.2194 - accuracy: 0.9165 - val_loss: 0.2273 - val_accuracy: 0.9196\n",
            "Epoch 12/20\n",
            "48000/48000 [==============================] - 27s 560us/sample - loss: 0.2126 - accuracy: 0.9191 - val_loss: 0.2543 - val_accuracy: 0.9102\n",
            "Epoch 13/20\n",
            "48000/48000 [==============================] - 27s 561us/sample - loss: 0.2058 - accuracy: 0.9226 - val_loss: 0.2229 - val_accuracy: 0.9212\n",
            "Epoch 14/20\n",
            "48000/48000 [==============================] - 27s 560us/sample - loss: 0.1986 - accuracy: 0.9249 - val_loss: 0.2323 - val_accuracy: 0.9188\n",
            "Epoch 15/20\n",
            "48000/48000 [==============================] - 28s 582us/sample - loss: 0.1926 - accuracy: 0.9267 - val_loss: 0.2284 - val_accuracy: 0.9221\n",
            "Epoch 16/20\n",
            "48000/48000 [==============================] - 27s 562us/sample - loss: 0.1882 - accuracy: 0.9299 - val_loss: 0.2300 - val_accuracy: 0.9203\n",
            "Epoch 17/20\n",
            "48000/48000 [==============================] - 27s 562us/sample - loss: 0.1867 - accuracy: 0.9294 - val_loss: 0.2210 - val_accuracy: 0.9231\n",
            "Epoch 18/20\n",
            "48000/48000 [==============================] - 27s 562us/sample - loss: 0.1821 - accuracy: 0.9299 - val_loss: 0.2220 - val_accuracy: 0.9227\n",
            "Epoch 19/20\n",
            "48000/48000 [==============================] - 27s 561us/sample - loss: 0.1774 - accuracy: 0.9328 - val_loss: 0.2236 - val_accuracy: 0.9243\n",
            "Epoch 20/20\n",
            "48000/48000 [==============================] - 27s 559us/sample - loss: 0.1770 - accuracy: 0.9329 - val_loss: 0.2285 - val_accuracy: 0.9193\n"
          ],
          "name": "stdout"
        }
      ]
    },
    {
      "cell_type": "markdown",
      "metadata": {
        "id": "crtxF5NYvE1s",
        "colab_type": "text"
      },
      "source": [
        "그래프로 결과 확인하기"
      ]
    },
    {
      "cell_type": "code",
      "metadata": {
        "id": "xZ39JHxYvGyT",
        "colab_type": "code",
        "colab": {
          "base_uri": "https://localhost:8080/",
          "height": 279
        },
        "outputId": "76ad0a5d-77aa-4aa2-a60b-654514e67d95"
      },
      "source": [
        "plt.plot(history.history[\"accuracy\"])\n",
        "plt.plot(history.history[\"val_accuracy\"])\n",
        "plt.ylabel(\"accuracy\")\n",
        "plt.xlabel(\"epoch\")\n",
        "plt.legend([\"train_accuracy\", \"val_accuracy\"])\n",
        "plt.show()"
      ],
      "execution_count": 65,
      "outputs": [
        {
          "output_type": "display_data",
          "data": {
            "image/png": "[encoded data removed]",
            "text/plain": [
              "<Figure size 432x288 with 1 Axes>"
            ]
          },
          "metadata": {
            "tags": []
          }
        }
      ]
    },
    {
      "cell_type": "code",
      "metadata": {
        "id": "t9xz4eH4xnqZ",
        "colab_type": "code",
        "colab": {}
      },
      "source": [
        ""
      ],
      "execution_count": 0,
      "outputs": []
    }
  ]
}