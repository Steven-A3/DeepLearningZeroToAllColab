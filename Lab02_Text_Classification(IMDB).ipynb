{
  "nbformat": 4,
  "nbformat_minor": 0,
  "metadata": {
    "colab": {
      "name": "Lab02_Text_Classification.ipynb",
      "provenance": [],
      "collapsed_sections": [],
      "authorship_tag": "ABX9TyNVtuKKgRsx8LhA4Rgksvak",
      "include_colab_link": true
    },
    "kernelspec": {
      "name": "python3",
      "display_name": "Python 3"
    }
  },
  "cells": [
    {
      "cell_type": "markdown",
      "metadata": {
        "id": "view-in-github",
        "colab_type": "text"
      },
      "source": [
        "<a href=\"https://colab.research.google.com/github/Steven-A3/DeepLearningZeroToAllColab/blob/master/Lab02_Text_Classification(IMDB).ipynb\" target=\"_parent\"><img src=\"https://colab.research.google.com/assets/colab-badge.svg\" alt=\"Open In Colab\"/></a>"
      ]
    },
    {
      "cell_type": "markdown",
      "metadata": {
        "id": "EVOok0b4pI5L",
        "colab_type": "text"
      },
      "source": [
        "# IMDb 리뷰 데이터를 통한 텍스트 분류\n",
        "- [IMDb(Internet Movie Database):](https://www.imdb.com/) 영화, 배우, 텔레비전 드라마, 비디오 게임 등에 관한 정보를 제공하는 온라인 데이터베이스\n",
        "- 50,000건의 리뷰 데이터를 활용하여 해당 리뷰가 긍정적(1)인지 부정적(0)인지 분류하는 순환신경망 모델 구축\n",
        "![IMDb](https://img1.daumcdn.net/thumb/R1280x0/?scode=mtistory2&fname=https%3A%2F%2Fk.kakaocdn.net%2Fdn%2Fo3XQA%2FbtqBuxuMwUY%2FQs6MBtLIWq9d1r2qj1z191%2Fimg.png)\n"
      ]
    },
    {
      "cell_type": "markdown",
      "metadata": {
        "id": "N5t5ETglsOG8",
        "colab_type": "text"
      },
      "source": [
        "## 01. 환경설정\n",
        "### 텐서플로 2.x 설치 및 패키지 임포트"
      ]
    },
    {
      "cell_type": "code",
      "metadata": {
        "id": "5QXeBSvOs3Zx",
        "colab_type": "code",
        "outputId": "570bc905-f318-422d-fcd1-340de04d0ead",
        "colab": {
          "base_uri": "https://localhost:8080/",
          "height": 682
        }
      },
      "source": [
        "!pip install tensorflow # \"RESTART RUNTIME\" 클릭 후 진행"
      ],
      "execution_count": 0,
      "outputs": [
        {
          "output_type": "stream",
          "text": [
            "Requirement already satisfied: tensorflow in /usr/local/lib/python3.6/dist-packages (1.15.0)\n",
            "Requirement already satisfied: opt-einsum>=2.3.2 in /usr/local/lib/python3.6/dist-packages (from tensorflow) (3.1.0)\n",
            "Requirement already satisfied: wrapt>=1.11.1 in /usr/local/lib/python3.6/dist-packages (from tensorflow) (1.11.2)\n",
            "Requirement already satisfied: google-pasta>=0.1.6 in /usr/local/lib/python3.6/dist-packages (from tensorflow) (0.1.8)\n",
            "Requirement already satisfied: numpy<2.0,>=1.16.0 in /usr/local/lib/python3.6/dist-packages (from tensorflow) (1.17.5)\n",
            "Requirement already satisfied: absl-py>=0.7.0 in /usr/local/lib/python3.6/dist-packages (from tensorflow) (0.9.0)\n",
            "Collecting tensorboard<1.16.0,>=1.15.0\n",
            "\u001b[?25l  Downloading https://files.pythonhosted.org/packages/1e/e9/d3d747a97f7188f48aa5eda486907f3b345cd409f0a0850468ba867db246/tensorboard-1.15.0-py3-none-any.whl (3.8MB)\n",
            "\u001b[K     |████████████████████████████████| 3.8MB 5.0MB/s \n",
            "\u001b[?25hRequirement already satisfied: astor>=0.6.0 in /usr/local/lib/python3.6/dist-packages (from tensorflow) (0.8.1)\n",
            "Requirement already satisfied: protobuf>=3.6.1 in /usr/local/lib/python3.6/dist-packages (from tensorflow) (3.10.0)\n",
            "Requirement already satisfied: keras-applications>=1.0.8 in /usr/local/lib/python3.6/dist-packages (from tensorflow) (1.0.8)\n",
            "Requirement already satisfied: six>=1.10.0 in /usr/local/lib/python3.6/dist-packages (from tensorflow) (1.12.0)\n",
            "Collecting tensorflow-estimator==1.15.1\n",
            "\u001b[?25l  Downloading https://files.pythonhosted.org/packages/de/62/2ee9cd74c9fa2fa450877847ba560b260f5d0fb70ee0595203082dafcc9d/tensorflow_estimator-1.15.1-py2.py3-none-any.whl (503kB)\n",
            "\u001b[K     |████████████████████████████████| 512kB 50.0MB/s \n",
            "\u001b[?25hRequirement already satisfied: keras-preprocessing>=1.0.5 in /usr/local/lib/python3.6/dist-packages (from tensorflow) (1.1.0)\n",
            "Requirement already satisfied: termcolor>=1.1.0 in /usr/local/lib/python3.6/dist-packages (from tensorflow) (1.1.0)\n",
            "Requirement already satisfied: gast==0.2.2 in /usr/local/lib/python3.6/dist-packages (from tensorflow) (0.2.2)\n",
            "Requirement already satisfied: wheel>=0.26 in /usr/local/lib/python3.6/dist-packages (from tensorflow) (0.33.6)\n",
            "Requirement already satisfied: grpcio>=1.8.6 in /usr/local/lib/python3.6/dist-packages (from tensorflow) (1.15.0)\n",
            "Requirement already satisfied: werkzeug>=0.11.15 in /usr/local/lib/python3.6/dist-packages (from tensorboard<1.16.0,>=1.15.0->tensorflow) (0.16.0)\n",
            "Requirement already satisfied: setuptools>=41.0.0 in /usr/local/lib/python3.6/dist-packages (from tensorboard<1.16.0,>=1.15.0->tensorflow) (42.0.2)\n",
            "Requirement already satisfied: markdown>=2.6.8 in /usr/local/lib/python3.6/dist-packages (from tensorboard<1.16.0,>=1.15.0->tensorflow) (3.1.1)\n",
            "Requirement already satisfied: h5py in /usr/local/lib/python3.6/dist-packages (from keras-applications>=1.0.8->tensorflow) (2.8.0)\n",
            "\u001b[31mERROR: tensorflow-gpu 2.0.0 has requirement tensorboard<2.1.0,>=2.0.0, but you'll have tensorboard 1.15.0 which is incompatible.\u001b[0m\n",
            "\u001b[31mERROR: tensorflow-gpu 2.0.0 has requirement tensorflow-estimator<2.1.0,>=2.0.0, but you'll have tensorflow-estimator 1.15.1 which is incompatible.\u001b[0m\n",
            "Installing collected packages: tensorboard, tensorflow-estimator\n",
            "  Found existing installation: tensorboard 2.0.2\n",
            "    Uninstalling tensorboard-2.0.2:\n",
            "      Successfully uninstalled tensorboard-2.0.2\n",
            "  Found existing installation: tensorflow-estimator 2.0.1\n",
            "    Uninstalling tensorflow-estimator-2.0.1:\n",
            "      Successfully uninstalled tensorflow-estimator-2.0.1\n",
            "Successfully installed tensorboard-1.15.0 tensorflow-estimator-1.15.1\n"
          ],
          "name": "stdout"
        },
        {
          "output_type": "display_data",
          "data": {
            "application/vnd.colab-display-data+json": {
              "pip_warning": {
                "packages": [
                  "tensorboard",
                  "tensorflow_estimator"
                ]
              }
            }
          },
          "metadata": {
            "tags": []
          }
        }
      ]
    },
    {
      "cell_type": "code",
      "metadata": {
        "id": "1Ybpbs6fsXby",
        "colab_type": "code",
        "colab": {}
      },
      "source": [
        "import tensorflow as tf\n",
        "import numpy as np\n",
        "import matplotlib.pyplot as plt"
      ],
      "execution_count": 0,
      "outputs": []
    },
    {
      "cell_type": "code",
      "metadata": {
        "id": "c66OQ4I7susa",
        "colab_type": "code",
        "outputId": "7501efeb-c947-4cd1-93c6-203281fd2307",
        "colab": {
          "base_uri": "https://localhost:8080/",
          "height": 33
        }
      },
      "source": [
        "print(\"Check tensorflow version:\", tf.__version__)"
      ],
      "execution_count": 0,
      "outputs": [
        {
          "output_type": "stream",
          "text": [
            "Check tensorflow version: 2.0.0\n"
          ],
          "name": "stdout"
        }
      ]
    },
    {
      "cell_type": "markdown",
      "metadata": {
        "id": "bNFBSGoht5gI",
        "colab_type": "text"
      },
      "source": [
        "## 02. 데이터\n",
        "- IMDB 데이터 세트는 **`imdb.load_data()`** 함수를 통해 텐서플로에서 바로 불러올 수 있으며 훈련 세트 25,000개, 테스트 세트 25,000개로 구성되어 있습니다."
      ]
    },
    {
      "cell_type": "code",
      "metadata": {
        "id": "69dlL_o4t8Be",
        "colab_type": "code",
        "colab": {}
      },
      "source": [
        "from tensorflow.keras.datasets import imdb\n",
        "(x_train_all, y_train_all), (x_test, y_test) = imdb.load_data(skip_top=30, num_words=1000)"
      ],
      "execution_count": 0,
      "outputs": []
    },
    {
      "cell_type": "markdown",
      "metadata": {
        "id": "EYi7FHluwVSX",
        "colab_type": "text"
      },
      "source": [
        "- **skip_top** 매개변수에는 가장 많이 등장한 단어들 중 건너뛸 단어의 개수를 지정할 수 있습니다.\n",
        "<br>예를 들어, **\"a\", \"is\", \"the\"** 등과 같은 단어들은 영화 리뷰에 많이 등장하지만 분석에 유용하지 않으므로 건너뜁니다.\n",
        "- **num_words** 매개변수는 훈련에 사용할 단어의 개수를 지정합니다."
      ]
    },
    {
      "cell_type": "markdown",
      "metadata": {
        "id": "AhHZuU-PxL0E",
        "colab_type": "text"
      },
      "source": [
        "#### 데이터 확인하기\n",
        "- 훈련 세트의 크기를 확인합니다."
      ]
    },
    {
      "cell_type": "code",
      "metadata": {
        "id": "MlKfvXiUxgy5",
        "colab_type": "code",
        "outputId": "6cdcf614-74e2-4636-e16e-8f317c4555dd",
        "colab": {
          "base_uri": "https://localhost:8080/",
          "height": 33
        }
      },
      "source": [
        "print(x_train_all.shape, y_train_all.shape)"
      ],
      "execution_count": 0,
      "outputs": [
        {
          "output_type": "stream",
          "text": [
            "(25000,) (25000,)\n"
          ],
          "name": "stdout"
        }
      ]
    },
    {
      "cell_type": "markdown",
      "metadata": {
        "id": "d2rCZGLXxonH",
        "colab_type": "text"
      },
      "source": [
        "- 훈련 세트의 샘플을 확인합니다.\n",
        " - 이 정수들은 영단어를 고유한 정수에 일대일 대응한 것으로, **BoW(Bag-of-Words)** 혹은 어휘 사전이라고 부릅니다. "
      ]
    },
    {
      "cell_type": "code",
      "metadata": {
        "id": "xiz3JPJyuMkj",
        "colab_type": "code",
        "outputId": "5c767a36-3156-4d92-99cf-ebff7806ae5a",
        "colab": {
          "base_uri": "https://localhost:8080/",
          "height": 53
        }
      },
      "source": [
        "print(x_train_all[0])"
      ],
      "execution_count": 0,
      "outputs": [
        {
          "output_type": "stream",
          "text": [
            "[2, 2, 2, 2, 43, 530, 973, 2, 2, 65, 458, 2, 66, 2, 2, 173, 36, 256, 2, 2, 100, 43, 838, 112, 50, 670, 2, 2, 35, 480, 284, 2, 150, 2, 172, 112, 167, 2, 336, 385, 39, 2, 172, 2, 2, 2, 546, 38, 2, 447, 2, 192, 50, 2, 2, 147, 2, 2, 2, 2, 2, 2, 2, 469, 2, 2, 71, 87, 2, 2, 43, 530, 38, 76, 2, 2, 2, 2, 2, 2, 515, 2, 2, 2, 626, 2, 2, 2, 62, 386, 2, 2, 316, 2, 106, 2, 2, 2, 2, 2, 480, 66, 2, 33, 2, 130, 2, 2, 38, 619, 2, 2, 124, 51, 36, 135, 48, 2, 2, 33, 2, 2, 2, 215, 2, 77, 52, 2, 2, 407, 2, 82, 2, 2, 2, 107, 117, 2, 2, 256, 2, 2, 2, 2, 2, 723, 36, 71, 43, 530, 476, 2, 400, 317, 46, 2, 2, 2, 2, 2, 104, 88, 2, 381, 2, 297, 98, 32, 2, 56, 2, 141, 2, 194, 2, 2, 2, 226, 2, 2, 134, 476, 2, 480, 2, 144, 30, 2, 2, 51, 36, 2, 224, 92, 2, 104, 2, 226, 65, 2, 38, 2, 88, 2, 2, 283, 2, 2, 2, 113, 103, 32, 2, 2, 2, 2, 178, 32]\n"
          ],
          "name": "stdout"
        }
      ]
    },
    {
      "cell_type": "markdown",
      "metadata": {
        "id": "xmbORVZqzhCf",
        "colab_type": "text"
      },
      "source": [
        "- 숫자 0과 1은 각각 패딩과 글의 시작을 나타내는 데 사용합니다.\n",
        "- 숫자 2는 어휘 사전에 없는 단어입니다. 훈련 세트에서 이 숫자들을 제외합니다."
      ]
    },
    {
      "cell_type": "code",
      "metadata": {
        "id": "o8n8yWmYxOwb",
        "colab_type": "code",
        "outputId": "8349f69f-84ab-47e6-def5-e4ff3e4ce290",
        "colab": {
          "base_uri": "https://localhost:8080/",
          "height": 53
        }
      },
      "source": [
        "for i in range(len(x_train_all)):\n",
        "  x_train_all[i] = [w for w in x_train_all[i] if w > 2]\n",
        "\n",
        "print(x_train_all[0])"
      ],
      "execution_count": 0,
      "outputs": [
        {
          "output_type": "stream",
          "text": [
            "[43, 530, 973, 65, 458, 66, 173, 36, 256, 100, 43, 838, 112, 50, 670, 35, 480, 284, 150, 172, 112, 167, 336, 385, 39, 172, 546, 38, 447, 192, 50, 147, 469, 71, 87, 43, 530, 38, 76, 515, 626, 62, 386, 316, 106, 480, 66, 33, 130, 38, 619, 124, 51, 36, 135, 48, 33, 215, 77, 52, 407, 82, 107, 117, 256, 723, 36, 71, 43, 530, 476, 400, 317, 46, 104, 88, 381, 297, 98, 32, 56, 141, 194, 226, 134, 476, 480, 144, 30, 51, 36, 224, 92, 104, 226, 65, 38, 88, 283, 113, 103, 32, 178, 32]\n"
          ],
          "name": "stdout"
        }
      ]
    },
    {
      "cell_type": "markdown",
      "metadata": {
        "id": "S-Lw3xFq2DCo",
        "colab_type": "text"
      },
      "source": [
        "- 훈련 세트의 타깃 데이터도 확인해 보겠습니다.\n",
        "- 이진 분류 문제이므로 타깃 데이터는 1과 0으로 영화 리뷰가 긍정(1)인지 부정(0)인지를 나타냅니다."
      ]
    },
    {
      "cell_type": "code",
      "metadata": {
        "id": "JGIKL2sL1vh_",
        "colab_type": "code",
        "outputId": "a557001c-060a-4290-b781-fc0bcca8dbec",
        "colab": {
          "base_uri": "https://localhost:8080/",
          "height": 33
        }
      },
      "source": [
        "print(y_train_all[:10])"
      ],
      "execution_count": 0,
      "outputs": [
        {
          "output_type": "stream",
          "text": [
            "[1 0 0 1 0 0 1 0 1 0]\n"
          ],
          "name": "stdout"
        }
      ]
    },
    {
      "cell_type": "markdown",
      "metadata": {
        "id": "-Du5j1WMz9AC",
        "colab_type": "text"
      },
      "source": [
        "#### 어휘 사전 내려받기\n",
        "- 정수를 영단어로 바꾸려면 어휘 사전이 필요합니다. 어휘 사전은 **`get_word_index()`** 함수로 내려받을 수 있습니다.\n",
        "- 이 함수는 영단어와 정수로 구성된 딕셔너리를 반환합니다."
      ]
    },
    {
      "cell_type": "code",
      "metadata": {
        "id": "cX-c50wVzz91",
        "colab_type": "code",
        "colab": {}
      },
      "source": [
        "word_to_index = imdb.get_word_index()"
      ],
      "execution_count": 0,
      "outputs": []
    },
    {
      "cell_type": "markdown",
      "metadata": {
        "id": "ehboLt3X0Rdg",
        "colab_type": "text"
      },
      "source": [
        "- **`love`**라는 영단어는 116이라는 정수에 대응되어 있음을 알 수 있습니다."
      ]
    },
    {
      "cell_type": "code",
      "metadata": {
        "id": "ZEH3GbwS0QzX",
        "colab_type": "code",
        "outputId": "81a408d2-012a-4b19-ca88-ce7119c15b68",
        "colab": {
          "base_uri": "https://localhost:8080/",
          "height": 33
        }
      },
      "source": [
        "word_to_index[\"love\"]"
      ],
      "execution_count": 0,
      "outputs": [
        {
          "output_type": "execute_result",
          "data": {
            "text/plain": [
              "116"
            ]
          },
          "metadata": {
            "tags": []
          },
          "execution_count": 68
        }
      ]
    },
    {
      "cell_type": "markdown",
      "metadata": {
        "id": "4QrW6Ge50z1f",
        "colab_type": "text"
      },
      "source": [
        "#### 훈련 세트의 정수를 영단어로 변환하여 확인해보기\n",
        "- 훈련 세트에 있는 정수는 3 이상부터 영단어를 의미하므로 3을 뺀 값을 어휘 사전의 인덱스로 사용해야 합니다."
      ]
    },
    {
      "cell_type": "code",
      "metadata": {
        "id": "Il89eehi0duB",
        "colab_type": "code",
        "outputId": "49994f1d-46a3-4b1d-aba4-ee2fc6b90032",
        "colab": {
          "base_uri": "https://localhost:8080/",
          "height": 53
        }
      },
      "source": [
        "index_to_word = {word_to_index[k]: k for k in word_to_index}\n",
        "\n",
        "for w in x_train_all[0]:\n",
        "  print(index_to_word[w-3], end=\" \")"
      ],
      "execution_count": 0,
      "outputs": [
        {
          "output_type": "stream",
          "text": [
            "just brilliant casting story direction really part they played could just imagine being there robert an amazing actor now same being director father came from same myself so loved fact there real throughout were great just brilliant so much soon released would recommend everyone watch amazing really at end so sad know what they say if at must been good definitely also two little played paul they were just brilliant children often left out think because stars play them all up such big whole these children amazing should be what they done don't think whole story so because true life after all us all "
          ],
          "name": "stdout"
        }
      ]
    },
    {
      "cell_type": "markdown",
      "metadata": {
        "id": "JyHduqfs2pb6",
        "colab_type": "text"
      },
      "source": [
        "## 03. 전처리\n",
        "### 샘플 길이 맞추기\n",
        "- 훈련 세트의 입력 데이터는 리뷰 데이터이므로 각 샘플의 크기가 다릅니다.\n",
        "- 샘플의 길이가 다르면 모델을 제대로 훈련시킬 수 없습니다."
      ]
    },
    {
      "cell_type": "code",
      "metadata": {
        "id": "m6BpbjW22qNA",
        "colab_type": "code",
        "outputId": "2b6b076b-c8a9-47c3-addd-3903b2ceedc9",
        "colab": {
          "base_uri": "https://localhost:8080/",
          "height": 33
        }
      },
      "source": [
        "print(len(x_train_all[0]), len(x_train_all[1]))"
      ],
      "execution_count": 0,
      "outputs": [
        {
          "output_type": "stream",
          "text": [
            "104 81\n"
          ],
          "name": "stdout"
        }
      ]
    },
    {
      "cell_type": "markdown",
      "metadata": {
        "id": "UEAShDxs4J7P",
        "colab_type": "text"
      },
      "source": [
        "- 텐서플로를 활용하여 샘플의 길이를 맞추어줍니다."
      ]
    },
    {
      "cell_type": "code",
      "metadata": {
        "id": "r6Rrf2kl21ua",
        "colab_type": "code",
        "outputId": "376ee076-d370-44de-f5b8-afe4783f80d1",
        "colab": {
          "base_uri": "https://localhost:8080/",
          "height": 33
        }
      },
      "source": [
        "from tensorflow.keras.preprocessing import sequence\n",
        "\n",
        "maxlen = 1000\n",
        "x_train_all_seq = sequence.pad_sequences(x_train_all, maxlen=maxlen)\n",
        "print(x_train_all_seq.shape)"
      ],
      "execution_count": 0,
      "outputs": [
        {
          "output_type": "stream",
          "text": [
            "(25000, 1000)\n"
          ],
          "name": "stdout"
        }
      ]
    },
    {
      "cell_type": "markdown",
      "metadata": {
        "id": "EN1iz68P5uYa",
        "colab_type": "text"
      },
      "source": [
        "### 검증 세트 준비하기\n",
        "- 25,000개의 훈련 세트 중 5,000개만 분리하여 검증 세트로 사용하겠습니다.\n",
        "- 넘파이의 **`permutation()`** 함수를 사용하여 25,000개의 인덱스를 섞은 후 앞의 20,000개는 훈련 세트로, 나머지는 검증 세트로 분리합니다."
      ]
    },
    {
      "cell_type": "code",
      "metadata": {
        "id": "H-PmJqq358NG",
        "colab_type": "code",
        "colab": {}
      },
      "source": [
        "np.random.seed(42)\n",
        "random_index = np.random.permutation(25000)\n",
        "\n",
        "x_train = x_train_all_seq[random_index[:20000]]\n",
        "y_train = y_train_all[random_index[:20000]]\n",
        "\n",
        "x_val = x_train_all_seq[random_index[20000:]]\n",
        "y_val = y_train_all[random_index[20000:]]"
      ],
      "execution_count": 0,
      "outputs": []
    },
    {
      "cell_type": "markdown",
      "metadata": {
        "id": "qTOJbtVw8DYs",
        "colab_type": "text"
      },
      "source": [
        "## 04. 모델링\n",
        "### 임베딩층으로 순환 신경말 모델 성능 높이기\n",
        "- 컴퓨터가 자연어를 처리하기 위해서는 자연어를 수치적으로 변환해야 합니다.\n",
        "- 단어 임베딩(Word embedding)이란 단어의 의미를 보존하면서 단어를 벡터화시키는 방법입니다.\n",
        "- 즉, 단어 임베딩은 단어를 다음 그림처럼 고정된 길이의 실수 벡터로 임베딩합니다.<br>\n",
        "\n",
        "\n",
        "![alt text](https://k.kakaocdn.net/dn/brIGGV/btqBuixRRYP/HBAxBchG2Y2T1hNtGsKlC1/img.png)"
      ]
    },
    {
      "cell_type": "markdown",
      "metadata": {
        "id": "lLEdEYS1DIuh",
        "colab_type": "text"
      },
      "source": [
        "- 단어 임베딩은 모델을 훈련하면서 같이 훈련되므로 훈련이 진행될수록 단어의 연관 관계를 더 정확하게 찾을 수 있습니다.\n",
        "- 텐서플로는 **`Embedding`** 클래스로 단어 임베딩을 제공합니다."
      ]
    },
    {
      "cell_type": "markdown",
      "metadata": {
        "id": "WQXrCg8JDUym",
        "colab_type": "text"
      },
      "source": [
        "### **`SimpleRNN`** 클래스로 순환 신경망 만들기\n",
        "\n",
        "#### 순환 신경망에 필요한 클래스 임포트하기\n",
        "- 텐서플로에서 가장 기본적인 순환층은 **`SimpleRNN`** 클래스입니다."
      ]
    },
    {
      "cell_type": "code",
      "metadata": {
        "id": "Wkzu7qEjCMRd",
        "colab_type": "code",
        "colab": {}
      },
      "source": [
        "from tensorflow.keras.models import Sequential\n",
        "from tensorflow.keras.layers import Dense, SimpleRNN, Embedding"
      ],
      "execution_count": 0,
      "outputs": []
    },
    {
      "cell_type": "markdown",
      "metadata": {
        "id": "UPNe6gDeYWmi",
        "colab_type": "text"
      },
      "source": [
        "#### 모델 만들기\n",
        "- **`Keras`**의 **`Sequential`** 클래스를 사용하여 순차적으로 층을 쌓는 신경망 모델 객체를 생성합니다."
      ]
    },
    {
      "cell_type": "code",
      "metadata": {
        "id": "R-wAS0e_Dxd7",
        "colab_type": "code",
        "colab": {}
      },
      "source": [
        "model_rnn = Sequential()"
      ],
      "execution_count": 0,
      "outputs": []
    },
    {
      "cell_type": "markdown",
      "metadata": {
        "id": "kKIjKHwTbthG",
        "colab_type": "text"
      },
      "source": [
        "- **`add()`** 메서드를 사용하여 층을 추가할 수 있습니다.\n",
        "- **`Embedding`** 클래스를 사용하여 임베딩 층을 추가합니다.\n",
        "  - **`Embedding(1000, 32)`**은 1000개의 단어를 32개의 벡터로 임베딩하는 임베딩 층이란 뜻입니다.\n"
      ]
    },
    {
      "cell_type": "code",
      "metadata": {
        "id": "Y02doHatbuIn",
        "colab_type": "code",
        "colab": {}
      },
      "source": [
        "model_rnn.add(Embedding(1000, 32))"
      ],
      "execution_count": 0,
      "outputs": []
    },
    {
      "cell_type": "markdown",
      "metadata": {
        "id": "AyRL9G6Mcar4",
        "colab_type": "text"
      },
      "source": [
        "- **`SimpleRNN(8)`**: 셀의 개수가 8개인 순환층을 추가합니다."
      ]
    },
    {
      "cell_type": "code",
      "metadata": {
        "id": "MNG8lE1ZdSXo",
        "colab_type": "code",
        "colab": {}
      },
      "source": [
        "model_rnn.add(SimpleRNN(8))"
      ],
      "execution_count": 0,
      "outputs": []
    },
    {
      "cell_type": "markdown",
      "metadata": {
        "id": "mWZuU1WmdWUj",
        "colab_type": "text"
      },
      "source": [
        "- 최종 분류를 위한 출력층을 추가합니다. 이진 분류 문제이므로 시그모이드 함수를 활성화 함수로 지정했습니다."
      ]
    },
    {
      "cell_type": "code",
      "metadata": {
        "id": "pfYi9CktdVEv",
        "colab_type": "code",
        "colab": {}
      },
      "source": [
        "model_rnn.add(Dense(1, activation=\"sigmoid\"))"
      ],
      "execution_count": 0,
      "outputs": []
    },
    {
      "cell_type": "markdown",
      "metadata": {
        "id": "Mm6MTlB9dfzY",
        "colab_type": "text"
      },
      "source": [
        "- **`summary()`** 메서드를 사용하여 최종 모델을 확인합니다."
      ]
    },
    {
      "cell_type": "code",
      "metadata": {
        "id": "Pxc1KJzxWzGg",
        "colab_type": "code",
        "outputId": "60671cdc-7a2b-4da4-ef7f-dba53ba84ebb",
        "colab": {
          "base_uri": "https://localhost:8080/",
          "height": 249
        }
      },
      "source": [
        "model_rnn.summary()"
      ],
      "execution_count": 0,
      "outputs": [
        {
          "output_type": "stream",
          "text": [
            "Model: \"sequential_2\"\n",
            "_________________________________________________________________\n",
            "Layer (type)                 Output Shape              Param #   \n",
            "=================================================================\n",
            "embedding_2 (Embedding)      (None, None, 32)          32000     \n",
            "_________________________________________________________________\n",
            "simple_rnn_2 (SimpleRNN)     (None, 8)                 328       \n",
            "_________________________________________________________________\n",
            "dense_2 (Dense)              (None, 1)                 9         \n",
            "=================================================================\n",
            "Total params: 32,337\n",
            "Trainable params: 32,337\n",
            "Non-trainable params: 0\n",
            "_________________________________________________________________\n"
          ],
          "name": "stdout"
        }
      ]
    },
    {
      "cell_type": "markdown",
      "metadata": {
        "id": "8HDf80iPYO23",
        "colab_type": "text"
      },
      "source": [
        "#### 모델 컴파일하고 훈련시키기\n",
        "- **`Sequential`** 클래스의 **`compile()`** 메서드를 사용하여 최적화 알고리즘과 손실 함수를 지정합니다.\n",
        "  - 최적화 알고리즘은 **`optimizer`** 매개변수를 사용합니다. 매개변수 값으로 **`\"adam\"`**을 지정하면 *`ADAptive Moment estimation`* 경사 하강법을 사용합니다. **`\"sgd`\"**를 지정하면 기본 경사 하강법을 사용합니다.\n",
        "\n",
        "  - **`loss`** 매개변수를 통해 손실 함수를 지정합니다. 회귀문제의 경우 **`\"mse\"`**, 이진 분류 문제의 경우 **`binary_crossentropy`**, 다중 분류 문제의 경우 **`\"categorical_crossentropy\"`**로 지정합니다."
      ]
    },
    {
      "cell_type": "code",
      "metadata": {
        "id": "uNHmqmLafqO6",
        "colab_type": "code",
        "colab": {}
      },
      "source": [
        "model_rnn.compile(optimizer=\"adam\", loss=\"binary_crossentropy\", metrics=[\"accuracy\"])"
      ],
      "execution_count": 0,
      "outputs": []
    },
    {
      "cell_type": "markdown",
      "metadata": {
        "id": "XAPRtJomfjyX",
        "colab_type": "text"
      },
      "source": [
        "- **`fit()`** 메서드를 사용하여 모델을 훈련시킵니다."
      ]
    },
    {
      "cell_type": "code",
      "metadata": {
        "id": "RjuQprY2Wz4M",
        "colab_type": "code",
        "outputId": "c6a8c98d-3628-44c0-d5c9-e47aed585d16",
        "colab": {
          "base_uri": "https://localhost:8080/",
          "height": 365
        }
      },
      "source": [
        "history = model_rnn.fit(x_train, y_train, epochs=10, batch_size=32, validation_data=(x_val, y_val))"
      ],
      "execution_count": 0,
      "outputs": [
        {
          "output_type": "stream",
          "text": [
            "Train on 20000 samples, validate on 5000 samples\n",
            "Epoch 1/10\n",
            "20000/20000 [==============================] - 176s 9ms/sample - loss: 0.6631 - accuracy: 0.5877 - val_loss: 0.6113 - val_accuracy: 0.6566\n",
            "Epoch 2/10\n",
            "20000/20000 [==============================] - 161s 8ms/sample - loss: 0.4869 - accuracy: 0.7749 - val_loss: 0.4576 - val_accuracy: 0.7994\n",
            "Epoch 3/10\n",
            "20000/20000 [==============================] - 161s 8ms/sample - loss: 0.3801 - accuracy: 0.8397 - val_loss: 0.4143 - val_accuracy: 0.8280\n",
            "Epoch 4/10\n",
            "20000/20000 [==============================] - 160s 8ms/sample - loss: 0.3448 - accuracy: 0.8577 - val_loss: 0.4123 - val_accuracy: 0.8272\n",
            "Epoch 5/10\n",
            "20000/20000 [==============================] - 160s 8ms/sample - loss: 0.3152 - accuracy: 0.8733 - val_loss: 0.4224 - val_accuracy: 0.8206\n",
            "Epoch 6/10\n",
            "20000/20000 [==============================] - 160s 8ms/sample - loss: 0.3085 - accuracy: 0.8733 - val_loss: 0.4373 - val_accuracy: 0.8182\n",
            "Epoch 7/10\n",
            "20000/20000 [==============================] - 160s 8ms/sample - loss: 0.2696 - accuracy: 0.8961 - val_loss: 0.4555 - val_accuracy: 0.7990\n",
            "Epoch 8/10\n",
            "20000/20000 [==============================] - 161s 8ms/sample - loss: 0.2737 - accuracy: 0.8943 - val_loss: 0.4481 - val_accuracy: 0.8318\n",
            "Epoch 9/10\n",
            "20000/20000 [==============================] - 160s 8ms/sample - loss: 0.2504 - accuracy: 0.9057 - val_loss: 0.4651 - val_accuracy: 0.8210\n",
            "Epoch 10/10\n",
            "20000/20000 [==============================] - 157s 8ms/sample - loss: 0.2397 - accuracy: 0.9103 - val_loss: 0.4804 - val_accuracy: 0.8084\n"
          ],
          "name": "stdout"
        }
      ]
    },
    {
      "cell_type": "markdown",
      "metadata": {
        "id": "ZoQVv1ijYrvC",
        "colab_type": "text"
      },
      "source": [
        "#### 정확도 그래프 그리기"
      ]
    },
    {
      "cell_type": "code",
      "metadata": {
        "id": "FhVOSi1eXCJu",
        "colab_type": "code",
        "outputId": "30cfd641-bb65-4c0b-8dc1-0b5a11e8eafe",
        "colab": {
          "base_uri": "https://localhost:8080/",
          "height": 295
        }
      },
      "source": [
        "plt.plot(history.history[\"accuracy\"])\n",
        "plt.plot(history.history[\"val_accuracy\"])\n",
        "plt.xlabel(\"Epochs\")\n",
        "plt.ylabel(\"Accuracy\")\n",
        "plt.legend([\"train_accuracy\", \"val_accuracy\"])\n",
        "plt.title(\"Accuracy Plot(Simple RNN)\")\n",
        "plt.show()"
      ],
      "execution_count": 0,
      "outputs": [
        {
          "output_type": "display_data",
          "data": {
            "image/png": "[encoded data removed]",
            "text/plain": [
              "<Figure size 432x288 with 1 Axes>"
            ]
          },
          "metadata": {
            "tags": []
          }
        }
      ]
    },
    {
      "cell_type": "markdown",
      "metadata": {
        "id": "CJgwXkx4Y0hM",
        "colab_type": "text"
      },
      "source": [
        "#### 검증 세트 정확도 평가하기\n",
        "- 모델을 검증 세트나 테스트 세트에서 평가할 때는 **`evaluate`** 메서드를 사용합니다."
      ]
    },
    {
      "cell_type": "code",
      "metadata": {
        "id": "MDCIsqdhZLSn",
        "colab_type": "code",
        "outputId": "679b813b-2359-4d51-a40c-8264145d8855",
        "colab": {
          "base_uri": "https://localhost:8080/",
          "height": 33
        }
      },
      "source": [
        "loss, accuracy = model_rnn.evaluate(x_val, y_val, verbose=0)\n",
        "print(accuracy)"
      ],
      "execution_count": 0,
      "outputs": [
        {
          "output_type": "stream",
          "text": [
            "0.8084\n"
          ],
          "name": "stdout"
        }
      ]
    },
    {
      "cell_type": "markdown",
      "metadata": {
        "id": "HkCq3n_IZZ0c",
        "colab_type": "text"
      },
      "source": [
        "### LSTM 순환 신경망 만들기\n",
        "- 순환 신경망을 만들 때 **`SimpleRNN`** 클래스를 사용했습니다.\n",
        "- 이 클래스를 **`LSTM`** 클래스로 바꾸기만 하면 **`LSTM`** 순환 신경망을 만들 수 있습니다."
      ]
    },
    {
      "cell_type": "code",
      "metadata": {
        "id": "5tYiYJo7Zd7x",
        "colab_type": "code",
        "colab": {}
      },
      "source": [
        "from tensorflow.keras.layers import LSTM"
      ],
      "execution_count": 0,
      "outputs": []
    },
    {
      "cell_type": "code",
      "metadata": {
        "id": "G9kHiOI8Z183",
        "colab_type": "code",
        "outputId": "77d330e1-a8bc-4bd0-c33c-9a8478b4620b",
        "colab": {
          "base_uri": "https://localhost:8080/",
          "height": 249
        }
      },
      "source": [
        "model_lstm = Sequential()\n",
        "model_lstm.add(Embedding(1000, 32))\n",
        "model_lstm.add(LSTM(8))\n",
        "model_lstm.add(Dense(1, activation=\"sigmoid\"))\n",
        "model_lstm.summary()"
      ],
      "execution_count": 0,
      "outputs": [
        {
          "output_type": "stream",
          "text": [
            "Model: \"sequential_3\"\n",
            "_________________________________________________________________\n",
            "Layer (type)                 Output Shape              Param #   \n",
            "=================================================================\n",
            "embedding_3 (Embedding)      (None, None, 32)          32000     \n",
            "_________________________________________________________________\n",
            "lstm (LSTM)                  (None, 8)                 1312      \n",
            "_________________________________________________________________\n",
            "dense_3 (Dense)              (None, 1)                 9         \n",
            "=================================================================\n",
            "Total params: 33,321\n",
            "Trainable params: 33,321\n",
            "Non-trainable params: 0\n",
            "_________________________________________________________________\n"
          ],
          "name": "stdout"
        }
      ]
    },
    {
      "cell_type": "code",
      "metadata": {
        "id": "IOlv9zxdZ_w3",
        "colab_type": "code",
        "colab": {}
      },
      "source": [
        "model_lstm.compile(optimizer=\"adam\", loss=\"binary_crossentropy\", metrics=[\"accuracy\"])"
      ],
      "execution_count": 0,
      "outputs": []
    },
    {
      "cell_type": "code",
      "metadata": {
        "id": "ieEiOn9LaGSS",
        "colab_type": "code",
        "outputId": "0757a79a-e0e1-448b-f215-1dc6d6c7c227",
        "colab": {
          "base_uri": "https://localhost:8080/",
          "height": 199
        }
      },
      "source": [
        "history = model_lstm.fit(x_train, y_train, epochs=5, batch_size=32, validation_data=(x_val, y_val))"
      ],
      "execution_count": 0,
      "outputs": [
        {
          "output_type": "stream",
          "text": [
            "Train on 20000 samples, validate on 5000 samples\n",
            "Epoch 1/5\n",
            "20000/20000 [==============================] - 257s 13ms/sample - loss: 0.3646 - accuracy: 0.8492 - val_loss: 0.3764 - val_accuracy: 0.8406\n",
            "Epoch 2/5\n",
            "20000/20000 [==============================] - 259s 13ms/sample - loss: 0.3199 - accuracy: 0.8695 - val_loss: 0.3491 - val_accuracy: 0.8540\n",
            "Epoch 3/5\n",
            "20000/20000 [==============================] - 262s 13ms/sample - loss: 0.3022 - accuracy: 0.8761 - val_loss: 0.3466 - val_accuracy: 0.8480\n",
            "Epoch 4/5\n",
            "20000/20000 [==============================] - 260s 13ms/sample - loss: 0.2882 - accuracy: 0.8814 - val_loss: 0.3545 - val_accuracy: 0.8494\n",
            "Epoch 5/5\n",
            "20000/20000 [==============================] - 260s 13ms/sample - loss: 0.2892 - accuracy: 0.8820 - val_loss: 0.3648 - val_accuracy: 0.8496\n"
          ],
          "name": "stdout"
        }
      ]
    },
    {
      "cell_type": "markdown",
      "metadata": {
        "id": "WtHq5yjtaOfR",
        "colab_type": "text"
      },
      "source": [
        "#### 정확도 그래프 그리기"
      ]
    },
    {
      "cell_type": "code",
      "metadata": {
        "id": "v-UP4yTlaQS_",
        "colab_type": "code",
        "outputId": "7886a613-f103-4946-9e17-cb6cfcc03467",
        "colab": {
          "base_uri": "https://localhost:8080/",
          "height": 295
        }
      },
      "source": [
        "plt.plot(history.history[\"accuracy\"])\n",
        "plt.plot(history.history[\"val_accuracy\"])\n",
        "plt.ylabel(\"Accuracy\")\n",
        "plt.xlabel(\"Epochs\")\n",
        "plt.legend([\"train_accruacy\", \"val_accuracy\"])\n",
        "plt.title(\"Accuracy Plot(LSTM)\")\n",
        "plt.show()"
      ],
      "execution_count": 0,
      "outputs": [
        {
          "output_type": "display_data",
          "data": {
            "image/png": "[encoded data removed]",
            "text/plain": [
              "<Figure size 432x288 with 1 Axes>"
            ]
          },
          "metadata": {
            "tags": []
          }
        }
      ]
    },
    {
      "cell_type": "markdown",
      "metadata": {
        "id": "foRlNaCjaa8k",
        "colab_type": "text"
      },
      "source": [
        "#### 검증 세트 정확도 평가하기"
      ]
    },
    {
      "cell_type": "code",
      "metadata": {
        "id": "cppZxf5Dac_3",
        "colab_type": "code",
        "outputId": "92f322b9-9734-4bce-e0f3-8acad656b495",
        "colab": {
          "base_uri": "https://localhost:8080/",
          "height": 33
        }
      },
      "source": [
        "loss, accuracy = model_lstm.evaluate(x_val, y_val, verbose=0)\n",
        "print(accuracy)"
      ],
      "execution_count": 0,
      "outputs": [
        {
          "output_type": "stream",
          "text": [
            "0.8496\n"
          ],
          "name": "stdout"
        }
      ]
    }
  ]
}