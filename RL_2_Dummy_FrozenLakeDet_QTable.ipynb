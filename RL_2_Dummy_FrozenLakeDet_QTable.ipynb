{
  "nbformat": 4,
  "nbformat_minor": 0,
  "metadata": {
    "colab": {
      "name": "RL_2_Dummy_FrozenLakeDet_QTable",
      "provenance": [],
      "collapsed_sections": [],
      "authorship_tag": "ABX9TyMkcx1euT6gu/yPEDKYEmro",
      "include_colab_link": true
    },
    "kernelspec": {
      "name": "python3",
      "display_name": "Python 3"
    }
  },
  "cells": [
    {
      "cell_type": "markdown",
      "metadata": {
        "id": "view-in-github",
        "colab_type": "text"
      },
      "source": [
        "<a href=\"https://colab.research.google.com/github/Steven-A3/DeepLearningZeroToAllColab/blob/master/RL_2_Dummy_FrozenLakeDet_QTable.ipynb\" target=\"_parent\"><img src=\"https://colab.research.google.com/assets/colab-badge.svg\" alt=\"Open In Colab\"/></a>"
      ]
    },
    {
      "cell_type": "code",
      "metadata": {
        "id": "VvOK0Y2AKccy",
        "colab_type": "code",
        "outputId": "146cbd75-e503-4b3e-fec4-795ad6d1f859",
        "colab": {
          "base_uri": "https://localhost:8080/",
          "height": 34
        }
      },
      "source": [
        "!pip install gym > /dev/null 2>&1\n",
        "!apt-get update > /dev/null 2>&1\n",
        "!apt-get install cmake > /dev/null 2>&1\n",
        "!pip install --upgrade setuptools 2>&1\n",
        "!pip install ez_setup > /dev/null 2>&1\n",
        "!pip install gym[atari] > /dev/null 2>&1"
      ],
      "execution_count": 0,
      "outputs": [
        {
          "output_type": "stream",
          "text": [
            "Requirement already up-to-date: setuptools in /usr/local/lib/python3.6/dist-packages (45.1.0)\n"
          ],
          "name": "stdout"
        }
      ]
    },
    {
      "cell_type": "code",
      "metadata": {
        "id": "VtpMJL4zKdOs",
        "colab_type": "code",
        "colab": {}
      },
      "source": [
        "import gym\n",
        "from gym.envs.registration import register\n",
        "import numpy as np\n",
        "import random as pr\n",
        "import matplotlib\n",
        "import matplotlib.pyplot as plt\n",
        "%matplotlib inline"
      ],
      "execution_count": 0,
      "outputs": []
    },
    {
      "cell_type": "code",
      "metadata": {
        "id": "GDo8GmF3b0EI",
        "colab_type": "code",
        "colab": {}
      },
      "source": [
        "register(\n",
        "    id='FrozenLake-v3',\n",
        "    entry_point='gym.envs.toy_text:FrozenLakeEnv',\n",
        "    kwargs={'map_name': '4x4',\n",
        "            'is_slippery': False}\n",
        ")"
      ],
      "execution_count": 0,
      "outputs": []
    },
    {
      "cell_type": "code",
      "metadata": {
        "id": "yz1r9kCzbv49",
        "colab_type": "code",
        "colab": {}
      },
      "source": [
        "def rargmax(vector):\n",
        "    \"\"\" 최대값이 여러개인 경우, 랜덤 선택하는 argmax \"\"\"\n",
        "    m = np.amax(vector)\n",
        "    indices = np.nonzero(vector == m)[0]\n",
        "    return pr.choice(indices)"
      ],
      "execution_count": 0,
      "outputs": []
    },
    {
      "cell_type": "code",
      "metadata": {
        "id": "QnLX9UrrKvp1",
        "colab_type": "code",
        "colab": {}
      },
      "source": [
        "env = gym.make(\"FrozenLake-v3\")"
      ],
      "execution_count": 0,
      "outputs": []
    },
    {
      "cell_type": "code",
      "metadata": {
        "id": "9HbVC03xLetB",
        "colab_type": "code",
        "colab": {}
      },
      "source": [
        "# Q 테이블 모든 값을 0으로 초기화한다.\n",
        "Q = np.zeros([env.observation_space.n, env.action_space.n])\n",
        "# 학습 파라메터 설정\n",
        "num_episodes = 2000\n",
        "\n",
        "# 에피소드 별 리워드를 저장할 목록을 준비\n",
        "rList = []\n",
        "for i in range(num_episodes):\n",
        "    # 환경을 초기화하고 첫번째 상태를 돌려받음\n",
        "    state = env.reset()\n",
        "    rAll = 0\n",
        "    done = False\n",
        "\n",
        "    # Q-Learning 알고리즘\n",
        "    while not done:\n",
        "        action = rargmax(Q[state, :])\n",
        "\n",
        "        # 액션을 실행하고, 보상과 새로운 상태를 구한다.\n",
        "        new_state, reward, done, _ = env.step(action)\n",
        "\n",
        "        # Q 테이블을 새롭게 알게된 값으로 업데이트 한다.\n",
        "        Q[state, action] = reward + np.max(Q[new_state, :])\n",
        "\n",
        "        rAll += reward\n",
        "        state = new_state\n",
        "\n",
        "    rList.append(rAll)\n",
        "\n",
        "  env.close()"
      ],
      "execution_count": 0,
      "outputs": []
    },
    {
      "cell_type": "code",
      "metadata": {
        "id": "cb3SwZivX7PO",
        "colab_type": "code",
        "outputId": "85394132-a212-47fc-8079-195d9612f4e0",
        "colab": {
          "base_uri": "https://localhost:8080/",
          "height": 136
        }
      },
      "source": [
        "print(\"Success rate: \" + str(sum(rList) / num_episodes))\n",
        "print(\"Final Q-Table Values\")\n",
        "print(\"LEFT DOWN RIGHT UP\")\n",
        "\n",
        "for i in range(0,4):\n",
        "    print(Q[i*4], Q[i*4+1], Q[i*4+2], Q[i*4+3])"
      ],
      "execution_count": 0,
      "outputs": [
        {
          "output_type": "stream",
          "text": [
            "Success rate: 0.951\n",
            "Final Q-Table Values\n",
            "LEFT DOWN RIGHT UP\n",
            "[0. 1. 0. 0.] [0. 0. 0. 0.] [0. 0. 0. 0.] [0. 0. 0. 0.]\n",
            "[0. 1. 0. 0.] [0. 0. 0. 0.] [0. 0. 0. 0.] [0. 0. 0. 0.]\n",
            "[0. 0. 1. 0.] [0. 1. 0. 0.] [0. 1. 0. 0.] [0. 0. 0. 0.]\n",
            "[0. 0. 0. 0.] [0. 0. 1. 0.] [0. 0. 1. 0.] [0. 0. 0. 0.]\n"
          ],
          "name": "stdout"
        }
      ]
    },
    {
      "cell_type": "code",
      "metadata": {
        "id": "whwb4B3YZKjA",
        "colab_type": "code",
        "outputId": "528a394d-7e99-4352-9f16-6379119b235e",
        "colab": {
          "base_uri": "https://localhost:8080/",
          "height": 265
        }
      },
      "source": [
        "plt.bar(range(len(rList)), rList, color=\"blue\")\n",
        "plt.show()"
      ],
      "execution_count": 0,
      "outputs": [
        {
          "output_type": "display_data",
          "data": {
            "image/png": "[encoded data removed]",
            "text/plain": [
              "<Figure size 432x288 with 1 Axes>"
            ]
          },
          "metadata": {
            "tags": []
          }
        }
      ]
    }
  ]
}