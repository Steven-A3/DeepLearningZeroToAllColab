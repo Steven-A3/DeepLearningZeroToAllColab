{
  "nbformat": 4,
  "nbformat_minor": 0,
  "metadata": {
    "colab": {
      "name": "RL_3_FrozenLakeDet_QTable",
      "provenance": [],
      "collapsed_sections": [],
      "authorship_tag": "ABX9TyNxcjIpXyz87WF2OGczCz/o",
      "include_colab_link": true
    },
    "kernelspec": {
      "name": "python3",
      "display_name": "Python 3"
    }
  },
  "cells": [
    {
      "cell_type": "markdown",
      "metadata": {
        "id": "view-in-github",
        "colab_type": "text"
      },
      "source": [
        "<a href=\"https://colab.research.google.com/github/Steven-A3/DeepLearningZeroToAllColab/blob/master/RL_3_FrozenLakeDet_QTable.ipynb\" target=\"_parent\"><img src=\"https://colab.research.google.com/assets/colab-badge.svg\" alt=\"Open In Colab\"/></a>"
      ]
    },
    {
      "cell_type": "code",
      "metadata": {
        "id": "VvOK0Y2AKccy",
        "colab_type": "code",
        "outputId": "a31859d1-3c52-45b7-dc3c-6b8322fe807a",
        "colab": {
          "base_uri": "https://localhost:8080/",
          "height": 256
        }
      },
      "source": [
        "!pip install gym > /dev/null 2>&1\n",
        "!apt-get update > /dev/null 2>&1\n",
        "!apt-get install cmake > /dev/null 2>&1\n",
        "!pip install --upgrade setuptools 2>&1\n",
        "!pip install ez_setup > /dev/null 2>&1\n",
        "!pip install gym[atari] > /dev/null 2>&1"
      ],
      "execution_count": 0,
      "outputs": [
        {
          "output_type": "stream",
          "text": [
            "Collecting setuptools\n",
            "\u001b[?25l  Downloading https://files.pythonhosted.org/packages/a7/c5/6c1acea1b4ea88b86b03280f3fde1efa04fefecd4e7d2af13e602661cde4/setuptools-45.1.0-py3-none-any.whl (583kB)\n",
            "\u001b[K     |████████████████████████████████| 593kB 3.4MB/s \n",
            "\u001b[31mERROR: datascience 0.10.6 has requirement folium==0.2.1, but you'll have folium 0.8.3 which is incompatible.\u001b[0m\n",
            "\u001b[?25hInstalling collected packages: setuptools\n",
            "  Found existing installation: setuptools 42.0.2\n",
            "    Uninstalling setuptools-42.0.2:\n",
            "      Successfully uninstalled setuptools-42.0.2\n",
            "Successfully installed setuptools-45.1.0\n"
          ],
          "name": "stdout"
        },
        {
          "output_type": "display_data",
          "data": {
            "application/vnd.colab-display-data+json": {
              "pip_warning": {
                "packages": [
                  "pkg_resources"
                ]
              }
            }
          },
          "metadata": {
            "tags": []
          }
        }
      ]
    },
    {
      "cell_type": "code",
      "metadata": {
        "id": "VtpMJL4zKdOs",
        "colab_type": "code",
        "colab": {}
      },
      "source": [
        "import gym\n",
        "from gym.envs.registration import register\n",
        "import numpy as np\n",
        "import random\n",
        "import matplotlib\n",
        "import matplotlib.pyplot as plt\n",
        "%matplotlib inline\n",
        "\n",
        "register(\n",
        "    id='FrozenLake-v3',\n",
        "    entry_point='gym.envs.toy_text:FrozenLakeEnv',\n",
        "    kwargs={'map_name': '4x4',\n",
        "            'is_slippery': False}\n",
        ")\n"
      ],
      "execution_count": 0,
      "outputs": []
    },
    {
      "cell_type": "code",
      "metadata": {
        "id": "QnLX9UrrKvp1",
        "colab_type": "code",
        "colab": {}
      },
      "source": [
        "env = gym.make(\"FrozenLake-v3\")"
      ],
      "execution_count": 0,
      "outputs": []
    },
    {
      "cell_type": "code",
      "metadata": {
        "id": "9HbVC03xLetB",
        "colab_type": "code",
        "colab": {}
      },
      "source": [
        "# Initialize table with all zeros\n",
        "Q = np.zeros([env.observation_space.n, env.action_space.n])\n",
        "# Set learning parameters\n",
        "dis = .99\n",
        "num_episodes = 2000\n",
        "\n",
        "# create lists to contain total rewards and steps per episode\n",
        "rList = []\n",
        "for i in range(num_episodes):\n",
        "    # Reset environment and get first new observation\n",
        "    state = env.reset()\n",
        "    rAll = 0\n",
        "    done = False\n",
        "\n",
        "    e = 1. / ((i // 100) + 1)  # Python2&3\n",
        "\n",
        "    # The Q-Table learning algorithm\n",
        "    while not done:\n",
        "        # Choose an action by e greedy\n",
        "        if np.random.rand(1) < e:\n",
        "            action = env.action_space.sample()\n",
        "        else:\n",
        "            action = np.argmax(Q[state, :])\n",
        "\n",
        "        # Get new state and reward from environment\n",
        "        new_state, reward, done, _ = env.step(action)\n",
        "\n",
        "        # Update Q-Table with new knowledge using learning rate\n",
        "        Q[state, action] = reward + dis * np.max(Q[new_state, :])\n",
        "\n",
        "        rAll += reward\n",
        "        state = new_state\n",
        "\n",
        "    rList.append(rAll)\n",
        "\n",
        "env.close()"
      ],
      "execution_count": 0,
      "outputs": []
    },
    {
      "cell_type": "code",
      "metadata": {
        "id": "tZL278KM5V-n",
        "colab_type": "code",
        "outputId": "34bee69d-2d8c-46f1-c359-c79388005df7",
        "colab": {
          "base_uri": "https://localhost:8080/",
          "height": 136
        }
      },
      "source": [
        "print(\"Success rate: \" + str(sum(rList) / num_episodes))\n",
        "print(\"Final Q-Table Values\")\n",
        "print(\"LEFT DOWN RIGHT UP\")\n",
        "for i in range(0,4):\n",
        "    print(Q[i*4], Q[i*4+1], Q[i*4+2], Q[i*4+3])"
      ],
      "execution_count": 0,
      "outputs": [
        {
          "output_type": "stream",
          "text": [
            "Success rate: 0.632\n",
            "Final Q-Table Values\n",
            "LEFT DOWN RIGHT UP\n",
            "[0.94148015 0.95099005 0.93206535 0.94148015] [0.94148015 0.         0.         0.93206535] [0. 0. 0. 0.] [0. 0. 0. 0.]\n",
            "[0.95099005 0.96059601 0.         0.94148015] [0. 0. 0. 0.] [0. 0. 0. 0.] [0. 0. 0. 0.]\n",
            "[0.96059601 0.         0.970299   0.95099005] [0.96059601 0.9801     0.9801     0.        ] [0.970299 0.99     0.       0.      ] [0. 0. 0. 0.]\n",
            "[0. 0. 0. 0.] [0.       0.9801   0.99     0.970299] [0.9801 0.99   1.     0.9801] [0. 0. 0. 0.]\n"
          ],
          "name": "stdout"
        }
      ]
    },
    {
      "cell_type": "code",
      "metadata": {
        "id": "OgY552h-5R5N",
        "colab_type": "code",
        "outputId": "de087ff8-387e-43e8-b9cd-d6cf9c2001ee",
        "colab": {
          "base_uri": "https://localhost:8080/",
          "height": 265
        }
      },
      "source": [
        "plt.bar(range(len(rList)), rList, color=\"blue\")\n",
        "plt.show()\n"
      ],
      "execution_count": 0,
      "outputs": [
        {
          "output_type": "display_data",
          "data": {
            "image/png": "[encoded data removed]",
            "text/plain": [
              "<Figure size 432x288 with 1 Axes>"
            ]
          },
          "metadata": {
            "tags": []
          }
        }
      ]
    }
  ]
}