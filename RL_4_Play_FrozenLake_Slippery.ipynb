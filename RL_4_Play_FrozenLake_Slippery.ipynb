{
  "nbformat": 4,
  "nbformat_minor": 0,
  "metadata": {
    "colab": {
      "name": "RL_4_Play FrozenLake Slippery",
      "provenance": [],
      "collapsed_sections": [],
      "authorship_tag": "ABX9TyN7DG1ZnfLVjBo3a5CA0VDz",
      "include_colab_link": true
    },
    "kernelspec": {
      "name": "python3",
      "display_name": "Python 3"
    }
  },
  "cells": [
    {
      "cell_type": "markdown",
      "metadata": {
        "id": "view-in-github",
        "colab_type": "text"
      },
      "source": [
        "<a href=\"https://colab.research.google.com/github/Steven-A3/DeepLearningZeroToAllColab/blob/master/RL_4_Play_FrozenLake_Slippery.ipynb\" target=\"_parent\"><img src=\"https://colab.research.google.com/assets/colab-badge.svg\" alt=\"Open In Colab\"/></a>"
      ]
    },
    {
      "cell_type": "code",
      "metadata": {
        "id": "VvOK0Y2AKccy",
        "colab_type": "code",
        "outputId": "0a23f72d-a079-4185-a468-3b89f148e01e",
        "colab": {
          "base_uri": "https://localhost:8080/",
          "height": 276
        }
      },
      "source": [
        "!pip install gym > /dev/null 2>&1\n",
        "!apt-get update > /dev/null 2>&1\n",
        "!apt-get install cmake > /dev/null 2>&1\n",
        "!pip install --upgrade setuptools 2>&1\n",
        "!pip install ez_setup > /dev/null 2>&1\n",
        "!pip install gym[atari] > /dev/null 2>&1"
      ],
      "execution_count": 0,
      "outputs": [
        {
          "output_type": "stream",
          "text": [
            "Collecting setuptools\n",
            "\u001b[?25l  Downloading https://files.pythonhosted.org/packages/a7/c5/6c1acea1b4ea88b86b03280f3fde1efa04fefecd4e7d2af13e602661cde4/setuptools-45.1.0-py3-none-any.whl (583kB)\n",
            "\r\u001b[K     |▋                               | 10kB 24.5MB/s eta 0:00:01\r\u001b[K     |█▏                              | 20kB 6.3MB/s eta 0:00:01\r\u001b[K     |█▊                              | 30kB 8.9MB/s eta 0:00:01\r\u001b[K     |██▎                             | 40kB 5.8MB/s eta 0:00:01\r\u001b[K     |██▉                             | 51kB 7.1MB/s eta 0:00:01\r\u001b[K     |███▍                            | 61kB 8.4MB/s eta 0:00:01\r\u001b[K     |████                            | 71kB 9.5MB/s eta 0:00:01\r\u001b[K     |████▌                           | 81kB 10.5MB/s eta 0:00:01\r\u001b[K     |█████                           | 92kB 11.6MB/s eta 0:00:01\r\u001b[K     |█████▋                          | 102kB 9.3MB/s eta 0:00:01\r\u001b[K     |██████▏                         | 112kB 9.3MB/s eta 0:00:01\r\u001b[K     |██████▊                         | 122kB 9.3MB/s eta 0:00:01\r\u001b[K     |███████▎                        | 133kB 9.3MB/s eta 0:00:01\r\u001b[K     |███████▉                        | 143kB 9.3MB/s eta 0:00:01\r\u001b[K     |████████▍                       | 153kB 9.3MB/s eta 0:00:01\r\u001b[K     |█████████                       | 163kB 9.3MB/s eta 0:00:01\r\u001b[K     |█████████▌                      | 174kB 9.3MB/s eta 0:00:01\r\u001b[K     |██████████                      | 184kB 9.3MB/s eta 0:00:01\r\u001b[K     |██████████▋                     | 194kB 9.3MB/s eta 0:00:01\r\u001b[K     |███████████▎                    | 204kB 9.3MB/s eta 0:00:01\r\u001b[K     |███████████▉                    | 215kB 9.3MB/s eta 0:00:01\r\u001b[K     |████████████▍                   | 225kB 9.3MB/s eta 0:00:01\r\u001b[K     |█████████████                   | 235kB 9.3MB/s eta 0:00:01\r\u001b[K     |█████████████▌                  | 245kB 9.3MB/s eta 0:00:01\r\u001b[K     |██████████████                  | 256kB 9.3MB/s eta 0:00:01\r\u001b[K     |██████████████▋                 | 266kB 9.3MB/s eta 0:00:01\r\u001b[K     |███████████████▏                | 276kB 9.3MB/s eta 0:00:01\r\u001b[K     |███████████████▊                | 286kB 9.3MB/s eta 0:00:01\r\u001b[K     |████████████████▎               | 296kB 9.3MB/s eta 0:00:01\r\u001b[K     |████████████████▉               | 307kB 9.3MB/s eta 0:00:01\r\u001b[K     |█████████████████▍              | 317kB 9.3MB/s eta 0:00:01\r\u001b[K     |██████████████████              | 327kB 9.3MB/s eta 0:00:01\r\u001b[K     |██████████████████▌             | 337kB 9.3MB/s eta 0:00:01\r\u001b[K     |███████████████████             | 348kB 9.3MB/s eta 0:00:01\r\u001b[K     |███████████████████▋            | 358kB 9.3MB/s eta 0:00:01\r\u001b[K     |████████████████████▏           | 368kB 9.3MB/s eta 0:00:01\r\u001b[K     |████████████████████▊           | 378kB 9.3MB/s eta 0:00:01\r\u001b[K     |█████████████████████▎          | 389kB 9.3MB/s eta 0:00:01\r\u001b[K     |█████████████████████▉          | 399kB 9.3MB/s eta 0:00:01\r\u001b[K     |██████████████████████▌         | 409kB 9.3MB/s eta 0:00:01\r\u001b[K     |███████████████████████         | 419kB 9.3MB/s eta 0:00:01\r\u001b[K     |███████████████████████▋        | 430kB 9.3MB/s eta 0:00:01\r\u001b[K     |████████████████████████▏       | 440kB 9.3MB/s eta 0:00:01\r\u001b[K     |████████████████████████▊       | 450kB 9.3MB/s eta 0:00:01\r\u001b[K     |█████████████████████████▎      | 460kB 9.3MB/s eta 0:00:01\r\u001b[K     |█████████████████████████▉      | 471kB 9.3MB/s eta 0:00:01\r\u001b[K     |██████████████████████████▍     | 481kB 9.3MB/s eta 0:00:01\r\u001b[K     |███████████████████████████     | 491kB 9.3MB/s eta 0:00:01\r\u001b[K     |███████████████████████████▌    | 501kB 9.3MB/s eta 0:00:01\r\u001b[K     |████████████████████████████    | 512kB 9.3MB/s eta 0:00:01\r\u001b[K     |████████████████████████████▋   | 522kB 9.3MB/s eta 0:00:01\r\u001b[K     |█████████████████████████████▏  | 532kB 9.3MB/s eta 0:00:01\r\u001b[K     |█████████████████████████████▊  | 542kB 9.3MB/s eta 0:00:01\r\u001b[K     |██████████████████████████████▎ | 552kB 9.3MB/s eta 0:00:01\r\u001b[K     |██████████████████████████████▉ | 563kB 9.3MB/s eta 0:00:01\r\u001b[K     |███████████████████████████████▍| 573kB 9.3MB/s eta 0:00:01\r\u001b[K     |████████████████████████████████| 583kB 9.3MB/s eta 0:00:01\r\u001b[K     |████████████████████████████████| 593kB 9.3MB/s \n",
            "\u001b[31mERROR: datascience 0.10.6 has requirement folium==0.2.1, but you'll have folium 0.8.3 which is incompatible.\u001b[0m\n",
            "\u001b[?25hInstalling collected packages: setuptools\n",
            "  Found existing installation: setuptools 42.0.2\n",
            "    Uninstalling setuptools-42.0.2:\n",
            "      Successfully uninstalled setuptools-42.0.2\n",
            "Successfully installed setuptools-45.1.0\n"
          ],
          "name": "stdout"
        },
        {
          "output_type": "display_data",
          "data": {
            "application/vnd.colab-display-data+json": {
              "pip_warning": {
                "packages": [
                  "pkg_resources"
                ]
              }
            }
          },
          "metadata": {
            "tags": []
          }
        }
      ]
    },
    {
      "cell_type": "code",
      "metadata": {
        "id": "VtpMJL4zKdOs",
        "colab_type": "code",
        "colab": {}
      },
      "source": [
        "import gym"
      ],
      "execution_count": 0,
      "outputs": []
    },
    {
      "cell_type": "code",
      "metadata": {
        "id": "QnLX9UrrKvp1",
        "colab_type": "code",
        "colab": {}
      },
      "source": [
        "env = gym.make(\"FrozenLake-v0\")"
      ],
      "execution_count": 0,
      "outputs": []
    },
    {
      "cell_type": "code",
      "metadata": {
        "id": "bkESGyMUK4st",
        "colab_type": "code",
        "outputId": "d98465d3-98ef-4802-dae5-c88f84e7bac8",
        "colab": {
          "base_uri": "https://localhost:8080/",
          "height": 34
        }
      },
      "source": [
        "print(env.action_space)"
      ],
      "execution_count": 0,
      "outputs": [
        {
          "output_type": "stream",
          "text": [
            "Discrete(4)\n"
          ],
          "name": "stdout"
        }
      ]
    },
    {
      "cell_type": "code",
      "metadata": {
        "id": "9HbVC03xLetB",
        "colab_type": "code",
        "outputId": "8755a34a-364f-453e-e2ac-9dbe810d1475",
        "colab": {
          "base_uri": "https://localhost:8080/",
          "height": 952
        }
      },
      "source": [
        "observation = env.reset()\n",
        "env.render()\n",
        "while True:\n",
        "    #your agent goes here\n",
        "    action = env.action_space.sample() \n",
        "    observation, reward, done, info = env.step(action) \n",
        "    env.render()\n",
        "    if done: \n",
        "      break;\n",
        "env.close()"
      ],
      "execution_count": 0,
      "outputs": [
        {
          "output_type": "stream",
          "text": [
            "\n",
            "\u001b[41mS\u001b[0mFFF\n",
            "FHFH\n",
            "FFFH\n",
            "HFFG\n",
            "  (Left)\n",
            "SFFF\n",
            "\u001b[41mF\u001b[0mHFH\n",
            "FFFH\n",
            "HFFG\n",
            "  (Left)\n",
            "SFFF\n",
            "FHFH\n",
            "\u001b[41mF\u001b[0mFFH\n",
            "HFFG\n",
            "  (Left)\n",
            "SFFF\n",
            "\u001b[41mF\u001b[0mHFH\n",
            "FFFH\n",
            "HFFG\n",
            "  (Left)\n",
            "\u001b[41mS\u001b[0mFFF\n",
            "FHFH\n",
            "FFFH\n",
            "HFFG\n",
            "  (Up)\n",
            "\u001b[41mS\u001b[0mFFF\n",
            "FHFH\n",
            "FFFH\n",
            "HFFG\n",
            "  (Up)\n",
            "\u001b[41mS\u001b[0mFFF\n",
            "FHFH\n",
            "FFFH\n",
            "HFFG\n",
            "  (Left)\n",
            "\u001b[41mS\u001b[0mFFF\n",
            "FHFH\n",
            "FFFH\n",
            "HFFG\n",
            "  (Left)\n",
            "\u001b[41mS\u001b[0mFFF\n",
            "FHFH\n",
            "FFFH\n",
            "HFFG\n",
            "  (Right)\n",
            "S\u001b[41mF\u001b[0mFF\n",
            "FHFH\n",
            "FFFH\n",
            "HFFG\n",
            "  (Left)\n",
            "SFFF\n",
            "F\u001b[41mH\u001b[0mFH\n",
            "FFFH\n",
            "HFFG\n"
          ],
          "name": "stdout"
        }
      ]
    }
  ]
}