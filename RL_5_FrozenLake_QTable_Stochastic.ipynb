{
  "nbformat": 4,
  "nbformat_minor": 0,
  "metadata": {
    "colab": {
      "name": "RL_5_FrozenLake_QTable Stochastic",
      "provenance": [],
      "collapsed_sections": [],
      "authorship_tag": "ABX9TyNXqqXuQH7ItTRS31m/BVnC",
      "include_colab_link": true
    },
    "kernelspec": {
      "name": "python3",
      "display_name": "Python 3"
    }
  },
  "cells": [
    {
      "cell_type": "markdown",
      "metadata": {
        "id": "view-in-github",
        "colab_type": "text"
      },
      "source": [
        "<a href=\"https://colab.research.google.com/github/Steven-A3/DeepLearningZeroToAllColab/blob/master/RL_5_FrozenLake_QTable_Stochastic.ipynb\" target=\"_parent\"><img src=\"https://colab.research.google.com/assets/colab-badge.svg\" alt=\"Open In Colab\"/></a>"
      ]
    },
    {
      "cell_type": "code",
      "metadata": {
        "id": "VvOK0Y2AKccy",
        "colab_type": "code",
        "outputId": "a561f8d5-9683-4cb8-ed37-738639c887a3",
        "colab": {
          "base_uri": "https://localhost:8080/",
          "height": 276
        }
      },
      "source": [
        "!pip install gym > /dev/null 2>&1\n",
        "!apt-get update > /dev/null 2>&1\n",
        "!apt-get install cmake > /dev/null 2>&1\n",
        "!pip install --upgrade setuptools 2>&1\n",
        "!pip install ez_setup > /dev/null 2>&1\n",
        "!pip install gym[atari] > /dev/null 2>&1"
      ],
      "execution_count": 0,
      "outputs": [
        {
          "output_type": "stream",
          "text": [
            "Collecting setuptools\n",
            "\u001b[?25l  Downloading https://files.pythonhosted.org/packages/a7/c5/6c1acea1b4ea88b86b03280f3fde1efa04fefecd4e7d2af13e602661cde4/setuptools-45.1.0-py3-none-any.whl (583kB)\n",
            "\r\u001b[K     |▋                               | 10kB 23.9MB/s eta 0:00:01\r\u001b[K     |█▏                              | 20kB 3.2MB/s eta 0:00:01\r\u001b[K     |█▊                              | 30kB 4.6MB/s eta 0:00:01\r\u001b[K     |██▎                             | 40kB 3.0MB/s eta 0:00:01\r\u001b[K     |██▉                             | 51kB 3.7MB/s eta 0:00:01\r\u001b[K     |███▍                            | 61kB 4.4MB/s eta 0:00:01\r\u001b[K     |████                            | 71kB 5.1MB/s eta 0:00:01\r\u001b[K     |████▌                           | 81kB 5.7MB/s eta 0:00:01\r\u001b[K     |█████                           | 92kB 6.4MB/s eta 0:00:01\r\u001b[K     |█████▋                          | 102kB 4.9MB/s eta 0:00:01\r\u001b[K     |██████▏                         | 112kB 4.9MB/s eta 0:00:01\r\u001b[K     |██████▊                         | 122kB 4.9MB/s eta 0:00:01\r\u001b[K     |███████▎                        | 133kB 4.9MB/s eta 0:00:01\r\u001b[K     |███████▉                        | 143kB 4.9MB/s eta 0:00:01\r\u001b[K     |████████▍                       | 153kB 4.9MB/s eta 0:00:01\r\u001b[K     |█████████                       | 163kB 4.9MB/s eta 0:00:01\r\u001b[K     |█████████▌                      | 174kB 4.9MB/s eta 0:00:01\r\u001b[K     |██████████                      | 184kB 4.9MB/s eta 0:00:01\r\u001b[K     |██████████▋                     | 194kB 4.9MB/s eta 0:00:01\r\u001b[K     |███████████▎                    | 204kB 4.9MB/s eta 0:00:01\r\u001b[K     |███████████▉                    | 215kB 4.9MB/s eta 0:00:01\r\u001b[K     |████████████▍                   | 225kB 4.9MB/s eta 0:00:01\r\u001b[K     |█████████████                   | 235kB 4.9MB/s eta 0:00:01\r\u001b[K     |█████████████▌                  | 245kB 4.9MB/s eta 0:00:01\r\u001b[K     |██████████████                  | 256kB 4.9MB/s eta 0:00:01\r\u001b[K     |██████████████▋                 | 266kB 4.9MB/s eta 0:00:01\r\u001b[K     |███████████████▏                | 276kB 4.9MB/s eta 0:00:01\r\u001b[K     |███████████████▊                | 286kB 4.9MB/s eta 0:00:01\r\u001b[K     |████████████████▎               | 296kB 4.9MB/s eta 0:00:01\r\u001b[K     |████████████████▉               | 307kB 4.9MB/s eta 0:00:01\r\u001b[K     |█████████████████▍              | 317kB 4.9MB/s eta 0:00:01\r\u001b[K     |██████████████████              | 327kB 4.9MB/s eta 0:00:01\r\u001b[K     |██████████████████▌             | 337kB 4.9MB/s eta 0:00:01\r\u001b[K     |███████████████████             | 348kB 4.9MB/s eta 0:00:01\r\u001b[K     |███████████████████▋            | 358kB 4.9MB/s eta 0:00:01\r\u001b[K     |████████████████████▏           | 368kB 4.9MB/s eta 0:00:01\r\u001b[K     |████████████████████▊           | 378kB 4.9MB/s eta 0:00:01\r\u001b[K     |█████████████████████▎          | 389kB 4.9MB/s eta 0:00:01\r\u001b[K     |█████████████████████▉          | 399kB 4.9MB/s eta 0:00:01\r\u001b[K     |██████████████████████▌         | 409kB 4.9MB/s eta 0:00:01\r\u001b[K     |███████████████████████         | 419kB 4.9MB/s eta 0:00:01\r\u001b[K     |███████████████████████▋        | 430kB 4.9MB/s eta 0:00:01\r\u001b[K     |████████████████████████▏       | 440kB 4.9MB/s eta 0:00:01\r\u001b[K     |████████████████████████▊       | 450kB 4.9MB/s eta 0:00:01\r\u001b[K     |█████████████████████████▎      | 460kB 4.9MB/s eta 0:00:01\r\u001b[K     |█████████████████████████▉      | 471kB 4.9MB/s eta 0:00:01\r\u001b[K     |██████████████████████████▍     | 481kB 4.9MB/s eta 0:00:01\r\u001b[K     |███████████████████████████     | 491kB 4.9MB/s eta 0:00:01\r\u001b[K     |███████████████████████████▌    | 501kB 4.9MB/s eta 0:00:01\r\u001b[K     |████████████████████████████    | 512kB 4.9MB/s eta 0:00:01\r\u001b[K     |████████████████████████████▋   | 522kB 4.9MB/s eta 0:00:01\r\u001b[K     |█████████████████████████████▏  | 532kB 4.9MB/s eta 0:00:01\r\u001b[K     |█████████████████████████████▊  | 542kB 4.9MB/s eta 0:00:01\r\u001b[K     |██████████████████████████████▎ | 552kB 4.9MB/s eta 0:00:01\r\u001b[K     |██████████████████████████████▉ | 563kB 4.9MB/s eta 0:00:01\r\u001b[K     |███████████████████████████████▍| 573kB 4.9MB/s eta 0:00:01\r\u001b[K     |████████████████████████████████| 583kB 4.9MB/s eta 0:00:01\r\u001b[K     |████████████████████████████████| 593kB 4.9MB/s \n",
            "\u001b[31mERROR: datascience 0.10.6 has requirement folium==0.2.1, but you'll have folium 0.8.3 which is incompatible.\u001b[0m\n",
            "\u001b[?25hInstalling collected packages: setuptools\n",
            "  Found existing installation: setuptools 42.0.2\n",
            "    Uninstalling setuptools-42.0.2:\n",
            "      Successfully uninstalled setuptools-42.0.2\n",
            "Successfully installed setuptools-45.1.0\n"
          ],
          "name": "stdout"
        },
        {
          "output_type": "display_data",
          "data": {
            "application/vnd.colab-display-data+json": {
              "pip_warning": {
                "packages": [
                  "pkg_resources"
                ]
              }
            }
          },
          "metadata": {
            "tags": []
          }
        }
      ]
    },
    {
      "cell_type": "code",
      "metadata": {
        "id": "VtpMJL4zKdOs",
        "colab_type": "code",
        "colab": {}
      },
      "source": [
        "import gym\n",
        "import numpy as np\n",
        "import random\n",
        "import matplotlib\n",
        "import matplotlib.pyplot as plt\n",
        "%matplotlib inline"
      ],
      "execution_count": 0,
      "outputs": []
    },
    {
      "cell_type": "code",
      "metadata": {
        "id": "QnLX9UrrKvp1",
        "colab_type": "code",
        "colab": {}
      },
      "source": [
        "env = gym.make(\"FrozenLake-v0\")"
      ],
      "execution_count": 0,
      "outputs": []
    },
    {
      "cell_type": "code",
      "metadata": {
        "id": "9HbVC03xLetB",
        "colab_type": "code",
        "colab": {}
      },
      "source": [
        "# Initialize table with all zeros\n",
        "Q = np.zeros([env.observation_space.n, env.action_space.n])\n",
        "# Set learning parameters\n",
        "dis = .99\n",
        "num_episodes = 2000\n",
        "\n",
        "# create lists to contain total rewards and steps per episode\n",
        "rList = []\n",
        "for i in range(num_episodes):\n",
        "    # Reset environment and get first new observation\n",
        "    state = env.reset()\n",
        "    rAll = 0\n",
        "    done = False\n",
        "\n",
        "    e = 1. / ((i // 100) + 1)  # Python2&3\n",
        "\n",
        "    # The Q-Table learning algorithm\n",
        "    while not done:\n",
        "        # Choose an action by e greedy\n",
        "        if np.random.rand(1) < e:\n",
        "            action = env.action_space.sample()\n",
        "        else:\n",
        "            action = np.argmax(Q[state, :])\n",
        "\n",
        "        # Get new state and reward from environment\n",
        "        new_state, reward, done, _ = env.step(action)\n",
        "\n",
        "        # Update Q-Table with new knowledge using learning rate\n",
        "        Q[state, action] = reward + dis * np.max(Q[new_state, :])\n",
        "\n",
        "        rAll += reward\n",
        "        state = new_state\n",
        "\n",
        "    rList.append(rAll)\n",
        "\n",
        "env.close()"
      ],
      "execution_count": 0,
      "outputs": []
    },
    {
      "cell_type": "code",
      "metadata": {
        "id": "tZL278KM5V-n",
        "colab_type": "code",
        "outputId": "bb1af071-d55e-4804-f894-e67687a7b850",
        "colab": {
          "base_uri": "https://localhost:8080/",
          "height": 156
        }
      },
      "source": [
        "print(\"Success rate: \" + str(sum(rList) / num_episodes))\n",
        "print(\"Final Q-Table Values\")\n",
        "print(\"LEFT DOWN RIGHT UP\")\n",
        "for i in range(0,4):\n",
        "    print(Q[i*4], Q[i*4+1], Q[i*4+2], Q[i*4+3])"
      ],
      "execution_count": 0,
      "outputs": [
        {
          "output_type": "stream",
          "text": [
            "Success rate: 0.025\n",
            "Final Q-Table Values\n",
            "LEFT DOWN RIGHT UP\n",
            "[0.00000000e+00 0.00000000e+00 0.00000000e+00 5.09178122e-09] [0.0000000e+00 0.0000000e+00 0.0000000e+00 5.3541898e-09] [0.00000000e+00 0.00000000e+00 0.00000000e+00 5.14321336e-09] [0.00000000e+00 0.00000000e+00 0.00000000e+00 5.14321336e-09]\n",
            "[5.80246067e-09 0.00000000e+00 0.00000000e+00 0.00000000e+00] [0. 0. 0. 0.] [0. 0. 0. 0.] [0. 0. 0. 0.]\n",
            "[0. 0. 0. 0.] [0. 0. 0. 0.] [0. 0. 0. 0.] [0. 0. 0. 0.]\n",
            "[0. 0. 0. 0.] [0. 0. 0. 0.] [0. 0. 0. 0.] [0. 0. 0. 0.]\n"
          ],
          "name": "stdout"
        }
      ]
    },
    {
      "cell_type": "code",
      "metadata": {
        "id": "OgY552h-5R5N",
        "colab_type": "code",
        "outputId": "ad436ca4-9fc2-4aae-f519-1568af20f05d",
        "colab": {
          "base_uri": "https://localhost:8080/",
          "height": 265
        }
      },
      "source": [
        "plt.bar(range(len(rList)), rList, color=\"blue\")\n",
        "plt.show()\n"
      ],
      "execution_count": 0,
      "outputs": [
        {
          "output_type": "display_data",
          "data": {
            "image/png": "[encoded data removed]",
            "text/plain": [
              "<Figure size 432x288 with 1 Axes>"
            ]
          },
          "metadata": {
            "tags": []
          }
        }
      ]
    }
  ]
}