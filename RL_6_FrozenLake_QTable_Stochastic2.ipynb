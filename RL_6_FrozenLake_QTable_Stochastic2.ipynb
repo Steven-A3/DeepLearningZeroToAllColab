{
  "nbformat": 4,
  "nbformat_minor": 0,
  "metadata": {
    "colab": {
      "name": "RL_6_FrozenLake_QTable Stochastic2",
      "provenance": [],
      "collapsed_sections": [],
      "authorship_tag": "ABX9TyPSq4T9YXTXKiuoJHYSnkW8",
      "include_colab_link": true
    },
    "kernelspec": {
      "name": "python3",
      "display_name": "Python 3"
    }
  },
  "cells": [
    {
      "cell_type": "markdown",
      "metadata": {
        "id": "view-in-github",
        "colab_type": "text"
      },
      "source": [
        "<a href=\"https://colab.research.google.com/github/Steven-A3/DeepLearningZeroToAllColab/blob/master/RL_6_FrozenLake_QTable_Stochastic2.ipynb\" target=\"_parent\"><img src=\"https://colab.research.google.com/assets/colab-badge.svg\" alt=\"Open In Colab\"/></a>"
      ]
    },
    {
      "cell_type": "code",
      "metadata": {
        "id": "VvOK0Y2AKccy",
        "colab_type": "code",
        "outputId": "d219ac61-17f4-4467-e780-c83c2aa2e49d",
        "colab": {
          "base_uri": "https://localhost:8080/",
          "height": 276
        }
      },
      "source": [
        "!pip install gym > /dev/null 2>&1\n",
        "!apt-get update > /dev/null 2>&1\n",
        "!apt-get install cmake > /dev/null 2>&1\n",
        "!pip install --upgrade setuptools 2>&1\n",
        "!pip install ez_setup > /dev/null 2>&1\n",
        "!pip install gym[atari] > /dev/null 2>&1"
      ],
      "execution_count": 0,
      "outputs": [
        {
          "output_type": "stream",
          "text": [
            "Collecting setuptools\n",
            "\u001b[?25l  Downloading https://files.pythonhosted.org/packages/a7/c5/6c1acea1b4ea88b86b03280f3fde1efa04fefecd4e7d2af13e602661cde4/setuptools-45.1.0-py3-none-any.whl (583kB)\n",
            "\r\u001b[K     |▋                               | 10kB 19.1MB/s eta 0:00:01\r\u001b[K     |█▏                              | 20kB 3.2MB/s eta 0:00:01\r\u001b[K     |█▊                              | 30kB 4.5MB/s eta 0:00:01\r\u001b[K     |██▎                             | 40kB 3.0MB/s eta 0:00:01\r\u001b[K     |██▉                             | 51kB 3.6MB/s eta 0:00:01\r\u001b[K     |███▍                            | 61kB 4.3MB/s eta 0:00:01\r\u001b[K     |████                            | 71kB 5.0MB/s eta 0:00:01\r\u001b[K     |████▌                           | 81kB 5.6MB/s eta 0:00:01\r\u001b[K     |█████                           | 92kB 6.2MB/s eta 0:00:01\r\u001b[K     |█████▋                          | 102kB 4.9MB/s eta 0:00:01\r\u001b[K     |██████▏                         | 112kB 4.9MB/s eta 0:00:01\r\u001b[K     |██████▊                         | 122kB 4.9MB/s eta 0:00:01\r\u001b[K     |███████▎                        | 133kB 4.9MB/s eta 0:00:01\r\u001b[K     |███████▉                        | 143kB 4.9MB/s eta 0:00:01\r\u001b[K     |████████▍                       | 153kB 4.9MB/s eta 0:00:01\r\u001b[K     |█████████                       | 163kB 4.9MB/s eta 0:00:01\r\u001b[K     |█████████▌                      | 174kB 4.9MB/s eta 0:00:01\r\u001b[K     |██████████                      | 184kB 4.9MB/s eta 0:00:01\r\u001b[K     |██████████▋                     | 194kB 4.9MB/s eta 0:00:01\r\u001b[K     |███████████▎                    | 204kB 4.9MB/s eta 0:00:01\r\u001b[K     |███████████▉                    | 215kB 4.9MB/s eta 0:00:01\r\u001b[K     |████████████▍                   | 225kB 4.9MB/s eta 0:00:01\r\u001b[K     |█████████████                   | 235kB 4.9MB/s eta 0:00:01\r\u001b[K     |█████████████▌                  | 245kB 4.9MB/s eta 0:00:01\r\u001b[K     |██████████████                  | 256kB 4.9MB/s eta 0:00:01\r\u001b[K     |██████████████▋                 | 266kB 4.9MB/s eta 0:00:01\r\u001b[K     |███████████████▏                | 276kB 4.9MB/s eta 0:00:01\r\u001b[K     |███████████████▊                | 286kB 4.9MB/s eta 0:00:01\r\u001b[K     |████████████████▎               | 296kB 4.9MB/s eta 0:00:01\r\u001b[K     |████████████████▉               | 307kB 4.9MB/s eta 0:00:01\r\u001b[K     |█████████████████▍              | 317kB 4.9MB/s eta 0:00:01\r\u001b[K     |██████████████████              | 327kB 4.9MB/s eta 0:00:01\r\u001b[K     |██████████████████▌             | 337kB 4.9MB/s eta 0:00:01\r\u001b[K     |███████████████████             | 348kB 4.9MB/s eta 0:00:01\r\u001b[K     |███████████████████▋            | 358kB 4.9MB/s eta 0:00:01\r\u001b[K     |████████████████████▏           | 368kB 4.9MB/s eta 0:00:01\r\u001b[K     |████████████████████▊           | 378kB 4.9MB/s eta 0:00:01\r\u001b[K     |█████████████████████▎          | 389kB 4.9MB/s eta 0:00:01\r\u001b[K     |█████████████████████▉          | 399kB 4.9MB/s eta 0:00:01\r\u001b[K     |██████████████████████▌         | 409kB 4.9MB/s eta 0:00:01\r\u001b[K     |███████████████████████         | 419kB 4.9MB/s eta 0:00:01\r\u001b[K     |███████████████████████▋        | 430kB 4.9MB/s eta 0:00:01\r\u001b[K     |████████████████████████▏       | 440kB 4.9MB/s eta 0:00:01\r\u001b[K     |████████████████████████▊       | 450kB 4.9MB/s eta 0:00:01\r\u001b[K     |█████████████████████████▎      | 460kB 4.9MB/s eta 0:00:01\r\u001b[K     |█████████████████████████▉      | 471kB 4.9MB/s eta 0:00:01\r\u001b[K     |██████████████████████████▍     | 481kB 4.9MB/s eta 0:00:01\r\u001b[K     |███████████████████████████     | 491kB 4.9MB/s eta 0:00:01\r\u001b[K     |███████████████████████████▌    | 501kB 4.9MB/s eta 0:00:01\r\u001b[K     |████████████████████████████    | 512kB 4.9MB/s eta 0:00:01\r\u001b[K     |████████████████████████████▋   | 522kB 4.9MB/s eta 0:00:01\r\u001b[K     |█████████████████████████████▏  | 532kB 4.9MB/s eta 0:00:01\r\u001b[K     |█████████████████████████████▊  | 542kB 4.9MB/s eta 0:00:01\r\u001b[K     |██████████████████████████████▎ | 552kB 4.9MB/s eta 0:00:01\r\u001b[K     |██████████████████████████████▉ | 563kB 4.9MB/s eta 0:00:01\r\u001b[K     |███████████████████████████████▍| 573kB 4.9MB/s eta 0:00:01\r\u001b[K     |████████████████████████████████| 583kB 4.9MB/s eta 0:00:01\r\u001b[K     |████████████████████████████████| 593kB 4.9MB/s \n",
            "\u001b[31mERROR: datascience 0.10.6 has requirement folium==0.2.1, but you'll have folium 0.8.3 which is incompatible.\u001b[0m\n",
            "\u001b[?25hInstalling collected packages: setuptools\n",
            "  Found existing installation: setuptools 42.0.2\n",
            "    Uninstalling setuptools-42.0.2:\n",
            "      Successfully uninstalled setuptools-42.0.2\n",
            "Successfully installed setuptools-45.1.0\n"
          ],
          "name": "stdout"
        },
        {
          "output_type": "display_data",
          "data": {
            "application/vnd.colab-display-data+json": {
              "pip_warning": {
                "packages": [
                  "pkg_resources"
                ]
              }
            }
          },
          "metadata": {
            "tags": []
          }
        }
      ]
    },
    {
      "cell_type": "code",
      "metadata": {
        "id": "VtpMJL4zKdOs",
        "colab_type": "code",
        "colab": {}
      },
      "source": [
        "import gym\n",
        "import numpy as np\n",
        "import random\n",
        "import matplotlib\n",
        "import matplotlib.pyplot as plt\n",
        "%matplotlib inline"
      ],
      "execution_count": 0,
      "outputs": []
    },
    {
      "cell_type": "code",
      "metadata": {
        "id": "QnLX9UrrKvp1",
        "colab_type": "code",
        "colab": {}
      },
      "source": [
        "env = gym.make(\"FrozenLake-v0\")"
      ],
      "execution_count": 0,
      "outputs": []
    },
    {
      "cell_type": "code",
      "metadata": {
        "id": "9HbVC03xLetB",
        "colab_type": "code",
        "colab": {}
      },
      "source": [
        "# Q 테이블 초기화\n",
        "Q = np.zeros([env.observation_space.n, env.action_space.n])\n",
        "\n",
        "# 학습 파라메터 설정\n",
        "learning_rate = .85\n",
        "dis = .99\n",
        "num_episodes = 2000\n",
        "\n",
        "# 에피소드별 리워드 목록 준비\n",
        "rList = []\n",
        "for i in range(num_episodes):\n",
        "    # 환경을 초기화하고 첫번째 상태를 구한다.\n",
        "    state = env.reset()\n",
        "    rAll = 0\n",
        "    done = False\n",
        "\n",
        "    # Q-러닝 알고리즘\n",
        "    while not done:\n",
        "        # E-Greedy를 이용해 액션을 선택한다. 랜덤 노이즈 방식\n",
        "        action = np.argmax(Q[state, :] + np.random.randn(1, env.action_space.n) / (i + 1))\n",
        "\n",
        "        # 액션을 실행하고 새로운 상태와 보상을 얻는다.\n",
        "        new_state, reward, done, _ = env.step(action)\n",
        "\n",
        "        # Q 테이블을 새로 얻은 지식으로 업데이트 한다.\n",
        "        Q[state, action] = (1 - learning_rate) * Q[state, action] \\\n",
        "            + learning_rate*(reward + dis * np.max(Q[new_state, :]))\n",
        "\n",
        "        rAll += reward\n",
        "        state = new_state\n",
        "\n",
        "    rList.append(rAll)\n",
        "\n",
        "env.close()"
      ],
      "execution_count": 0,
      "outputs": []
    },
    {
      "cell_type": "code",
      "metadata": {
        "id": "tZL278KM5V-n",
        "colab_type": "code",
        "outputId": "9383d480-0915-4fe6-e054-5e37216be1e6",
        "colab": {
          "base_uri": "https://localhost:8080/",
          "height": 156
        }
      },
      "source": [
        "print(\"Success rate: \" + str(sum(rList) / num_episodes))\n",
        "print(\"Final Q-Table Values\")\n",
        "print(\"LEFT DOWN RIGHT UP\")\n",
        "for i in range(0,4):\n",
        "    print(Q[i*4], Q[i*4+1], Q[i*4+2], Q[i*4+3])"
      ],
      "execution_count": 0,
      "outputs": [
        {
          "output_type": "stream",
          "text": [
            "Success rate: 0.6615\n",
            "Final Q-Table Values\n",
            "LEFT DOWN RIGHT UP\n",
            "[0.60496773 0.01764961 0.02514004 0.01965344] [3.44237241e-04 4.09273837e-04 1.01301499e-02 5.71257284e-01] [0.01802545 0.01757248 0.00299109 0.74413527] [2.29029756e-03 6.95525365e-05 2.58436884e-03 4.94927303e-01]\n",
            "[3.69144929e-01 1.53084709e-03 1.07239759e-03 2.13987052e-04] [0. 0. 0. 0.] [2.06025368e-05 4.79643489e-04 5.76123473e-01 4.10135194e-05] [0. 0. 0. 0.]\n",
            "[0.00182002 0.00146575 0.00295822 0.70595727] [2.69759270e-03 3.72826145e-01 2.27660002e-04 3.02716949e-03] [7.26309381e-01 5.49279092e-06 3.69310143e-04 1.53096059e-03] [0. 0. 0. 0.]\n",
            "[0. 0. 0. 0.] [0.00315298 0.         0.80566208 0.00248988] [0.        0.9851869 0.        0.       ] [0. 0. 0. 0.]\n"
          ],
          "name": "stdout"
        }
      ]
    },
    {
      "cell_type": "code",
      "metadata": {
        "id": "OgY552h-5R5N",
        "colab_type": "code",
        "outputId": "bc9e7842-a42e-4895-9324-a44720554076",
        "colab": {
          "base_uri": "https://localhost:8080/",
          "height": 265
        }
      },
      "source": [
        "plt.bar(range(len(rList)), rList, color=\"blue\")\n",
        "plt.show()\n"
      ],
      "execution_count": 0,
      "outputs": [
        {
          "output_type": "display_data",
          "data": {
            "image/png": "[encoded data removed]",
            "text/plain": [
              "<Figure size 432x288 with 1 Axes>"
            ]
          },
          "metadata": {
            "tags": []
          }
        }
      ]
    }
  ]
}