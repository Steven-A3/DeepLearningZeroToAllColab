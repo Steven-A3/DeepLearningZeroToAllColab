{
  "nbformat": 4,
  "nbformat_minor": 0,
  "metadata": {
    "colab": {
      "name": "RL_7_FrozenLake QNetwork",
      "provenance": [],
      "collapsed_sections": [],
      "authorship_tag": "ABX9TyMNAR8QUnvxJmzPmVx04ucL",
      "include_colab_link": true
    },
    "kernelspec": {
      "name": "python3",
      "display_name": "Python 3"
    },
    "accelerator": "TPU"
  },
  "cells": [
    {
      "cell_type": "markdown",
      "metadata": {
        "id": "view-in-github",
        "colab_type": "text"
      },
      "source": [
        "<a href=\"https://colab.research.google.com/github/Steven-A3/DeepLearningZeroToAllColab/blob/master/RL_7_FrozenLake_QNetwork.ipynb\" target=\"_parent\"><img src=\"https://colab.research.google.com/assets/colab-badge.svg\" alt=\"Open In Colab\"/></a>"
      ]
    },
    {
      "cell_type": "code",
      "metadata": {
        "id": "VvOK0Y2AKccy",
        "colab_type": "code",
        "outputId": "7de50764-4d28-4867-ffbd-b0ce76a6426d",
        "colab": {
          "base_uri": "https://localhost:8080/",
          "height": 276
        }
      },
      "source": [
        "!pip install gym > /dev/null 2>&1\n",
        "!apt-get update > /dev/null 2>&1\n",
        "!apt-get install cmake > /dev/null 2>&1\n",
        "!pip install --upgrade setuptools 2>&1\n",
        "!pip install ez_setup > /dev/null 2>&1\n",
        "!pip install gym[atari] > /dev/null 2>&1"
      ],
      "execution_count": 0,
      "outputs": [
        {
          "output_type": "stream",
          "text": [
            "Collecting setuptools\n",
            "\u001b[?25l  Downloading https://files.pythonhosted.org/packages/a7/c5/6c1acea1b4ea88b86b03280f3fde1efa04fefecd4e7d2af13e602661cde4/setuptools-45.1.0-py3-none-any.whl (583kB)\n",
            "\r\u001b[K     |▋                               | 10kB 9.9MB/s eta 0:00:01\r\u001b[K     |█▏                              | 20kB 2.2MB/s eta 0:00:01\r\u001b[K     |█▊                              | 30kB 3.0MB/s eta 0:00:01\r\u001b[K     |██▎                             | 40kB 2.1MB/s eta 0:00:01\r\u001b[K     |██▉                             | 51kB 2.4MB/s eta 0:00:01\r\u001b[K     |███▍                            | 61kB 2.8MB/s eta 0:00:01\r\u001b[K     |████                            | 71kB 3.0MB/s eta 0:00:01\r\u001b[K     |████▌                           | 81kB 3.1MB/s eta 0:00:01\r\u001b[K     |█████                           | 92kB 3.5MB/s eta 0:00:01\r\u001b[K     |█████▋                          | 102kB 3.4MB/s eta 0:00:01\r\u001b[K     |██████▏                         | 112kB 3.4MB/s eta 0:00:01\r\u001b[K     |██████▊                         | 122kB 3.4MB/s eta 0:00:01\r\u001b[K     |███████▎                        | 133kB 3.4MB/s eta 0:00:01\r\u001b[K     |███████▉                        | 143kB 3.4MB/s eta 0:00:01\r\u001b[K     |████████▍                       | 153kB 3.4MB/s eta 0:00:01\r\u001b[K     |█████████                       | 163kB 3.4MB/s eta 0:00:01\r\u001b[K     |█████████▌                      | 174kB 3.4MB/s eta 0:00:01\r\u001b[K     |██████████                      | 184kB 3.4MB/s eta 0:00:01\r\u001b[K     |██████████▋                     | 194kB 3.4MB/s eta 0:00:01\r\u001b[K     |███████████▎                    | 204kB 3.4MB/s eta 0:00:01\r\u001b[K     |███████████▉                    | 215kB 3.4MB/s eta 0:00:01\r\u001b[K     |████████████▍                   | 225kB 3.4MB/s eta 0:00:01\r\u001b[K     |█████████████                   | 235kB 3.4MB/s eta 0:00:01\r\u001b[K     |█████████████▌                  | 245kB 3.4MB/s eta 0:00:01\r\u001b[K     |██████████████                  | 256kB 3.4MB/s eta 0:00:01\r\u001b[K     |██████████████▋                 | 266kB 3.4MB/s eta 0:00:01\r\u001b[K     |███████████████▏                | 276kB 3.4MB/s eta 0:00:01\r\u001b[K     |███████████████▊                | 286kB 3.4MB/s eta 0:00:01\r\u001b[K     |████████████████▎               | 296kB 3.4MB/s eta 0:00:01\r\u001b[K     |████████████████▉               | 307kB 3.4MB/s eta 0:00:01\r\u001b[K     |█████████████████▍              | 317kB 3.4MB/s eta 0:00:01\r\u001b[K     |██████████████████              | 327kB 3.4MB/s eta 0:00:01\r\u001b[K     |██████████████████▌             | 337kB 3.4MB/s eta 0:00:01\r\u001b[K     |███████████████████             | 348kB 3.4MB/s eta 0:00:01\r\u001b[K     |███████████████████▋            | 358kB 3.4MB/s eta 0:00:01\r\u001b[K     |████████████████████▏           | 368kB 3.4MB/s eta 0:00:01\r\u001b[K     |████████████████████▊           | 378kB 3.4MB/s eta 0:00:01\r\u001b[K     |█████████████████████▎          | 389kB 3.4MB/s eta 0:00:01\r\u001b[K     |█████████████████████▉          | 399kB 3.4MB/s eta 0:00:01\r\u001b[K     |██████████████████████▌         | 409kB 3.4MB/s eta 0:00:01\r\u001b[K     |███████████████████████         | 419kB 3.4MB/s eta 0:00:01\r\u001b[K     |███████████████████████▋        | 430kB 3.4MB/s eta 0:00:01\r\u001b[K     |████████████████████████▏       | 440kB 3.4MB/s eta 0:00:01\r\u001b[K     |████████████████████████▊       | 450kB 3.4MB/s eta 0:00:01\r\u001b[K     |█████████████████████████▎      | 460kB 3.4MB/s eta 0:00:01\r\u001b[K     |█████████████████████████▉      | 471kB 3.4MB/s eta 0:00:01\r\u001b[K     |██████████████████████████▍     | 481kB 3.4MB/s eta 0:00:01\r\u001b[K     |███████████████████████████     | 491kB 3.4MB/s eta 0:00:01\r\u001b[K     |███████████████████████████▌    | 501kB 3.4MB/s eta 0:00:01\r\u001b[K     |████████████████████████████    | 512kB 3.4MB/s eta 0:00:01\r\u001b[K     |████████████████████████████▋   | 522kB 3.4MB/s eta 0:00:01\r\u001b[K     |█████████████████████████████▏  | 532kB 3.4MB/s eta 0:00:01\r\u001b[K     |█████████████████████████████▊  | 542kB 3.4MB/s eta 0:00:01\r\u001b[K     |██████████████████████████████▎ | 552kB 3.4MB/s eta 0:00:01\r\u001b[K     |██████████████████████████████▉ | 563kB 3.4MB/s eta 0:00:01\r\u001b[K     |███████████████████████████████▍| 573kB 3.4MB/s eta 0:00:01\r\u001b[K     |████████████████████████████████| 583kB 3.4MB/s eta 0:00:01\r\u001b[K     |████████████████████████████████| 593kB 3.4MB/s \n",
            "\u001b[31mERROR: datascience 0.10.6 has requirement folium==0.2.1, but you'll have folium 0.8.3 which is incompatible.\u001b[0m\n",
            "\u001b[?25hInstalling collected packages: setuptools\n",
            "  Found existing installation: setuptools 42.0.2\n",
            "    Uninstalling setuptools-42.0.2:\n",
            "      Successfully uninstalled setuptools-42.0.2\n",
            "Successfully installed setuptools-45.1.0\n"
          ],
          "name": "stdout"
        },
        {
          "output_type": "display_data",
          "data": {
            "application/vnd.colab-display-data+json": {
              "pip_warning": {
                "packages": [
                  "pkg_resources"
                ]
              }
            }
          },
          "metadata": {
            "tags": []
          }
        }
      ]
    },
    {
      "cell_type": "code",
      "metadata": {
        "id": "VtpMJL4zKdOs",
        "colab_type": "code",
        "colab": {}
      },
      "source": [
        "import gym\n",
        "import tensorflow as tf\n",
        "import numpy as np\n",
        "import random\n",
        "import matplotlib\n",
        "import matplotlib.pyplot as plt\n",
        "%matplotlib inline"
      ],
      "execution_count": 0,
      "outputs": []
    },
    {
      "cell_type": "code",
      "metadata": {
        "id": "QnLX9UrrKvp1",
        "colab_type": "code",
        "colab": {}
      },
      "source": [
        "env = gym.make(\"FrozenLake-v0\")"
      ],
      "execution_count": 0,
      "outputs": []
    },
    {
      "cell_type": "code",
      "metadata": {
        "id": "9HbVC03xLetB",
        "colab_type": "code",
        "outputId": "ecd1c41a-6cc5-4aa7-9406-a0ede864a5ac",
        "colab": {
          "base_uri": "https://localhost:8080/",
          "height": 34
        }
      },
      "source": [
        "# Input and output size based on the Env\n",
        "input_size = env.observation_space.n\n",
        "output_size = env.action_space.n\n",
        "learning_rate = 0.1\n",
        "\n",
        "# These lines establish the feed-forward part of the network used to\n",
        "# choose actions\n",
        "X = tf.placeholder(shape=[1, input_size], dtype=tf.float32)  # state input\n",
        "W = tf.Variable(tf.random_uniform(\n",
        "    [input_size, output_size], 0, 0.01))  # weight\n",
        "\n",
        "Qpred = tf.matmul(X, W)  # Out Q prediction\n",
        "Y = tf.placeholder(shape=[1, output_size], dtype=tf.float32)  # Y label\n",
        "\n",
        "loss = tf.reduce_sum(tf.square(Y - Qpred))\n",
        "train = tf.train.GradientDescentOptimizer(\n",
        "    learning_rate=learning_rate).minimize(loss)\n",
        "\n",
        "# Set Q-learning related parameters\n",
        "dis = .99\n",
        "num_episodes = 2000\n",
        "\n",
        "# Create lists to contain total rewards and steps per episode\n",
        "rList = []\n",
        "\n",
        "\n",
        "def one_hot(x):\n",
        "    return np.identity(16)[x:x + 1]\n",
        "\n",
        "init = tf.global_variables_initializer()\n",
        "with tf.Session() as sess:\n",
        "    sess.run(init)\n",
        "    for i in range(num_episodes):\n",
        "        # Reset environment and get first new observation\n",
        "        s = env.reset()\n",
        "        e = 1. / ((i / 50) + 10)\n",
        "        rAll = 0\n",
        "        done = False\n",
        "        local_loss = []\n",
        "\n",
        "        # The Q-Network training\n",
        "        while not done:\n",
        "            # Choose an action by greedily (with e chance of random action)\n",
        "            # from the Q-network\n",
        "            Qs = sess.run(Qpred, feed_dict={X: one_hot(s)})\n",
        "            if np.random.rand(1) < e:\n",
        "                a = env.action_space.sample()\n",
        "            else:\n",
        "                a = np.argmax(Qs)\n",
        "\n",
        "            # Get new state and reward from environment\n",
        "            s1, reward, done, _ = env.step(a)\n",
        "            if done:\n",
        "                # Update Q, and no Qs+1, since it's a terminal state\n",
        "                Qs[0, a] = reward\n",
        "            else:\n",
        "                # Obtain the Q_s1 values by feeding the new state through our\n",
        "                # network\n",
        "                Qs1 = sess.run(Qpred, feed_dict={X: one_hot(s1)})\n",
        "                # Update Q\n",
        "                Qs[0, a] = reward + dis * np.max(Qs1)\n",
        "\n",
        "            # Train our network using target (Y) and predicted Q (Qpred) values\n",
        "            sess.run(train, feed_dict={X: one_hot(s), Y: Qs})\n",
        "\n",
        "            rAll += reward\n",
        "            s = s1\n",
        "        rList.append(rAll)\n",
        "\n",
        "print(\"Percent of successful episodes: \" +\n",
        "      str(sum(rList) / num_episodes) + \"%\")\n"
      ],
      "execution_count": 0,
      "outputs": [
        {
          "output_type": "stream",
          "text": [
            "Percent of successful episodes: 0.4915%\n"
          ],
          "name": "stdout"
        }
      ]
    },
    {
      "cell_type": "code",
      "metadata": {
        "id": "OgY552h-5R5N",
        "colab_type": "code",
        "outputId": "e2f8b8ad-cc93-4376-a3da-d4b392892724",
        "colab": {
          "base_uri": "https://localhost:8080/",
          "height": 265
        }
      },
      "source": [
        "plt.bar(range(len(rList)), rList, color=\"blue\")\n",
        "plt.show()\n"
      ],
      "execution_count": 0,
      "outputs": [
        {
          "output_type": "display_data",
          "data": {
            "image/png": "[encoded data removed]",
            "text/plain": [
              "<Figure size 432x288 with 1 Axes>"
            ]
          },
          "metadata": {
            "tags": []
          }
        }
      ]
    }
  ]
}