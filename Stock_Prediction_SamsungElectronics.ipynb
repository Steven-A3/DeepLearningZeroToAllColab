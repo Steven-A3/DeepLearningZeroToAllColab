{
  "nbformat": 4,
  "nbformat_minor": 0,
  "metadata": {
    "kernelspec": {
      "display_name": "bdf",
      "language": "python",
      "name": "bdf"
    },
    "language_info": {
      "codemirror_mode": {
        "name": "ipython",
        "version": 3
      },
      "file_extension": ".py",
      "mimetype": "text/x-python",
      "name": "python",
      "nbconvert_exporter": "python",
      "pygments_lexer": "ipython3",
      "version": "3.5.1"
    },
    "colab": {
      "name": "Stock_Prediction_SamsungElectronics.ipynb",
      "provenance": [],
      "include_colab_link": true
    },
    "accelerator": "GPU"
  },
  "cells": [
    {
      "cell_type": "markdown",
      "metadata": {
        "id": "view-in-github",
        "colab_type": "text"
      },
      "source": [
        "<a href=\"https://colab.research.google.com/github/Steven-A3/DeepLearningZeroToAllColab/blob/master/Stock_Prediction_SamsungElectronics.ipynb\" target=\"_parent\"><img src=\"https://colab.research.google.com/assets/colab-badge.svg\" alt=\"Open In Colab\"/></a>"
      ]
    },
    {
      "cell_type": "markdown",
      "metadata": {
        "id": "tpv88S-lFCX0",
        "colab_type": "text"
      },
      "source": [
        "# 주가 예측 LSTM\n",
        "\n",
        "![](https://upload.wikimedia.org/wikipedia/commons/thumb/b/b5/Recurrent_neural_network_unfold.svg/1920px-Recurrent_neural_network_unfold.svg.png)"
      ]
    },
    {
      "cell_type": "code",
      "metadata": {
        "id": "Avkvc7lb0rUY",
        "colab_type": "code",
        "outputId": "5dc0ba90-9f83-430b-b013-e418dce9aaf7",
        "colab": {
          "base_uri": "https://localhost:8080/",
          "height": 80
        }
      },
      "source": [
        "import numpy as np\n",
        "import pandas as pd\n",
        "import matplotlib.pyplot as plt\n",
        "from sklearn.preprocessing import MinMaxScaler\n",
        "from keras.models import Sequential, load_model\n",
        "from keras.layers import LSTM, Dense, Dropout\n",
        "import os"
      ],
      "execution_count": 0,
      "outputs": [
        {
          "output_type": "stream",
          "text": [
            "Using TensorFlow backend.\n"
          ],
          "name": "stderr"
        },
        {
          "output_type": "display_data",
          "data": {
            "text/html": [
              "<p style=\"color: red;\">\n",
              "The default version of TensorFlow in Colab will soon switch to TensorFlow 2.x.<br>\n",
              "We recommend you <a href=\"https://www.tensorflow.org/guide/migrate\" target=\"_blank\">upgrade</a> now \n",
              "or ensure your notebook will continue to use TensorFlow 1.x via the <code>%tensorflow_version 1.x</code> magic:\n",
              "<a href=\"https://colab.research.google.com/notebooks/tensorflow_version.ipynb\" target=\"_blank\">more info</a>.</p>\n"
            ],
            "text/plain": [
              "<IPython.core.display.HTML object>"
            ]
          },
          "metadata": {
            "tags": []
          }
        }
      ]
    },
    {
      "cell_type": "markdown",
      "metadata": {
        "id": "RMnKGJ5r0rUc",
        "colab_type": "text"
      },
      "source": [
        "# 데이터 읽어들이기\n",
        "\n",
        "주가 데이터는 다음의 사이트에 가서 다운로드를 받습니다.\n",
        "\n",
        "https://finance.yahoo.com/quote/005930.KS/history?p=005930.KS"
      ]
    },
    {
      "cell_type": "code",
      "metadata": {
        "id": "kkqm1Z4k4T4T",
        "colab_type": "code",
        "outputId": "1699977e-f23e-45f1-da31-bffe0a06c6bf",
        "colab": {
          "base_uri": "https://localhost:8080/",
          "height": 34
        }
      },
      "source": [
        "from google.colab import drive\n",
        "drive.mount('/content/gdrive')"
      ],
      "execution_count": 0,
      "outputs": [
        {
          "output_type": "stream",
          "text": [
            "Drive already mounted at /content/gdrive; to attempt to forcibly remount, call drive.mount(\"/content/gdrive\", force_remount=True).\n"
          ],
          "name": "stdout"
        }
      ]
    },
    {
      "cell_type": "code",
      "metadata": {
        "id": "vO4WtPd10rUe",
        "colab_type": "code",
        "outputId": "ff8ecd7f-35c3-490b-ac50-4b98a38f3e7c",
        "colab": {
          "base_uri": "https://localhost:8080/",
          "height": 204
        }
      },
      "source": [
        "data = pd.read_csv('/content/gdrive/My Drive/Colab Notebooks/005930.KS.csv')\n",
        "data.head()"
      ],
      "execution_count": 0,
      "outputs": [
        {
          "output_type": "execute_result",
          "data": {
            "text/html": [
              "<div>\n",
              "<style scoped>\n",
              "    .dataframe tbody tr th:only-of-type {\n",
              "        vertical-align: middle;\n",
              "    }\n",
              "\n",
              "    .dataframe tbody tr th {\n",
              "        vertical-align: top;\n",
              "    }\n",
              "\n",
              "    .dataframe thead th {\n",
              "        text-align: right;\n",
              "    }\n",
              "</style>\n",
              "<table border=\"1\" class=\"dataframe\">\n",
              "  <thead>\n",
              "    <tr style=\"text-align: right;\">\n",
              "      <th></th>\n",
              "      <th>Date</th>\n",
              "      <th>Open</th>\n",
              "      <th>High</th>\n",
              "      <th>Low</th>\n",
              "      <th>Close</th>\n",
              "      <th>Adj Close</th>\n",
              "      <th>Volume</th>\n",
              "    </tr>\n",
              "  </thead>\n",
              "  <tbody>\n",
              "    <tr>\n",
              "      <th>0</th>\n",
              "      <td>2013-10-30</td>\n",
              "      <td>29700.0</td>\n",
              "      <td>30000.0</td>\n",
              "      <td>29680.0</td>\n",
              "      <td>30000.0</td>\n",
              "      <td>40.588501</td>\n",
              "      <td>10588400.0</td>\n",
              "    </tr>\n",
              "    <tr>\n",
              "      <th>1</th>\n",
              "      <td>2013-10-31</td>\n",
              "      <td>29960.0</td>\n",
              "      <td>30040.0</td>\n",
              "      <td>29300.0</td>\n",
              "      <td>29300.0</td>\n",
              "      <td>39.641438</td>\n",
              "      <td>12647050.0</td>\n",
              "    </tr>\n",
              "    <tr>\n",
              "      <th>2</th>\n",
              "      <td>2013-11-01</td>\n",
              "      <td>29800.0</td>\n",
              "      <td>30000.0</td>\n",
              "      <td>29360.0</td>\n",
              "      <td>30000.0</td>\n",
              "      <td>40.588501</td>\n",
              "      <td>11357700.0</td>\n",
              "    </tr>\n",
              "    <tr>\n",
              "      <th>3</th>\n",
              "      <td>2013-11-04</td>\n",
              "      <td>29840.0</td>\n",
              "      <td>30040.0</td>\n",
              "      <td>29780.0</td>\n",
              "      <td>29980.0</td>\n",
              "      <td>40.561447</td>\n",
              "      <td>10887800.0</td>\n",
              "    </tr>\n",
              "    <tr>\n",
              "      <th>4</th>\n",
              "      <td>2013-11-05</td>\n",
              "      <td>30040.0</td>\n",
              "      <td>30040.0</td>\n",
              "      <td>29440.0</td>\n",
              "      <td>29700.0</td>\n",
              "      <td>40.182617</td>\n",
              "      <td>8009300.0</td>\n",
              "    </tr>\n",
              "  </tbody>\n",
              "</table>\n",
              "</div>"
            ],
            "text/plain": [
              "         Date     Open     High      Low    Close  Adj Close      Volume\n",
              "0  2013-10-30  29700.0  30000.0  29680.0  30000.0  40.588501  10588400.0\n",
              "1  2013-10-31  29960.0  30040.0  29300.0  29300.0  39.641438  12647050.0\n",
              "2  2013-11-01  29800.0  30000.0  29360.0  30000.0  40.588501  11357700.0\n",
              "3  2013-11-04  29840.0  30040.0  29780.0  29980.0  40.561447  10887800.0\n",
              "4  2013-11-05  30040.0  30040.0  29440.0  29700.0  40.182617   8009300.0"
            ]
          },
          "metadata": {
            "tags": []
          },
          "execution_count": 3
        }
      ]
    },
    {
      "cell_type": "markdown",
      "metadata": {
        "id": "-L45cxp80rUh",
        "colab_type": "text"
      },
      "source": [
        "# 데이터 전처리\n",
        "\n",
        "널 데이터 없애기"
      ]
    },
    {
      "cell_type": "code",
      "metadata": {
        "id": "0xu0xWTX8QrO",
        "colab_type": "code",
        "outputId": "c07408f1-f685-415b-fec9-98fcae194520",
        "colab": {
          "base_uri": "https://localhost:8080/",
          "height": 153
        }
      },
      "source": [
        "data.isna().any()"
      ],
      "execution_count": 0,
      "outputs": [
        {
          "output_type": "execute_result",
          "data": {
            "text/plain": [
              "Date         False\n",
              "Open          True\n",
              "High          True\n",
              "Low           True\n",
              "Close         True\n",
              "Adj Close     True\n",
              "Volume        True\n",
              "dtype: bool"
            ]
          },
          "metadata": {
            "tags": []
          },
          "execution_count": 4
        }
      ]
    },
    {
      "cell_type": "code",
      "metadata": {
        "id": "TApMF_8p8t2V",
        "colab_type": "code",
        "outputId": "39ed50b1-be52-48f1-d2d8-ca34c67db378",
        "colab": {
          "base_uri": "https://localhost:8080/",
          "height": 153
        }
      },
      "source": [
        "data.isnull().sum()"
      ],
      "execution_count": 0,
      "outputs": [
        {
          "output_type": "execute_result",
          "data": {
            "text/plain": [
              "Date          0\n",
              "Open         11\n",
              "High         11\n",
              "Low          11\n",
              "Close        11\n",
              "Adj Close    11\n",
              "Volume       11\n",
              "dtype: int64"
            ]
          },
          "metadata": {
            "tags": []
          },
          "execution_count": 5
        }
      ]
    },
    {
      "cell_type": "code",
      "metadata": {
        "id": "g5w9cSPj9OkN",
        "colab_type": "code",
        "outputId": "a119055f-2201-4cd1-f909-73c7dea56c92",
        "colab": {
          "base_uri": "https://localhost:8080/",
          "height": 390
        }
      },
      "source": [
        "data[data[\"Open\"].isnull() == True].head(11)"
      ],
      "execution_count": 0,
      "outputs": [
        {
          "output_type": "execute_result",
          "data": {
            "text/html": [
              "<div>\n",
              "<style scoped>\n",
              "    .dataframe tbody tr th:only-of-type {\n",
              "        vertical-align: middle;\n",
              "    }\n",
              "\n",
              "    .dataframe tbody tr th {\n",
              "        vertical-align: top;\n",
              "    }\n",
              "\n",
              "    .dataframe thead th {\n",
              "        text-align: right;\n",
              "    }\n",
              "</style>\n",
              "<table border=\"1\" class=\"dataframe\">\n",
              "  <thead>\n",
              "    <tr style=\"text-align: right;\">\n",
              "      <th></th>\n",
              "      <th>Date</th>\n",
              "      <th>Open</th>\n",
              "      <th>High</th>\n",
              "      <th>Low</th>\n",
              "      <th>Close</th>\n",
              "      <th>Adj Close</th>\n",
              "      <th>Volume</th>\n",
              "    </tr>\n",
              "  </thead>\n",
              "  <tbody>\n",
              "    <tr>\n",
              "      <th>995</th>\n",
              "      <td>2017-11-16</td>\n",
              "      <td>NaN</td>\n",
              "      <td>NaN</td>\n",
              "      <td>NaN</td>\n",
              "      <td>NaN</td>\n",
              "      <td>NaN</td>\n",
              "      <td>NaN</td>\n",
              "    </tr>\n",
              "    <tr>\n",
              "      <th>1000</th>\n",
              "      <td>2017-11-23</td>\n",
              "      <td>NaN</td>\n",
              "      <td>NaN</td>\n",
              "      <td>NaN</td>\n",
              "      <td>NaN</td>\n",
              "      <td>NaN</td>\n",
              "      <td>NaN</td>\n",
              "    </tr>\n",
              "    <tr>\n",
              "      <th>1024</th>\n",
              "      <td>2018-01-02</td>\n",
              "      <td>NaN</td>\n",
              "      <td>NaN</td>\n",
              "      <td>NaN</td>\n",
              "      <td>NaN</td>\n",
              "      <td>NaN</td>\n",
              "      <td>NaN</td>\n",
              "    </tr>\n",
              "    <tr>\n",
              "      <th>1237</th>\n",
              "      <td>2018-11-15</td>\n",
              "      <td>NaN</td>\n",
              "      <td>NaN</td>\n",
              "      <td>NaN</td>\n",
              "      <td>NaN</td>\n",
              "      <td>NaN</td>\n",
              "      <td>NaN</td>\n",
              "    </tr>\n",
              "    <tr>\n",
              "      <th>1413</th>\n",
              "      <td>2019-08-02</td>\n",
              "      <td>NaN</td>\n",
              "      <td>NaN</td>\n",
              "      <td>NaN</td>\n",
              "      <td>NaN</td>\n",
              "      <td>NaN</td>\n",
              "      <td>NaN</td>\n",
              "    </tr>\n",
              "    <tr>\n",
              "      <th>1434</th>\n",
              "      <td>2019-09-03</td>\n",
              "      <td>NaN</td>\n",
              "      <td>NaN</td>\n",
              "      <td>NaN</td>\n",
              "      <td>NaN</td>\n",
              "      <td>NaN</td>\n",
              "      <td>NaN</td>\n",
              "    </tr>\n",
              "    <tr>\n",
              "      <th>1439</th>\n",
              "      <td>2019-09-10</td>\n",
              "      <td>NaN</td>\n",
              "      <td>NaN</td>\n",
              "      <td>NaN</td>\n",
              "      <td>NaN</td>\n",
              "      <td>NaN</td>\n",
              "      <td>NaN</td>\n",
              "    </tr>\n",
              "    <tr>\n",
              "      <th>1454</th>\n",
              "      <td>2019-10-04</td>\n",
              "      <td>NaN</td>\n",
              "      <td>NaN</td>\n",
              "      <td>NaN</td>\n",
              "      <td>NaN</td>\n",
              "      <td>NaN</td>\n",
              "      <td>NaN</td>\n",
              "    </tr>\n",
              "    <tr>\n",
              "      <th>1479</th>\n",
              "      <td>2019-11-11</td>\n",
              "      <td>NaN</td>\n",
              "      <td>NaN</td>\n",
              "      <td>NaN</td>\n",
              "      <td>NaN</td>\n",
              "      <td>NaN</td>\n",
              "      <td>NaN</td>\n",
              "    </tr>\n",
              "    <tr>\n",
              "      <th>1482</th>\n",
              "      <td>2019-11-14</td>\n",
              "      <td>NaN</td>\n",
              "      <td>NaN</td>\n",
              "      <td>NaN</td>\n",
              "      <td>NaN</td>\n",
              "      <td>NaN</td>\n",
              "      <td>NaN</td>\n",
              "    </tr>\n",
              "    <tr>\n",
              "      <th>1483</th>\n",
              "      <td>2019-11-15</td>\n",
              "      <td>NaN</td>\n",
              "      <td>NaN</td>\n",
              "      <td>NaN</td>\n",
              "      <td>NaN</td>\n",
              "      <td>NaN</td>\n",
              "      <td>NaN</td>\n",
              "    </tr>\n",
              "  </tbody>\n",
              "</table>\n",
              "</div>"
            ],
            "text/plain": [
              "            Date  Open  High  Low  Close  Adj Close  Volume\n",
              "995   2017-11-16   NaN   NaN  NaN    NaN        NaN     NaN\n",
              "1000  2017-11-23   NaN   NaN  NaN    NaN        NaN     NaN\n",
              "1024  2018-01-02   NaN   NaN  NaN    NaN        NaN     NaN\n",
              "1237  2018-11-15   NaN   NaN  NaN    NaN        NaN     NaN\n",
              "1413  2019-08-02   NaN   NaN  NaN    NaN        NaN     NaN\n",
              "1434  2019-09-03   NaN   NaN  NaN    NaN        NaN     NaN\n",
              "1439  2019-09-10   NaN   NaN  NaN    NaN        NaN     NaN\n",
              "1454  2019-10-04   NaN   NaN  NaN    NaN        NaN     NaN\n",
              "1479  2019-11-11   NaN   NaN  NaN    NaN        NaN     NaN\n",
              "1482  2019-11-14   NaN   NaN  NaN    NaN        NaN     NaN\n",
              "1483  2019-11-15   NaN   NaN  NaN    NaN        NaN     NaN"
            ]
          },
          "metadata": {
            "tags": []
          },
          "execution_count": 6
        }
      ]
    },
    {
      "cell_type": "code",
      "metadata": {
        "id": "OBozt_Et9fQ_",
        "colab_type": "code",
        "colab": {}
      },
      "source": [
        "data.dropna(inplace=True)"
      ],
      "execution_count": 0,
      "outputs": []
    },
    {
      "cell_type": "code",
      "metadata": {
        "id": "tcOhYQSq9ngf",
        "colab_type": "code",
        "outputId": "bb2fea94-c2e2-4f8a-931d-91eb08c38fb0",
        "colab": {
          "base_uri": "https://localhost:8080/",
          "height": 153
        }
      },
      "source": [
        "data.isnull().sum()"
      ],
      "execution_count": 0,
      "outputs": [
        {
          "output_type": "execute_result",
          "data": {
            "text/plain": [
              "Date         0\n",
              "Open         0\n",
              "High         0\n",
              "Low          0\n",
              "Close        0\n",
              "Adj Close    0\n",
              "Volume       0\n",
              "dtype: int64"
            ]
          },
          "metadata": {
            "tags": []
          },
          "execution_count": 8
        }
      ]
    },
    {
      "cell_type": "code",
      "metadata": {
        "id": "XiXjmdVe-GUK",
        "colab_type": "code",
        "outputId": "c5ef4626-9de1-4c26-8403-34eae51d61ec",
        "colab": {
          "base_uri": "https://localhost:8080/",
          "height": 204
        }
      },
      "source": [
        "data.head()"
      ],
      "execution_count": 0,
      "outputs": [
        {
          "output_type": "execute_result",
          "data": {
            "text/html": [
              "<div>\n",
              "<style scoped>\n",
              "    .dataframe tbody tr th:only-of-type {\n",
              "        vertical-align: middle;\n",
              "    }\n",
              "\n",
              "    .dataframe tbody tr th {\n",
              "        vertical-align: top;\n",
              "    }\n",
              "\n",
              "    .dataframe thead th {\n",
              "        text-align: right;\n",
              "    }\n",
              "</style>\n",
              "<table border=\"1\" class=\"dataframe\">\n",
              "  <thead>\n",
              "    <tr style=\"text-align: right;\">\n",
              "      <th></th>\n",
              "      <th>Date</th>\n",
              "      <th>Open</th>\n",
              "      <th>High</th>\n",
              "      <th>Low</th>\n",
              "      <th>Close</th>\n",
              "      <th>Adj Close</th>\n",
              "      <th>Volume</th>\n",
              "    </tr>\n",
              "  </thead>\n",
              "  <tbody>\n",
              "    <tr>\n",
              "      <th>0</th>\n",
              "      <td>2013-10-30</td>\n",
              "      <td>29700.0</td>\n",
              "      <td>30000.0</td>\n",
              "      <td>29680.0</td>\n",
              "      <td>30000.0</td>\n",
              "      <td>40.588501</td>\n",
              "      <td>10588400.0</td>\n",
              "    </tr>\n",
              "    <tr>\n",
              "      <th>1</th>\n",
              "      <td>2013-10-31</td>\n",
              "      <td>29960.0</td>\n",
              "      <td>30040.0</td>\n",
              "      <td>29300.0</td>\n",
              "      <td>29300.0</td>\n",
              "      <td>39.641438</td>\n",
              "      <td>12647050.0</td>\n",
              "    </tr>\n",
              "    <tr>\n",
              "      <th>2</th>\n",
              "      <td>2013-11-01</td>\n",
              "      <td>29800.0</td>\n",
              "      <td>30000.0</td>\n",
              "      <td>29360.0</td>\n",
              "      <td>30000.0</td>\n",
              "      <td>40.588501</td>\n",
              "      <td>11357700.0</td>\n",
              "    </tr>\n",
              "    <tr>\n",
              "      <th>3</th>\n",
              "      <td>2013-11-04</td>\n",
              "      <td>29840.0</td>\n",
              "      <td>30040.0</td>\n",
              "      <td>29780.0</td>\n",
              "      <td>29980.0</td>\n",
              "      <td>40.561447</td>\n",
              "      <td>10887800.0</td>\n",
              "    </tr>\n",
              "    <tr>\n",
              "      <th>4</th>\n",
              "      <td>2013-11-05</td>\n",
              "      <td>30040.0</td>\n",
              "      <td>30040.0</td>\n",
              "      <td>29440.0</td>\n",
              "      <td>29700.0</td>\n",
              "      <td>40.182617</td>\n",
              "      <td>8009300.0</td>\n",
              "    </tr>\n",
              "  </tbody>\n",
              "</table>\n",
              "</div>"
            ],
            "text/plain": [
              "         Date     Open     High      Low    Close  Adj Close      Volume\n",
              "0  2013-10-30  29700.0  30000.0  29680.0  30000.0  40.588501  10588400.0\n",
              "1  2013-10-31  29960.0  30040.0  29300.0  29300.0  39.641438  12647050.0\n",
              "2  2013-11-01  29800.0  30000.0  29360.0  30000.0  40.588501  11357700.0\n",
              "3  2013-11-04  29840.0  30040.0  29780.0  29980.0  40.561447  10887800.0\n",
              "4  2013-11-05  30040.0  30040.0  29440.0  29700.0  40.182617   8009300.0"
            ]
          },
          "metadata": {
            "tags": []
          },
          "execution_count": 9
        }
      ]
    },
    {
      "cell_type": "markdown",
      "metadata": {
        "id": "xIKKN5LxI0Vi",
        "colab_type": "text"
      },
      "source": [
        "# 차트 확인"
      ]
    },
    {
      "cell_type": "code",
      "metadata": {
        "id": "zUIhhCGZH_R5",
        "colab_type": "code",
        "outputId": "034f2390-cbb2-4374-b4c0-c5793912f77a",
        "colab": {
          "base_uri": "https://localhost:8080/",
          "height": 597
        }
      },
      "source": [
        "plt.figure(figsize = (16,9))\n",
        "plt.plot(range(data.shape[0]),(data['Low']+data['High'])/2.0)\n",
        "plt.xticks(range(0,data.shape[0],500),data['Date'].loc[::500],rotation=45)\n",
        "plt.xlabel('Date',fontsize=18)\n",
        "plt.ylabel('Mid Price',fontsize=18)\n",
        "plt.show()"
      ],
      "execution_count": 0,
      "outputs": [
        {
          "output_type": "display_data",
          "data": {
            "image/png": "[encoded data removed]",
            "text/plain": [
              "<Figure size 1152x648 with 1 Axes>"
            ]
          },
          "metadata": {
            "tags": []
          }
        }
      ]
    },
    {
      "cell_type": "markdown",
      "metadata": {
        "id": "VyYytaUjI6Gy",
        "colab_type": "text"
      },
      "source": [
        "# Open 데이터만 사용\n"
      ]
    },
    {
      "cell_type": "code",
      "metadata": {
        "id": "QsE1fNDhDTJK",
        "colab_type": "code",
        "outputId": "85c26740-5064-4296-fccd-84426da7262a",
        "colab": {
          "base_uri": "https://localhost:8080/",
          "height": 119
        }
      },
      "source": [
        "data = data['Open'].values\n",
        "data = data.reshape(-1, 1)\n",
        "print(data.shape)\n",
        "data[:5]"
      ],
      "execution_count": 0,
      "outputs": [
        {
          "output_type": "stream",
          "text": [
            "(1526, 1)\n"
          ],
          "name": "stdout"
        },
        {
          "output_type": "execute_result",
          "data": {
            "text/plain": [
              "array([[29700.],\n",
              "       [29960.],\n",
              "       [29800.],\n",
              "       [29840.],\n",
              "       [30040.]])"
            ]
          },
          "metadata": {
            "tags": []
          },
          "execution_count": 11
        }
      ]
    },
    {
      "cell_type": "code",
      "metadata": {
        "id": "2VVm3OGGDjiH",
        "colab_type": "code",
        "outputId": "81ddae4f-3f45-4c94-a250-8cb91e2b9a0f",
        "colab": {
          "base_uri": "https://localhost:8080/",
          "height": 51
        }
      },
      "source": [
        "dataset_train = np.array(data[:int(data.shape[0]*0.8)])\n",
        "dataset_test = np.array(data[int(data.shape[0]*0.8)-50:])\n",
        "print(dataset_train.shape)\n",
        "print(dataset_test.shape)"
      ],
      "execution_count": 0,
      "outputs": [
        {
          "output_type": "stream",
          "text": [
            "(1220, 1)\n",
            "(356, 1)\n"
          ],
          "name": "stdout"
        }
      ]
    },
    {
      "cell_type": "markdown",
      "metadata": {
        "id": "FYM8G4V-JE6h",
        "colab_type": "text"
      },
      "source": [
        "# 데이터 전처리"
      ]
    },
    {
      "cell_type": "code",
      "metadata": {
        "id": "ienIuwr1DySt",
        "colab_type": "code",
        "outputId": "825158f9-46d5-4202-b0b7-8c81270b9f41",
        "colab": {
          "base_uri": "https://localhost:8080/",
          "height": 102
        }
      },
      "source": [
        "scaler = MinMaxScaler(feature_range=(0,1))\n",
        "dataset_train = scaler.fit_transform(dataset_train)\n",
        "dataset_train[:5]"
      ],
      "execution_count": 0,
      "outputs": [
        {
          "output_type": "execute_result",
          "data": {
            "text/plain": [
              "array([[0.23076923],\n",
              "       [0.23796348],\n",
              "       [0.23353625],\n",
              "       [0.23464305],\n",
              "       [0.24017709]])"
            ]
          },
          "metadata": {
            "tags": []
          },
          "execution_count": 13
        }
      ]
    },
    {
      "cell_type": "code",
      "metadata": {
        "id": "4e_qbK8rD3as",
        "colab_type": "code",
        "outputId": "0b03ede3-c2b6-4ae6-9c23-2ecf415908bf",
        "colab": {
          "base_uri": "https://localhost:8080/",
          "height": 102
        }
      },
      "source": [
        "dataset_test = scaler.transform(dataset_test)\n",
        "dataset_test[:5]"
      ],
      "execution_count": 0,
      "outputs": [
        {
          "output_type": "execute_result",
          "data": {
            "text/plain": [
              "array([[0.7094632 ],\n",
              "       [0.68594355],\n",
              "       [0.65273935],\n",
              "       [0.64997233],\n",
              "       [0.62091865]])"
            ]
          },
          "metadata": {
            "tags": []
          },
          "execution_count": 14
        }
      ]
    },
    {
      "cell_type": "markdown",
      "metadata": {
        "id": "4FfWWvR10rUm",
        "colab_type": "text"
      },
      "source": [
        "# 계산 구간 설정하기"
      ]
    },
    {
      "cell_type": "code",
      "metadata": {
        "id": "WKNg5a5RD6Fv",
        "colab_type": "code",
        "colab": {}
      },
      "source": [
        "def create_dataset(df):\n",
        "    x = []\n",
        "    y = []\n",
        "    for i in range(50, df.shape[0]):\n",
        "        x.append(df[i-50:i, 0])\n",
        "        y.append(df[i, 0])\n",
        "    x = np.array(x)\n",
        "    y = np.array(y)\n",
        "    return x,y"
      ],
      "execution_count": 0,
      "outputs": []
    },
    {
      "cell_type": "code",
      "metadata": {
        "id": "J-t9eOoZDR_5",
        "colab_type": "code",
        "outputId": "8222fb1c-a6ea-4e69-f292-ffd3a498a8f0",
        "colab": {
          "base_uri": "https://localhost:8080/",
          "height": 187
        }
      },
      "source": [
        "x_train, y_train = create_dataset(dataset_train)\n",
        "x_train[:1]"
      ],
      "execution_count": 0,
      "outputs": [
        {
          "output_type": "execute_result",
          "data": {
            "text/plain": [
              "array([[0.23076923, 0.23796348, 0.23353625, 0.23464305, 0.24017709,\n",
              "        0.23796348, 0.21195351, 0.18981738, 0.19756502, 0.20586608,\n",
              "        0.20863309, 0.21416713, 0.20254566, 0.22246818, 0.22966242,\n",
              "        0.22412839, 0.22357499, 0.20641948, 0.21195351, 0.21582734,\n",
              "        0.22080797, 0.22800221, 0.23851688, 0.23907028, 0.21914776,\n",
              "        0.21140011, 0.20199225, 0.21361372, 0.20586608, 0.20641948,\n",
              "        0.19811843, 0.18151633, 0.18926397, 0.17874931, 0.1931378 ,\n",
              "        0.18649696, 0.1936912 , 0.19092418, 0.20420587, 0.20033204,\n",
              "        0.18815717, 0.18926397, 0.18151633, 0.15495296, 0.1283896 ,\n",
              "        0.13004981, 0.1283896 , 0.1283896 , 0.13226342, 0.11455451]])"
            ]
          },
          "metadata": {
            "tags": []
          },
          "execution_count": 16
        }
      ]
    },
    {
      "cell_type": "code",
      "metadata": {
        "id": "BF9maNlrECGr",
        "colab_type": "code",
        "outputId": "deb44c4f-3be1-447a-dcb8-f4394172e065",
        "colab": {
          "base_uri": "https://localhost:8080/",
          "height": 187
        }
      },
      "source": [
        "x_test, y_test = create_dataset(dataset_test)\n",
        "x_test[:1]"
      ],
      "execution_count": 0,
      "outputs": [
        {
          "output_type": "execute_result",
          "data": {
            "text/plain": [
              "array([[0.7094632 , 0.68594355, 0.65273935, 0.64997233, 0.62091865,\n",
              "        0.62783619, 0.6126176 , 0.61815163, 0.65827338, 0.68594355,\n",
              "        0.67902601, 0.68456004, 0.70392916, 0.70254566, 0.70807969,\n",
              "        0.71223022, 0.7426674 , 0.72468179, 0.71776425, 0.68732706,\n",
              "        0.64028777, 0.66657443, 0.66934145, 0.65135584, 0.64167128,\n",
              "        0.65412286, 0.66934145, 0.65273935, 0.68179303, 0.70531267,\n",
              "        0.69701162, 0.70807969, 0.71638074, 0.6942446 , 0.6942446 ,\n",
              "        0.65827338, 0.64858882, 0.63198672, 0.6610404 , 0.62645268,\n",
              "        0.60431655, 0.62783619, 0.61815163, 0.63060321, 0.62506918,\n",
              "        0.62368567, 0.61123409, 0.60708356, 0.60016602, 0.5323741 ]])"
            ]
          },
          "metadata": {
            "tags": []
          },
          "execution_count": 17
        }
      ]
    },
    {
      "cell_type": "code",
      "metadata": {
        "id": "KbcoFcu0EQLv",
        "colab_type": "code",
        "colab": {}
      },
      "source": [
        "# LSTM에 사용하기 위해서 채널 추가하기\n",
        "x_train = np.reshape(x_train, (x_train.shape[0], x_train.shape[1], 1))\n",
        "x_test = np.reshape(x_test, (x_test.shape[0], x_test.shape[1], 1))"
      ],
      "execution_count": 0,
      "outputs": []
    },
    {
      "cell_type": "code",
      "metadata": {
        "id": "VGvvZafx0rU7",
        "colab_type": "code",
        "outputId": "f21d080a-1555-4595-c9da-f66cc2f11025",
        "colab": {
          "base_uri": "https://localhost:8080/",
          "height": 666
        }
      },
      "source": [
        "model = Sequential()\n",
        "model.add(LSTM(units=96, return_sequences=True, input_shape=(x_train.shape[1], 1)))\n",
        "model.add(Dropout(0.2))\n",
        "model.add(LSTM(units=96, return_sequences=True))\n",
        "model.add(Dropout(0.2))\n",
        "model.add(LSTM(units=96, return_sequences=True))\n",
        "model.add(Dropout(0.2))\n",
        "model.add(LSTM(units=96))\n",
        "model.add(Dropout(0.2))\n",
        "model.add(Dense(units=1))\n",
        "model.summary()"
      ],
      "execution_count": 0,
      "outputs": [
        {
          "output_type": "stream",
          "text": [
            "WARNING:tensorflow:From /usr/local/lib/python3.6/dist-packages/keras/backend/tensorflow_backend.py:66: The name tf.get_default_graph is deprecated. Please use tf.compat.v1.get_default_graph instead.\n",
            "\n",
            "WARNING:tensorflow:From /usr/local/lib/python3.6/dist-packages/keras/backend/tensorflow_backend.py:541: The name tf.placeholder is deprecated. Please use tf.compat.v1.placeholder instead.\n",
            "\n",
            "WARNING:tensorflow:From /usr/local/lib/python3.6/dist-packages/keras/backend/tensorflow_backend.py:4432: The name tf.random_uniform is deprecated. Please use tf.random.uniform instead.\n",
            "\n",
            "WARNING:tensorflow:From /usr/local/lib/python3.6/dist-packages/keras/backend/tensorflow_backend.py:148: The name tf.placeholder_with_default is deprecated. Please use tf.compat.v1.placeholder_with_default instead.\n",
            "\n",
            "WARNING:tensorflow:From /usr/local/lib/python3.6/dist-packages/keras/backend/tensorflow_backend.py:3733: calling dropout (from tensorflow.python.ops.nn_ops) with keep_prob is deprecated and will be removed in a future version.\n",
            "Instructions for updating:\n",
            "Please use `rate` instead of `keep_prob`. Rate should be set to `rate = 1 - keep_prob`.\n",
            "Model: \"sequential_1\"\n",
            "_________________________________________________________________\n",
            "Layer (type)                 Output Shape              Param #   \n",
            "=================================================================\n",
            "lstm_1 (LSTM)                (None, 50, 96)            37632     \n",
            "_________________________________________________________________\n",
            "dropout_1 (Dropout)          (None, 50, 96)            0         \n",
            "_________________________________________________________________\n",
            "lstm_2 (LSTM)                (None, 50, 96)            74112     \n",
            "_________________________________________________________________\n",
            "dropout_2 (Dropout)          (None, 50, 96)            0         \n",
            "_________________________________________________________________\n",
            "lstm_3 (LSTM)                (None, 50, 96)            74112     \n",
            "_________________________________________________________________\n",
            "dropout_3 (Dropout)          (None, 50, 96)            0         \n",
            "_________________________________________________________________\n",
            "lstm_4 (LSTM)                (None, 96)                74112     \n",
            "_________________________________________________________________\n",
            "dropout_4 (Dropout)          (None, 96)                0         \n",
            "_________________________________________________________________\n",
            "dense_1 (Dense)              (None, 1)                 97        \n",
            "=================================================================\n",
            "Total params: 260,065\n",
            "Trainable params: 260,065\n",
            "Non-trainable params: 0\n",
            "_________________________________________________________________\n"
          ],
          "name": "stdout"
        }
      ]
    },
    {
      "cell_type": "code",
      "metadata": {
        "id": "zvu7omrWEeF3",
        "colab_type": "code",
        "outputId": "6e2ac8f1-4323-4479-95b1-eaa649a25a89",
        "colab": {
          "base_uri": "https://localhost:8080/",
          "height": 71
        }
      },
      "source": [
        "model.compile(loss='mean_squared_error', optimizer='adam')"
      ],
      "execution_count": 0,
      "outputs": [
        {
          "output_type": "stream",
          "text": [
            "WARNING:tensorflow:From /usr/local/lib/python3.6/dist-packages/keras/optimizers.py:793: The name tf.train.Optimizer is deprecated. Please use tf.compat.v1.train.Optimizer instead.\n",
            "\n"
          ],
          "name": "stdout"
        }
      ]
    },
    {
      "cell_type": "code",
      "metadata": {
        "id": "Y7JvjK4TEhPw",
        "colab_type": "code",
        "outputId": "d379073d-267c-4fc2-e8d7-d7e02cbcf854",
        "colab": {
          "base_uri": "https://localhost:8080/",
          "height": 1000
        }
      },
      "source": [
        "model.fit(x_train, y_train, epochs=50, batch_size=32)"
      ],
      "execution_count": 0,
      "outputs": [
        {
          "output_type": "stream",
          "text": [
            "WARNING:tensorflow:From /usr/local/lib/python3.6/dist-packages/tensorflow_core/python/ops/math_grad.py:1424: where (from tensorflow.python.ops.array_ops) is deprecated and will be removed in a future version.\n",
            "Instructions for updating:\n",
            "Use tf.where in 2.0, which has the same broadcast rule as np.where\n",
            "WARNING:tensorflow:From /usr/local/lib/python3.6/dist-packages/keras/backend/tensorflow_backend.py:1033: The name tf.assign_add is deprecated. Please use tf.compat.v1.assign_add instead.\n",
            "\n",
            "WARNING:tensorflow:From /usr/local/lib/python3.6/dist-packages/keras/backend/tensorflow_backend.py:1020: The name tf.assign is deprecated. Please use tf.compat.v1.assign instead.\n",
            "\n",
            "WARNING:tensorflow:From /usr/local/lib/python3.6/dist-packages/keras/backend/tensorflow_backend.py:3005: The name tf.Session is deprecated. Please use tf.compat.v1.Session instead.\n",
            "\n",
            "Epoch 1/50\n",
            "WARNING:tensorflow:From /usr/local/lib/python3.6/dist-packages/keras/backend/tensorflow_backend.py:190: The name tf.get_default_session is deprecated. Please use tf.compat.v1.get_default_session instead.\n",
            "\n",
            "WARNING:tensorflow:From /usr/local/lib/python3.6/dist-packages/keras/backend/tensorflow_backend.py:197: The name tf.ConfigProto is deprecated. Please use tf.compat.v1.ConfigProto instead.\n",
            "\n",
            "WARNING:tensorflow:From /usr/local/lib/python3.6/dist-packages/keras/backend/tensorflow_backend.py:207: The name tf.global_variables is deprecated. Please use tf.compat.v1.global_variables instead.\n",
            "\n",
            "WARNING:tensorflow:From /usr/local/lib/python3.6/dist-packages/keras/backend/tensorflow_backend.py:216: The name tf.is_variable_initialized is deprecated. Please use tf.compat.v1.is_variable_initialized instead.\n",
            "\n",
            "WARNING:tensorflow:From /usr/local/lib/python3.6/dist-packages/keras/backend/tensorflow_backend.py:223: The name tf.variables_initializer is deprecated. Please use tf.compat.v1.variables_initializer instead.\n",
            "\n",
            "1170/1170 [==============================] - 13s 11ms/step - loss: 0.0322\n",
            "Epoch 2/50\n",
            "1170/1170 [==============================] - 11s 9ms/step - loss: 0.0038\n",
            "Epoch 3/50\n",
            "1170/1170 [==============================] - 11s 9ms/step - loss: 0.0036\n",
            "Epoch 4/50\n",
            "1170/1170 [==============================] - 11s 9ms/step - loss: 0.0031\n",
            "Epoch 5/50\n",
            "1170/1170 [==============================] - 11s 10ms/step - loss: 0.0031\n",
            "Epoch 6/50\n",
            "1170/1170 [==============================] - 11s 9ms/step - loss: 0.0028\n",
            "Epoch 7/50\n",
            "1170/1170 [==============================] - 11s 9ms/step - loss: 0.0035\n",
            "Epoch 8/50\n",
            "1170/1170 [==============================] - 11s 10ms/step - loss: 0.0029\n",
            "Epoch 9/50\n",
            "1170/1170 [==============================] - 11s 9ms/step - loss: 0.0030\n",
            "Epoch 10/50\n",
            "1170/1170 [==============================] - 10s 9ms/step - loss: 0.0027\n",
            "Epoch 11/50\n",
            "1170/1170 [==============================] - 11s 9ms/step - loss: 0.0027\n",
            "Epoch 12/50\n",
            "1170/1170 [==============================] - 11s 9ms/step - loss: 0.0027\n",
            "Epoch 13/50\n",
            "1170/1170 [==============================] - 11s 9ms/step - loss: 0.0025\n",
            "Epoch 14/50\n",
            "1170/1170 [==============================] - 11s 10ms/step - loss: 0.0023\n",
            "Epoch 15/50\n",
            "1170/1170 [==============================] - 10s 9ms/step - loss: 0.0026\n",
            "Epoch 16/50\n",
            "1170/1170 [==============================] - 11s 10ms/step - loss: 0.0022\n",
            "Epoch 17/50\n",
            "1170/1170 [==============================] - 10s 9ms/step - loss: 0.0025\n",
            "Epoch 18/50\n",
            "1170/1170 [==============================] - 10s 9ms/step - loss: 0.0025\n",
            "Epoch 19/50\n",
            "1170/1170 [==============================] - 11s 10ms/step - loss: 0.0031\n",
            "Epoch 20/50\n",
            "1170/1170 [==============================] - 11s 9ms/step - loss: 0.0022\n",
            "Epoch 21/50\n",
            "1170/1170 [==============================] - 11s 10ms/step - loss: 0.0020\n",
            "Epoch 22/50\n",
            "1170/1170 [==============================] - 10s 9ms/step - loss: 0.0020\n",
            "Epoch 23/50\n",
            "1170/1170 [==============================] - 10s 9ms/step - loss: 0.0022\n",
            "Epoch 24/50\n",
            "1170/1170 [==============================] - 11s 9ms/step - loss: 0.0022\n",
            "Epoch 25/50\n",
            "1170/1170 [==============================] - 11s 10ms/step - loss: 0.0020\n",
            "Epoch 26/50\n",
            "1170/1170 [==============================] - 11s 9ms/step - loss: 0.0023\n",
            "Epoch 27/50\n",
            "1170/1170 [==============================] - 11s 9ms/step - loss: 0.0023\n",
            "Epoch 28/50\n",
            "1170/1170 [==============================] - 11s 9ms/step - loss: 0.0021\n",
            "Epoch 29/50\n",
            "1170/1170 [==============================] - 11s 9ms/step - loss: 0.0018\n",
            "Epoch 30/50\n",
            "1170/1170 [==============================] - 11s 10ms/step - loss: 0.0017\n",
            "Epoch 31/50\n",
            "1170/1170 [==============================] - 11s 10ms/step - loss: 0.0018\n",
            "Epoch 32/50\n",
            "1170/1170 [==============================] - 10s 9ms/step - loss: 0.0016\n",
            "Epoch 33/50\n",
            "1170/1170 [==============================] - 11s 9ms/step - loss: 0.0017\n",
            "Epoch 34/50\n",
            "1170/1170 [==============================] - 11s 9ms/step - loss: 0.0022\n",
            "Epoch 35/50\n",
            "1170/1170 [==============================] - 11s 10ms/step - loss: 0.0018\n",
            "Epoch 36/50\n",
            "1170/1170 [==============================] - 11s 9ms/step - loss: 0.0018\n",
            "Epoch 37/50\n",
            "1170/1170 [==============================] - 11s 9ms/step - loss: 0.0017\n",
            "Epoch 38/50\n",
            "1170/1170 [==============================] - 11s 9ms/step - loss: 0.0018\n",
            "Epoch 39/50\n",
            "1170/1170 [==============================] - 10s 9ms/step - loss: 0.0015\n",
            "Epoch 40/50\n",
            "1170/1170 [==============================] - 10s 9ms/step - loss: 0.0017\n",
            "Epoch 41/50\n",
            "1170/1170 [==============================] - 11s 10ms/step - loss: 0.0018\n",
            "Epoch 42/50\n",
            "1170/1170 [==============================] - 11s 9ms/step - loss: 0.0018\n",
            "Epoch 43/50\n",
            "1170/1170 [==============================] - 10s 9ms/step - loss: 0.0016\n",
            "Epoch 44/50\n",
            "1170/1170 [==============================] - 11s 9ms/step - loss: 0.0016\n",
            "Epoch 45/50\n",
            "1170/1170 [==============================] - 11s 10ms/step - loss: 0.0014\n",
            "Epoch 46/50\n",
            "1170/1170 [==============================] - 10s 9ms/step - loss: 0.0016\n",
            "Epoch 47/50\n",
            "1170/1170 [==============================] - 11s 10ms/step - loss: 0.0017\n",
            "Epoch 48/50\n",
            "1170/1170 [==============================] - 11s 9ms/step - loss: 0.0019\n",
            "Epoch 49/50\n",
            "1170/1170 [==============================] - 11s 9ms/step - loss: 0.0016\n",
            "Epoch 50/50\n",
            "1170/1170 [==============================] - 11s 10ms/step - loss: 0.0013\n"
          ],
          "name": "stdout"
        },
        {
          "output_type": "execute_result",
          "data": {
            "text/plain": [
              "<keras.callbacks.History at 0x7f41ee2ba0f0>"
            ]
          },
          "metadata": {
            "tags": []
          },
          "execution_count": 21
        }
      ]
    },
    {
      "cell_type": "code",
      "metadata": {
        "id": "5HRtOfWpEqXq",
        "colab_type": "code",
        "colab": {}
      },
      "source": [
        "predictions = model.predict(x_test)\n",
        "predictions = scaler.inverse_transform(predictions)"
      ],
      "execution_count": 0,
      "outputs": []
    },
    {
      "cell_type": "code",
      "metadata": {
        "id": "HP7GL-ZkHITz",
        "colab_type": "code",
        "outputId": "a4e3766c-4277-4a52-e7a5-1cba23ab30c2",
        "colab": {
          "base_uri": "https://localhost:8080/",
          "height": 554
        }
      },
      "source": [
        "fig, ax = plt.subplots(figsize=(18,9))\n",
        "plt.plot(data, color='red',  label=\"True Price\")\n",
        "ax.plot(range(len(y_train)+50,len(y_train)+50+len(predictions)),predictions, color='blue', label='Predicted Testing Price')\n",
        "plt.legend()"
      ],
      "execution_count": 0,
      "outputs": [
        {
          "output_type": "execute_result",
          "data": {
            "text/plain": [
              "<matplotlib.legend.Legend at 0x7f41883ffe80>"
            ]
          },
          "metadata": {
            "tags": []
          },
          "execution_count": 23
        },
        {
          "output_type": "display_data",
          "data": {
            "image/png": "[encoded data removed]",
            "text/plain": [
              "<Figure size 1296x648 with 1 Axes>"
            ]
          },
          "metadata": {
            "tags": []
          }
        }
      ]
    },
    {
      "cell_type": "code",
      "metadata": {
        "id": "jJcgIotDEzoN",
        "colab_type": "code",
        "outputId": "e1233295-c330-43f7-aff1-c4ec95fec988",
        "colab": {
          "base_uri": "https://localhost:8080/",
          "height": 554
        }
      },
      "source": [
        "y_test_scaled = scaler.inverse_transform(y_test.reshape(-1, 1))\n",
        "\n",
        "fig, ax = plt.subplots(figsize=(18,9))\n",
        "ax.plot(y_test_scaled, color='red', label='True Testing Price')\n",
        "plt.plot(predictions, color='blue', label='Predicted Testing Price')\n",
        "plt.legend()"
      ],
      "execution_count": 0,
      "outputs": [
        {
          "output_type": "execute_result",
          "data": {
            "text/plain": [
              "<matplotlib.legend.Legend at 0x7f418838fc50>"
            ]
          },
          "metadata": {
            "tags": []
          },
          "execution_count": 24
        },
        {
          "output_type": "display_data",
          "data": {
            "image/png": "[encoded data removed]",
            "text/plain": [
              "<Figure size 1296x648 with 1 Axes>"
            ]
          },
          "metadata": {
            "tags": []
          }
        }
      ]
    }
  ]
}